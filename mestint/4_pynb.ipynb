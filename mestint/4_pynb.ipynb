{
  "cells": [
    {
      "cell_type": "code",
      "execution_count": 1,
      "metadata": {
        "colab": {
          "base_uri": "https://localhost:8080/"
        },
        "id": "jnNmvQA0wu7J",
        "outputId": "bd4fdb69-1593-43bb-8fca-7fc35842f7a0"
      },
      "outputs": [
        {
          "name": "stdout",
          "output_type": "stream",
          "text": [
            "1\n",
            "2\n",
            "deque([3, 4])\n"
          ]
        }
      ],
      "source": [
        "from collections import deque\n",
        "\n",
        "que = deque([1,2,3,4])\n",
        "\n",
        "for i in range(2):\n",
        "  print(que.popleft())\n",
        "\n",
        "print(que)"
      ]
    },
    {
      "cell_type": "code",
      "execution_count": 2,
      "metadata": {
        "id": "dAMW8W898gZR"
      },
      "outputs": [],
      "source": [
        "from ai.cup3 import Cup3\n",
        "\n",
        "c = Cup3((5,0,0),[(4,1,0),(4,0,1)])"
      ]
    },
    {
      "cell_type": "code",
      "execution_count": 3,
      "metadata": {
        "colab": {
          "base_uri": "https://localhost:8080/"
        },
        "id": "ZsOqNTeg7oMu",
        "outputId": "56387a6f-8db7-47ff-83a6-bece260ff1db"
      },
      "outputs": [
        {
          "data": {
            "text/plain": [
              "(3, '111', '333')"
            ]
          },
          "execution_count": 3,
          "metadata": {},
          "output_type": "execute_result"
        }
      ],
      "source": [
        "from ai.hanoi import Hanoi\n",
        "\n",
        "h = Hanoi(3)\n",
        "h.size, h.initial, h.goal"
      ]
    },
    {
      "cell_type": "code",
      "execution_count": 4,
      "metadata": {
        "colab": {
          "base_uri": "https://localhost:8080/"
        },
        "id": "NLqpQ08U7woC",
        "outputId": "d2063dd9-1169-42d8-b2a2-0e7469cbc9fd"
      },
      "outputs": [
        {
          "name": "stdout",
          "output_type": "stream",
          "text": [
            "['5-->3', '3-->2', '2-->5']\n"
          ]
        }
      ],
      "source": [
        "from ai.search import breadth_first_tree_search\n",
        "\n",
        "print(breadth_first_tree_search(c).solution())"
      ]
    },
    {
      "cell_type": "code",
      "execution_count": 5,
      "metadata": {
        "colab": {
          "base_uri": "https://localhost:8080/"
        },
        "id": "IQgj0Aes7ayx",
        "outputId": "75351e4f-dccb-4ebd-aa57-f53179dfee74"
      },
      "outputs": [
        {
          "name": "stdout",
          "output_type": "stream",
          "text": [
            "[State(disk=0, char='3'), State(disk=1, char='2'), State(disk=0, char='2'), State(disk=2, char='3'), State(disk=0, char='1'), State(disk=1, char='3'), State(disk=0, char='3')]\n"
          ]
        }
      ],
      "source": [
        "from ai.search import breadth_first_tree_search\n",
        "\n",
        "print(breadth_first_tree_search(h).solution())"
      ]
    },
    {
      "cell_type": "code",
      "execution_count": 6,
      "metadata": {
        "colab": {
          "base_uri": "https://localhost:8080/"
        },
        "id": "WRU2NZZ_Awv2",
        "outputId": "3ca62f77-b0eb-4b5c-a2b9-45e0d1d3c8d7"
      },
      "outputs": [
        {
          "name": "stdout",
          "output_type": "stream",
          "text": [
            "4\n",
            "3\n",
            "[1, 2]\n"
          ]
        }
      ],
      "source": [
        "stack = [1,2,3,4]\n",
        "\n",
        "for i in range(2):\n",
        "  print(stack.pop())\n",
        "\n",
        "print(stack)"
      ]
    },
    {
      "cell_type": "code",
      "execution_count": 7,
      "metadata": {
        "id": "6_imNuEYDJP6"
      },
      "outputs": [],
      "source": [
        "from ai.node import Node\n",
        "def depth_first_graph_search(problem):\n",
        "  frontier = [(Node(problem.initial))]\n",
        "\n",
        "  explored = set()\n",
        "\n",
        "  while frontier:\n",
        "    node = frontier.pop()\n",
        "    if problem.goal_test(node.state):\n",
        "      return node\n",
        "    explored.add(node.state)\n",
        "    frontier.extend(child for child in node.expand(problem) \n",
        "    if child.state not in explored and child not in frontier)"
      ]
    },
    {
      "cell_type": "code",
      "execution_count": 8,
      "metadata": {
        "colab": {
          "base_uri": "https://localhost:8080/"
        },
        "id": "XXhnS4XpB6CV",
        "outputId": "47b9cb62-9357-4488-8653-90fb65669182"
      },
      "outputs": [
        {
          "name": "stdout",
          "output_type": "stream",
          "text": [
            "['5-->2', '2-->3', '5-->2', '2-->3', '3-->5']\n"
          ]
        }
      ],
      "source": [
        "from ai.search import depth_first_graph_search\n",
        "\n",
        "print(depth_first_graph_search(c).solution())"
      ]
    },
    {
      "cell_type": "code",
      "execution_count": 9,
      "metadata": {
        "colab": {
          "base_uri": "https://localhost:8080/"
        },
        "id": "4_rogUtnB7zV",
        "outputId": "abbfdfb3-7cc2-4d48-f3f5-0989764c1323"
      },
      "outputs": [
        {
          "name": "stdout",
          "output_type": "stream",
          "text": [
            "[State(disk=0, char='3'), State(disk=1, char='2'), State(disk=0, char='2'), State(disk=2, char='3'), State(disk=0, char='3'), State(disk=1, char='1'), State(disk=0, char='2'), State(disk=1, char='3'), State(disk=0, char='3')]\n"
          ]
        }
      ],
      "source": [
        "from ai.search import depth_first_graph_search\n",
        "\n",
        "print(depth_first_graph_search(h).solution())"
      ]
    }
  ],
  "metadata": {
    "colab": {
      "provenance": []
    },
    "kernelspec": {
      "display_name": "Python 3",
      "name": "python3"
    },
    "language_info": {
      "name": "python"
    }
  },
  "nbformat": 4,
  "nbformat_minor": 0
}
