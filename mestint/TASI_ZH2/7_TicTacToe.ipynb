{
  "cells": [
    {
      "cell_type": "code",
      "execution_count": 1,
      "metadata": {
        "id": "2kDUXgzW50ih"
      },
      "outputs": [],
      "source": [
        "class Game:\n",
        "\n",
        "  def actions(self, state):\n",
        "    raise NotImplementedError\n",
        "\n",
        "  def result(self, state, move):\n",
        "    raise NotImplementedError\n",
        "\n",
        "  def utility(self, state, player):\n",
        "    raise NotImplementedError\n",
        "\n",
        "  def terminal_test(self, state):\n",
        "    return not self.actions(state)\n",
        "  \n",
        "  def to_move(self, state):\n",
        "    return state.to_move\n",
        "\n",
        "  def display(self, state):\n",
        "    print(state)\n",
        "\n",
        "  def __repr__(self):\n",
        "    return '<{}>'.format(self.__class__.__name__)\n",
        "\n",
        "  def play_game(self, *players):\n",
        "    #kezdőállapot beállítása\n",
        "    state = self.initial\n",
        "    #amíg a végső állapotba nem lépünk\n",
        "    while True:\n",
        "      #veszünk egy játékost\n",
        "      for player in players:\n",
        "        #egy lépés a választott játékostól\n",
        "        move = player(self, state)\n",
        "        #a módosított állapot\n",
        "        state = self.result(state, move)\n",
        "        if self.terminal_test(state):\n",
        "          #ha végső állapot van akkor kiírja végeredményt\n",
        "          self.display(state)\n",
        "          return self.utility(state, self.to_move(self.initial))"
      ]
    },
    {
      "cell_type": "code",
      "execution_count": 2,
      "metadata": {
        "id": "5DMp17NA8blZ"
      },
      "outputs": [],
      "source": [
        "from collections import namedtuple\n",
        "\n",
        "GameState = namedtuple('GameState', 'to_move, utility, board, moves')\n",
        "\n",
        "class TicTacToe(Game):\n",
        "  def __init__(self, h=3, v=3, k=3):\n",
        "    self.h = h\n",
        "    self.v = v\n",
        "    self.k = k\n",
        "    moves = [(x,y) for x in range(1, h+1) for y in range(1, v+1)]\n",
        "    self.initial = GameState(to_move='X', utility=0, board={}, moves=moves)\n",
        "\n",
        "  def actions(selff, state):\n",
        "    return state.moves\n",
        "\n",
        "  def result(self, state, move):\n",
        "    if move not in state.moves:\n",
        "      return state\n",
        "\n",
        "    board = state.board.copy()\n",
        "\n",
        "    board[move] = state.to_move\n",
        "\n",
        "    moves = list(state.moves)\n",
        "    moves.remove(move)\n",
        "\n",
        "    return GameState(to_move=('O' if state.to_move == 'X' else 'X'), utility=self.computer_utility(board, move, state.to_move), board=board, moves=moves)\n",
        "\n",
        "  def utility(self, state, player):\n",
        "    return state.utility if player == 'X' else -state.utility\n",
        "\n",
        "  def terminal_test(self, state):\n",
        "    return state.utility != 0 or len(state.moves) == 0\n",
        "\n",
        "  def display(self, state):\n",
        "    board = state.board\n",
        "\n",
        "    for x in range(1, self.h + 1):\n",
        "      for y in range(1, self.v + 1):\n",
        "        print(board.get((x,y), '.'), end=' ')\n",
        "      print()\n",
        "\n",
        "  def computer_utility(self, board, move, player):\n",
        "    if (self.k_in_row(board, move, player, (0,1)) or\n",
        "        self.k_in_row(board, move, player, (1,0)) or\n",
        "        self.k_in_row(board, move, player, (1,-1)) or\n",
        "        self.k_in_row(board, move, player, (0,1))):\n",
        "      return +1 if player == 'X' else -1\n",
        "\n",
        "    else:\n",
        "      return 0\n",
        "\n",
        "  def k_in_row(self, board, move, player, delta_x_y):\n",
        "    (delta_x, delta_y) = delta_x_y\n",
        "    x, y= move\n",
        "    n = 0\n",
        "\n",
        "    while board.get((x, y)) == player:\n",
        "      n += 1\n",
        "      x, y = x + delta_x, y + delta_y\n",
        "    x,y = move\n",
        "\n",
        "    while board.get((x, y)) == player:\n",
        "      n += 1\n",
        "      x,y = x - delta_x, y - delta_y\n",
        "    n -= 1\n",
        "\n",
        "    return n >= self.k"
      ]
    },
    {
      "cell_type": "code",
      "execution_count": 3,
      "metadata": {
        "colab": {
          "base_uri": "https://localhost:8080/"
        },
        "id": "P-POrM6j4PVt",
        "outputId": "3c24d5c0-d4b1-4209-c349-1bae3bbe54c9"
      },
      "outputs": [
        {
          "name": "stdout",
          "output_type": "stream",
          "text": [
            ". . . \n",
            ". . . \n",
            ". . . \n"
          ]
        }
      ],
      "source": [
        "ttt= TicTacToe()\n",
        "ttt.display(ttt.initial)"
      ]
    },
    {
      "cell_type": "code",
      "execution_count": 4,
      "metadata": {
        "colab": {
          "base_uri": "https://localhost:8080/"
        },
        "id": "nJIn5xiPErby",
        "outputId": "01e983ec-3bf1-4207-fd98-ea466d6fde85"
      },
      "outputs": [
        {
          "name": "stdout",
          "output_type": "stream",
          "text": [
            "X O X \n",
            "O . O \n",
            "X . . \n"
          ]
        }
      ],
      "source": [
        "my_state = GameState(to_move = 'X', utility= '0', board= {(1,1):'X', (1,2):'O', (1,3):'X', (2,1):'O', (2,3):'O', (3,1):'X'}, moves= [(2,2), (3,2), (3,3)])\n",
        "ttt.display(my_state)"
      ]
    },
    {
      "cell_type": "code",
      "execution_count": 5,
      "metadata": {
        "colab": {
          "base_uri": "https://localhost:8080/"
        },
        "id": "CDr0JdUiGIzt",
        "outputId": "b9bf924c-9c92-45d0-ab29-68146e824774"
      },
      "outputs": [
        {
          "data": {
            "text/plain": [
              "(3, 2)"
            ]
          },
          "execution_count": 5,
          "metadata": {},
          "output_type": "execute_result"
        }
      ],
      "source": [
        "import random\n",
        "\n",
        "def random_player(game, state):\n",
        "  return random.choice(game.actions(state)) if game.actions(state) else None\n",
        "\n",
        "random_player(ttt, my_state)"
      ]
    },
    {
      "cell_type": "code",
      "execution_count": 6,
      "metadata": {
        "colab": {
          "base_uri": "https://localhost:8080/"
        },
        "id": "1E5i7HWBH6ws",
        "outputId": "56aefd21-9bf0-4928-d95f-011f4f3c8c69"
      },
      "outputs": [
        {
          "name": "stdout",
          "output_type": "stream",
          "text": [
            "O X O \n",
            "X X O \n",
            "O X X \n"
          ]
        },
        {
          "data": {
            "text/plain": [
              "1"
            ]
          },
          "execution_count": 6,
          "metadata": {},
          "output_type": "execute_result"
        }
      ],
      "source": [
        "ttt.play_game(random_player, random_player)"
      ]
    },
    {
      "cell_type": "code",
      "execution_count": 10,
      "metadata": {
        "id": "MCmVhz7EJnbK"
      },
      "outputs": [],
      "source": [
        "import numpy as np\n",
        "\n",
        "def minmax(state, game):\n",
        "  player = game.to_move(state)\n",
        "\n",
        "  def max_value(state):\n",
        "    if game.terminal_test(state):\n",
        "      return game.utility(state, player)\n",
        "\n",
        "    v = -np.inf\n",
        "\n",
        "    for a in game.actions(state):\n",
        "      v = max(v, min_value(game.result(state, a)))\n",
        "    return v\n",
        "\n",
        "  def min_value(state):\n",
        "    if game.terminal_test(state):\n",
        "      return game.utility(state, player)\n",
        "    v = np.inf\n",
        "\n",
        "    for a in game.actions(state):\n",
        "      v = min(v, max_value(game.result(state, a)))\n",
        "    return v\n",
        "\n",
        "  return max(game.actions(state), key = lambda a: min_value(game.result(state,a)))"
      ]
    },
    {
      "cell_type": "code",
      "execution_count": 11,
      "metadata": {
        "id": "b2pEsGDOIkuQ"
      },
      "outputs": [],
      "source": [
        "def minmax_player(game, state):\n",
        "  return minmax(state, game)"
      ]
    },
    {
      "cell_type": "code",
      "execution_count": 15,
      "metadata": {
        "colab": {
          "base_uri": "https://localhost:8080/"
        },
        "id": "pUBj7iDqIvDH",
        "outputId": "3773663f-00db-4c89-f509-2e74dfa32c9f"
      },
      "outputs": [
        {
          "name": "stdout",
          "output_type": "stream",
          "text": [
            "X X X \n",
            ". O O \n",
            "X O . \n"
          ]
        },
        {
          "data": {
            "text/plain": [
              "1"
            ]
          },
          "execution_count": 15,
          "metadata": {},
          "output_type": "execute_result"
        }
      ],
      "source": [
        "ttt.play_game(minmax_player, random_player)"
      ]
    },
    {
      "cell_type": "code",
      "execution_count": null,
      "metadata": {},
      "outputs": [],
      "source": [
        "def alpha_beta_search(state,game):\n",
        "    #alfa beta vágás alapján működő keresés implementációja\n",
        "\n",
        "    #játéko szabad lépéseinek lekérdezése. Hova léphet?\n",
        "    player = game.to_move(state)\n",
        "\n",
        "    def max_value(state,alpha,beta):\n",
        "        #ha a játék végállás akkor vissza adjk az eredményt\n",
        "        if game.terminal_test(state):\n",
        "            return game.utility(state,player)\n",
        "        \n",
        "        v = -np.inf\n",
        "\n",
        "        #lehetésges lépések alkalmazása\n",
        "        for a in game.actions(state):\n",
        "            #maximum meghatározása\n",
        "            v = max(v,min_value(game.result(state,a)))\n",
        "\n",
        "        #ha nagyobb mint a zeddigi beta kkor vissza adjuk\n",
        "            if v >= beta:\n",
        "                return v\n",
        "            alpha=max(alpha,v)\n",
        "        return v\n",
        "    \n",
        "    def min_value(state,alpha,beta):\n",
        "        #ha a játék végállás akkor vissza adjk az eredményt\n",
        "        if game.terminal_test(state):\n",
        "            return game.utility(state,player)\n",
        "        \n",
        "        v = np.inf\n",
        "\n",
        "        #lehetésges lépések alkalmazása\n",
        "        for a in game.actions(state):\n",
        "            #maximum meghatározása\n",
        "            v = min(v,max_value(game.result(state,a),alpha,beta))\n",
        "            \n",
        "        #ha nagyobb mint a zeddigi beta kkor vissza adjuk\n",
        "            if v <= beta:\n",
        "                return v\n",
        "            beta=max(beta,v)\n",
        "        return v\n",
        "    \n",
        "    #alfa-beta kereses\n",
        "    #legjobb eredmeny\n",
        "    best_score = -np.inf\n",
        "    #beta kereses erteke\n",
        "    beta = np.inf\n",
        "    #legjobb lepes\n",
        "    best_action = None\n",
        "    for a in game.actions(state):\n",
        "        v = min_value(game.result(state,a),best_score,beta)\n",
        "        if v > best_score:\n",
        "            best_score = v\n",
        "            best_action = a\n",
        "    return best_action"
      ]
    }
  ],
  "metadata": {
    "colab": {
      "provenance": []
    },
    "kernelspec": {
      "display_name": "Python 3",
      "name": "python3"
    },
    "language_info": {
      "name": "python"
    }
  },
  "nbformat": 4,
  "nbformat_minor": 0
}
