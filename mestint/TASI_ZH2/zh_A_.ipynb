{
  "cells": [
    {
      "attachments": {},
      "cell_type": "markdown",
      "metadata": {
        "id": "1gvL5ewa7KkF"
      },
      "source": [
        "# 1. ZH A csoport - Összesen 10 pont - 90 perc áll rendelkezésre a megoldáshoz"
      ]
    },
    {
      "attachments": {},
      "cell_type": "markdown",
      "metadata": {
        "id": "lHXUJdnO7KkI"
      },
      "source": [
        "## Azonosító adatok"
      ]
    },
    {
      "attachments": {},
      "cell_type": "markdown",
      "metadata": {
        "id": "K2XX7KYv7KkI"
      },
      "source": [
        "- NÉV: \n",
        "- NEPTUN KÓD: \n",
        "- EMAIL CÍM: "
      ]
    },
    {
      "attachments": {},
      "cell_type": "markdown",
      "metadata": {
        "id": "fxGksaZS7KkJ"
      },
      "source": [
        "## Feladatok"
      ]
    },
    {
      "attachments": {},
      "cell_type": "markdown",
      "metadata": {
        "id": "hwk3sDzX7KkJ"
      },
      "source": [
        "### 1. Feladat (1. pont)\n",
        "\n",
        "Az alábbi ábra egy lehetséges játék eredményének állását reprezentálja egy fa struktúrában az adott játékos szempontjából. \n",
        "Sorolja fel azokat a levél elemeket amelyek Alfa-Béta vágás algoritmusát használv nem kerülnek bejárásra."
      ]
    },
    {
      "attachments": {},
      "cell_type": "markdown",
      "metadata": {
        "id": "k-cnr_jZ7KkJ"
      },
      "source": [
        "<img src=\"data:image/png;base64,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\" />"
      ]
    },
    {
      "attachments": {},
      "cell_type": "markdown",
      "metadata": {
        "id": "dy8g2bfjDy-h"
      },
      "source": [
        "Nem hiszem h jó: -3,-37,-41,-20,-35\n"
      ]
    },
    {
      "attachments": {},
      "cell_type": "markdown",
      "metadata": {
        "id": "DwJ_RMCw7KkM"
      },
      "source": [
        "### 2. Feladat (5. pont)\n",
        "\n",
        "Készíts egy Neurális hálózatott a megadott tervrajz alapján, ami betanul a fashion_mnist adathalmazon. Kövesse a feladat instrukcióit."
      ]
    },
    {
      "attachments": {},
      "cell_type": "markdown",
      "metadata": {
        "id": "VWsaelRJ7KkM"
      },
      "source": [
        "#### 2. Feladat - Adatok letöltése"
      ]
    },
    {
      "cell_type": "code",
      "execution_count": 1,
      "metadata": {
        "id": "DS7GNw_n7KkM"
      },
      "outputs": [],
      "source": [
        "import pandas as pd\n",
        "import tensorflow_datasets as tfds\n",
        "from tqdm import tqdm"
      ]
    },
    {
      "cell_type": "code",
      "execution_count": 2,
      "metadata": {
        "colab": {
          "base_uri": "https://localhost:8080/",
          "height": 148,
          "referenced_widgets": [
            "b41a39ccc0ef4c6db94fc524fc873451",
            "b3dde7503c63451182720912f6689bed",
            "4283880c526644b6bbd4498a2f858dee",
            "162ccead90c34560a42955009fd012f3",
            "9f5a74c385d14511ac0746bee5e636df",
            "f91147d9d2be48b1b859e51a103d8ab6",
            "9d3ce32aa72042bcacbbe8c2c53c11c2",
            "480716b931a94183af4f99aeedee983b",
            "4c3bff4e412940f884d1fa78ffd1a4b8",
            "e22e629c3ca0473c8b22f4e124decba7",
            "557c1d536a15483e98db006f43dce020",
            "3a43a3c0e6894401a2372921ba184619",
            "c7640d47aa594539aee1c6cc1262a33c",
            "c848faf5ddaf45c1a8d73e847594ae97",
            "9792491d15e9479f85594aaa292f1508",
            "48b2a0d95fdd48ef8827bcff6665ab9f",
            "97dd6361fa0a401ea31d321db2bc3fb9",
            "e968985759ac40fea8bc60f30ea06ee1",
            "da1e79bbcd994c719e5524087ee7f65b",
            "dbd4eb2227754c7aa7429f72c442f5af",
            "9d0cc1cc61b040fa9ced7ab9498827eb",
            "1209049c63744f1b9b96349da8f447b8",
            "488820ff1a0a4f3e9933c662c9f81741",
            "d236cab2f5504408843599693cfee4f1",
            "53ff135cf0a047b08f29b96cb308e5eb",
            "9cf07e7f786b446f966f2fb5a3873bd4",
            "763f11673a534b8db7b23329ef0ae269",
            "3ee94364f5f94edea445368c3c74080d",
            "a77af069b26e4873b1c03ada85d9cb9f",
            "7ad8129fafd44d30ba2cd28b1002ad20",
            "5b0aa68a6818401e9339764b7fce1846",
            "6598ca5294a14afeaf39333d6e2e5934",
            "8e2bf995d7a34f74bcda98fe447fbdb0",
            "050d2d4118844d42b183566bef3592e0",
            "c063205b890441f5bd4f4b042066932c",
            "e8d97178597847c19e83eb7f69ad589f",
            "9dca8fa5905147e89f1e3ef46d56e959",
            "b4244364f20243f691d217dbbc4fded3",
            "ab0869581c5440a48292ad517e29abf0",
            "18d0fca32c204c2d8d06e9db69e0c5c4",
            "4c76e684fce043c3b00c502f9edee7ba",
            "c99418e5a97c4c3c824a24b3b6cfdcdc",
            "846bc035281a49ab9f5060024f63aeb3",
            "6517b258dcf1498ebe98b5fed126deda",
            "530c7f73a1c04b67b3f558f0f3a79b27",
            "cfcccab99ff94043a46c4a3fbd2bbf0b",
            "b2f8e2f64a0f4757a1994c6f3bf97181",
            "e31429cc58c144e9a2a07c489dcf25cf",
            "2ec8a518fb894687bf5c068c203fe52c",
            "467215b236ee4a729ad619b0c3919552",
            "7d6a8300450d49ed867c7b87c960cf88",
            "cd7dab099bbb471f80bd8d6132b703f2",
            "06903e8bced246feab7a1756553ae747",
            "4a2c571707704f7c9a8309d6e23db53e",
            "6e7c0f7a70b048e28fec2213a2ddfc2d",
            "1657ee431fca44269f27d87207e724ba",
            "b2eeb5bd5bfb481abd1292b53882dfdd",
            "489ef9e8905c43108e0e48f8f57fc412",
            "4a26254a555e4797bac4de46635760b8",
            "a44efbaeacde40c9a168340af98a9771",
            "705e9dd7ce3243f1b83855fe0c2a9846",
            "8948c83477644bd2abf7a46bc13ca927",
            "53634484804148ffa312532399587d9d",
            "e247045df7c24d41bc27dd2e5ec16a02",
            "4e13140b066a496198880d29f26b960c",
            "711ebd6a1d804d9cbde099bc8254ed58",
            "a29f92dc23ba42bbb51968ef7fd35f50",
            "61c85ca188ec416aa44c721cfb23c504",
            "ff1a7551fa5b4f038bfa76c6828806b7",
            "2637154c8c474d2a8e1f113ab8762532",
            "b059d467b70541b79851ae684a102bfb",
            "e88667bdbe0d47dfbb474d87fd921711",
            "8b04d3391c4d4241a44fc71493114b33",
            "ffc9fa7ef41a4c839d198bb44a573609",
            "676040e3122b4a10a896fd542bc4ebf6",
            "87252a739ff64c969aa0de57603a6f26",
            "90c8c3b828c847a1ad0dd26cf738dfa4",
            "21482d4f9d0941c2b9e5b00760991adb",
            "4235b5c52674407b97b1879680bd668d",
            "b2a623735e74448ea20f1bd1ae07c004",
            "2e4a6686c89f448888f13f856d6a88f8",
            "a6cd4f32efc1461daa3a5eda66387799",
            "8efdf1f7e75f43c7bb21c1cb651b4164",
            "040b11de38be4e038ddbd8100f69f257",
            "2f1e10b31f95438b8210ab6715b6a203",
            "b4ea297a501142d4bf1f2a13a8e2d7cf",
            "235a88ba3e254e2793e47d4dbbe155f3",
            "088a03fb150c402ca33a1aa5c31258cb"
          ]
        },
        "id": "UQHmgLGc7KkO",
        "outputId": "975f4bb3-b5ca-40b0-904f-69fdbcf0ec62"
      },
      "outputs": [
        {
          "name": "stdout",
          "output_type": "stream",
          "text": [
            "Downloading and preparing dataset 29.45 MiB (download: 29.45 MiB, generated: 36.42 MiB, total: 65.87 MiB) to /root/tensorflow_datasets/fashion_mnist/3.0.1...\n"
          ]
        },
        {
          "data": {
            "application/vnd.jupyter.widget-view+json": {
              "model_id": "b41a39ccc0ef4c6db94fc524fc873451",
              "version_major": 2,
              "version_minor": 0
            },
            "text/plain": [
              "Dl Completed...: 0 url [00:00, ? url/s]"
            ]
          },
          "metadata": {},
          "output_type": "display_data"
        },
        {
          "data": {
            "application/vnd.jupyter.widget-view+json": {
              "model_id": "3a43a3c0e6894401a2372921ba184619",
              "version_major": 2,
              "version_minor": 0
            },
            "text/plain": [
              "Dl Size...: 0 MiB [00:00, ? MiB/s]"
            ]
          },
          "metadata": {},
          "output_type": "display_data"
        },
        {
          "data": {
            "application/vnd.jupyter.widget-view+json": {
              "model_id": "488820ff1a0a4f3e9933c662c9f81741",
              "version_major": 2,
              "version_minor": 0
            },
            "text/plain": [
              "Extraction completed...: 0 file [00:00, ? file/s]"
            ]
          },
          "metadata": {},
          "output_type": "display_data"
        },
        {
          "data": {
            "application/vnd.jupyter.widget-view+json": {
              "model_id": "050d2d4118844d42b183566bef3592e0",
              "version_major": 2,
              "version_minor": 0
            },
            "text/plain": [
              "Generating splits...:   0%|          | 0/2 [00:00<?, ? splits/s]"
            ]
          },
          "metadata": {},
          "output_type": "display_data"
        },
        {
          "data": {
            "application/vnd.jupyter.widget-view+json": {
              "model_id": "530c7f73a1c04b67b3f558f0f3a79b27",
              "version_major": 2,
              "version_minor": 0
            },
            "text/plain": [
              "Generating train examples...:   0%|          | 0/60000 [00:00<?, ? examples/s]"
            ]
          },
          "metadata": {},
          "output_type": "display_data"
        },
        {
          "data": {
            "application/vnd.jupyter.widget-view+json": {
              "model_id": "1657ee431fca44269f27d87207e724ba",
              "version_major": 2,
              "version_minor": 0
            },
            "text/plain": [
              "Shuffling /root/tensorflow_datasets/fashion_mnist/3.0.1.incompleteGR3B7K/fashion_mnist-train.tfrecord*...:   0…"
            ]
          },
          "metadata": {},
          "output_type": "display_data"
        },
        {
          "data": {
            "application/vnd.jupyter.widget-view+json": {
              "model_id": "a29f92dc23ba42bbb51968ef7fd35f50",
              "version_major": 2,
              "version_minor": 0
            },
            "text/plain": [
              "Generating test examples...:   0%|          | 0/10000 [00:00<?, ? examples/s]"
            ]
          },
          "metadata": {},
          "output_type": "display_data"
        },
        {
          "data": {
            "application/vnd.jupyter.widget-view+json": {
              "model_id": "21482d4f9d0941c2b9e5b00760991adb",
              "version_major": 2,
              "version_minor": 0
            },
            "text/plain": [
              "Shuffling /root/tensorflow_datasets/fashion_mnist/3.0.1.incompleteGR3B7K/fashion_mnist-test.tfrecord*...:   0%…"
            ]
          },
          "metadata": {},
          "output_type": "display_data"
        },
        {
          "name": "stdout",
          "output_type": "stream",
          "text": [
            "Dataset fashion_mnist downloaded and prepared to /root/tensorflow_datasets/fashion_mnist/3.0.1. Subsequent calls will reuse this data.\n"
          ]
        }
      ],
      "source": [
        "dataset_train = tfds.load('fashion_mnist', split='train', shuffle_files=True)\n",
        "dataset_test = tfds.load('fashion_mnist', split='test', shuffle_files=True)"
      ]
    },
    {
      "attachments": {},
      "cell_type": "markdown",
      "metadata": {
        "id": "1WMZTzH17KkO"
      },
      "source": [
        "#### 2. Feladat - Adatok konvertálása DataFrame-be"
      ]
    },
    {
      "cell_type": "code",
      "execution_count": 3,
      "metadata": {
        "colab": {
          "base_uri": "https://localhost:8080/"
        },
        "id": "hZKLD2x_7KkO",
        "outputId": "48088aab-6cd7-4445-8eaf-63083b9eed6a"
      },
      "outputs": [
        {
          "name": "stderr",
          "output_type": "stream",
          "text": [
            "100%|██████████| 60000/60000 [00:41<00:00, 1462.06it/s]\n",
            "100%|██████████| 10000/10000 [00:05<00:00, 1941.40it/s]\n"
          ]
        }
      ],
      "source": [
        "def convert_to_df(dataset):\n",
        "    data = [{ 'image': item['image'].numpy(), 'label': item['label'].numpy() } for item in tqdm(dataset)]\n",
        "    return pd.DataFrame(data)\n",
        "\n",
        "df_train = convert_to_df(dataset_train)\n",
        "df_test = convert_to_df(dataset_test)"
      ]
    },
    {
      "cell_type": "code",
      "execution_count": 4,
      "metadata": {
        "colab": {
          "base_uri": "https://localhost:8080/",
          "height": 206
        },
        "id": "zI-SpUwd7KkP",
        "outputId": "067d616c-f9ad-43b7-f6d7-fe5e43d3cab3"
      },
      "outputs": [
        {
          "data": {
            "text/html": [
              "\n",
              "  <div id=\"df-d133d053-0ed7-4018-9017-be87718048e9\">\n",
              "    <div class=\"colab-df-container\">\n",
              "      <div>\n",
              "<style scoped>\n",
              "    .dataframe tbody tr th:only-of-type {\n",
              "        vertical-align: middle;\n",
              "    }\n",
              "\n",
              "    .dataframe tbody tr th {\n",
              "        vertical-align: top;\n",
              "    }\n",
              "\n",
              "    .dataframe thead th {\n",
              "        text-align: right;\n",
              "    }\n",
              "</style>\n",
              "<table border=\"1\" class=\"dataframe\">\n",
              "  <thead>\n",
              "    <tr style=\"text-align: right;\">\n",
              "      <th></th>\n",
              "      <th>image</th>\n",
              "      <th>label</th>\n",
              "    </tr>\n",
              "  </thead>\n",
              "  <tbody>\n",
              "    <tr>\n",
              "      <th>0</th>\n",
              "      <td>[0, 0, 0, 0, 0, 0, 0, 0, 0, 18, 77, 227, 227, ...</td>\n",
              "      <td>2</td>\n",
              "    </tr>\n",
              "    <tr>\n",
              "      <th>1</th>\n",
              "      <td>[0, 0, 0, 0, 0, 0, 0, 0, 0, 0, 59, 77, 58, 56,...</td>\n",
              "      <td>1</td>\n",
              "    </tr>\n",
              "    <tr>\n",
              "      <th>2</th>\n",
              "      <td>[0, 0, 0, 0, 0, 0, 0, 0, 0, 0, 0, 0, 0, 0, 0, ...</td>\n",
              "      <td>8</td>\n",
              "    </tr>\n",
              "    <tr>\n",
              "      <th>3</th>\n",
              "      <td>[0, 0, 0, 0, 0, 0, 0, 0, 0, 0, 2, 127, 106, 13...</td>\n",
              "      <td>4</td>\n",
              "    </tr>\n",
              "    <tr>\n",
              "      <th>4</th>\n",
              "      <td>[0, 0, 0, 0, 0, 0, 0, 0, 0, 0, 134, 171, 132, ...</td>\n",
              "      <td>1</td>\n",
              "    </tr>\n",
              "  </tbody>\n",
              "</table>\n",
              "</div>\n",
              "      <button class=\"colab-df-convert\" onclick=\"convertToInteractive('df-d133d053-0ed7-4018-9017-be87718048e9')\"\n",
              "              title=\"Convert this dataframe to an interactive table.\"\n",
              "              style=\"display:none;\">\n",
              "        \n",
              "  <svg xmlns=\"http://www.w3.org/2000/svg\" height=\"24px\"viewBox=\"0 0 24 24\"\n",
              "       width=\"24px\">\n",
              "    <path d=\"M0 0h24v24H0V0z\" fill=\"none\"/>\n",
              "    <path d=\"M18.56 5.44l.94 2.06.94-2.06 2.06-.94-2.06-.94-.94-2.06-.94 2.06-2.06.94zm-11 1L8.5 8.5l.94-2.06 2.06-.94-2.06-.94L8.5 2.5l-.94 2.06-2.06.94zm10 10l.94 2.06.94-2.06 2.06-.94-2.06-.94-.94-2.06-.94 2.06-2.06.94z\"/><path d=\"M17.41 7.96l-1.37-1.37c-.4-.4-.92-.59-1.43-.59-.52 0-1.04.2-1.43.59L10.3 9.45l-7.72 7.72c-.78.78-.78 2.05 0 2.83L4 21.41c.39.39.9.59 1.41.59.51 0 1.02-.2 1.41-.59l7.78-7.78 2.81-2.81c.8-.78.8-2.07 0-2.86zM5.41 20L4 18.59l7.72-7.72 1.47 1.35L5.41 20z\"/>\n",
              "  </svg>\n",
              "      </button>\n",
              "      \n",
              "  <style>\n",
              "    .colab-df-container {\n",
              "      display:flex;\n",
              "      flex-wrap:wrap;\n",
              "      gap: 12px;\n",
              "    }\n",
              "\n",
              "    .colab-df-convert {\n",
              "      background-color: #E8F0FE;\n",
              "      border: none;\n",
              "      border-radius: 50%;\n",
              "      cursor: pointer;\n",
              "      display: none;\n",
              "      fill: #1967D2;\n",
              "      height: 32px;\n",
              "      padding: 0 0 0 0;\n",
              "      width: 32px;\n",
              "    }\n",
              "\n",
              "    .colab-df-convert:hover {\n",
              "      background-color: #E2EBFA;\n",
              "      box-shadow: 0px 1px 2px rgba(60, 64, 67, 0.3), 0px 1px 3px 1px rgba(60, 64, 67, 0.15);\n",
              "      fill: #174EA6;\n",
              "    }\n",
              "\n",
              "    [theme=dark] .colab-df-convert {\n",
              "      background-color: #3B4455;\n",
              "      fill: #D2E3FC;\n",
              "    }\n",
              "\n",
              "    [theme=dark] .colab-df-convert:hover {\n",
              "      background-color: #434B5C;\n",
              "      box-shadow: 0px 1px 3px 1px rgba(0, 0, 0, 0.15);\n",
              "      filter: drop-shadow(0px 1px 2px rgba(0, 0, 0, 0.3));\n",
              "      fill: #FFFFFF;\n",
              "    }\n",
              "  </style>\n",
              "\n",
              "      <script>\n",
              "        const buttonEl =\n",
              "          document.querySelector('#df-d133d053-0ed7-4018-9017-be87718048e9 button.colab-df-convert');\n",
              "        buttonEl.style.display =\n",
              "          google.colab.kernel.accessAllowed ? 'block' : 'none';\n",
              "\n",
              "        async function convertToInteractive(key) {\n",
              "          const element = document.querySelector('#df-d133d053-0ed7-4018-9017-be87718048e9');\n",
              "          const dataTable =\n",
              "            await google.colab.kernel.invokeFunction('convertToInteractive',\n",
              "                                                     [key], {});\n",
              "          if (!dataTable) return;\n",
              "\n",
              "          const docLinkHtml = 'Like what you see? Visit the ' +\n",
              "            '<a target=\"_blank\" href=https://colab.research.google.com/notebooks/data_table.ipynb>data table notebook</a>'\n",
              "            + ' to learn more about interactive tables.';\n",
              "          element.innerHTML = '';\n",
              "          dataTable['output_type'] = 'display_data';\n",
              "          await google.colab.output.renderOutput(dataTable, element);\n",
              "          const docLink = document.createElement('div');\n",
              "          docLink.innerHTML = docLinkHtml;\n",
              "          element.appendChild(docLink);\n",
              "        }\n",
              "      </script>\n",
              "    </div>\n",
              "  </div>\n",
              "  "
            ],
            "text/plain": [
              "                                               image  label\n",
              "0  [0, 0, 0, 0, 0, 0, 0, 0, 0, 18, 77, 227, 227, ...      2\n",
              "1  [0, 0, 0, 0, 0, 0, 0, 0, 0, 0, 59, 77, 58, 56,...      1\n",
              "2  [0, 0, 0, 0, 0, 0, 0, 0, 0, 0, 0, 0, 0, 0, 0, ...      8\n",
              "3  [0, 0, 0, 0, 0, 0, 0, 0, 0, 0, 2, 127, 106, 13...      4\n",
              "4  [0, 0, 0, 0, 0, 0, 0, 0, 0, 0, 134, 171, 132, ...      1"
            ]
          },
          "execution_count": 4,
          "metadata": {},
          "output_type": "execute_result"
        }
      ],
      "source": [
        "df_test[\"image\"] = df_test[\"image\"].apply(lambda x: x.flatten())\n",
        "df_train[\"image\"] = df_train[\"image\"].apply(lambda x: x.flatten())\n",
        "df_train.head()"
      ]
    },
    {
      "attachments": {},
      "cell_type": "markdown",
      "metadata": {
        "id": "VtXa3j3R7KkP"
      },
      "source": [
        "#### 2. Feladata - Adatok vizualizálása (1. pont)\n",
        "\n",
        "Írjon egy „víz” nevű függvényt, aminek 3 paramétere van egy test_img és test_label és size. A függvény jelenítsen meg egy véletlenül kiválasztott elemet."
      ]
    },
    {
      "cell_type": "code",
      "execution_count": 5,
      "metadata": {
        "id": "hz0AC-2D7KkP"
      },
      "outputs": [],
      "source": [
        "import numpy as np\n",
        "import matplotlib.pyplot as plt\n",
        "\n",
        "#itt a viz-t kellett megírni és asszem így ennyi volt megadva: def viz(test_img, test_label, size=(28, 28))\n",
        "def viz(test_img, test_label, size=(28, 28)):\n",
        "    plt.imshow(test_img.reshape(size[0], size[1]), cmap=\"Greys\")\n",
        "    plt.axis('off')\n",
        "    plt.title(str(test_label))\n",
        "    plt.show()"
      ]
    },
    {
      "cell_type": "code",
      "execution_count": 26,
      "metadata": {
        "colab": {
          "base_uri": "https://localhost:8080/",
          "height": 428
        },
        "id": "V3etkkCh7KkP",
        "outputId": "b9b97ec5-c361-4284-b858-1f21c3bb3daf"
      },
      "outputs": [
        {
          "data": {
            "image/png": "[encoded data removed]",
            "text/plain": [
              "<Figure size 640x480 with 1 Axes>"
            ]
          },
          "metadata": {},
          "output_type": "display_data"
        }
      ],
      "source": [
        "choice = np.random.choice(np.arange(len(df_train)))\n",
        "viz(df_train[\"image\"].values[choice], df_train[\"label\"].values[choice])"
      ]
    },
    {
      "attachments": {},
      "cell_type": "markdown",
      "metadata": {
        "id": "UPMT7Kts7KkQ"
      },
      "source": [
        "#### 2. Feladat - Tanuló és teszt adatok előkészítése (1. pont)\n",
        "Készítsd elő egy numpy array-be az input és címke adatokat (X,y) - bontásban. Ahol X prefix az input és y prefix a címke legyen a változó nevében."
      ]
    },
    {
      "cell_type": "markdown",
      "metadata": {},
      "source": []
    },
    {
      "attachments": {},
      "cell_type": "markdown",
      "metadata": {},
      "source": [
        "itt enny volt megadva:\n",
        "X_train = None\n",
        "y_train = None\n",
        "\n",
        "\n",
        "X_test = None\n",
        "y_test = None"
      ]
    },
    {
      "cell_type": "code",
      "execution_count": 10,
      "metadata": {
        "id": "PIZJCgwR9DWQ"
      },
      "outputs": [],
      "source": [
        "def normalize(x):\n",
        "  return (x - np.min(x)) / (np.max(x) - np.min(x))"
      ]
    },
    {
      "cell_type": "code",
      "execution_count": 15,
      "metadata": {
        "colab": {
          "base_uri": "https://localhost:8080/"
        },
        "id": "KlAUVCzJFFYl",
        "outputId": "7a42fc69-9462-42af-8fce-1abbfe8aaee7"
      },
      "outputs": [
        {
          "data": {
            "text/plain": [
              "48000"
            ]
          },
          "execution_count": 15,
          "metadata": {},
          "output_type": "execute_result"
        }
      ],
      "source": [
        "train_test_split_no =  int(df_train.shape[0]*0.8)\n",
        "train_test_split_no"
      ]
    },
    {
      "cell_type": "code",
      "execution_count": 69,
      "metadata": {
        "id": "6NHCTjti7KkQ"
      },
      "outputs": [],
      "source": [
        "X_train = df_train[:train_test_split_no]\n",
        "y_train = df_train[\"label\"].values[:train_test_split_no].astype(int)\n",
        "\n",
        "\n",
        "X_test = df_test[train_test_split_no:]\n",
        "y_test = df_test[\"label\"].values[train_test_split_no:].astype(int)\n"
      ]
    },
    {
      "cell_type": "code",
      "execution_count": 66,
      "metadata": {
        "colab": {
          "base_uri": "https://localhost:8080/"
        },
        "id": "TTN2nyDd7KkQ",
        "outputId": "814cb5cd-a561-42b4-cb9f-58302759fb99"
      },
      "outputs": [
        {
          "data": {
            "text/plain": [
              "((48000, 2), (48000,), (0, 2), (0,))"
            ]
          },
          "execution_count": 66,
          "metadata": {},
          "output_type": "execute_result"
        }
      ],
      "source": [
        "X_train.shape, y_train.shape, X_test.shape, y_test.shape"
      ]
    },
    {
      "attachments": {},
      "cell_type": "markdown",
      "metadata": {
        "id": "EyRh_qSe7KkQ"
      },
      "source": [
        "#### 2. Feladat - One-hot enkódolja a címkéket (1. pont)"
      ]
    },
    {
      "attachments": {},
      "cell_type": "markdown",
      "metadata": {},
      "source": [
        "itt ennyi volt hogy : def one_hot_encode() és asszem a return ágat kellett megírni"
      ]
    },
    {
      "cell_type": "code",
      "execution_count": 70,
      "metadata": {
        "id": "110P5REQ7KkQ"
      },
      "outputs": [],
      "source": [
        "def one_hot_encode(x, num_labels):\n",
        "  return np.eye(num_labels)[x]"
      ]
    },
    {
      "cell_type": "code",
      "execution_count": 71,
      "metadata": {
        "colab": {
          "base_uri": "https://localhost:8080/"
        },
        "id": "niwKJoXI7KkR",
        "outputId": "04c3fdce-4f26-4fd8-a346-d95bc6ea862c"
      },
      "outputs": [
        {
          "data": {
            "text/plain": [
              "((48000, 2), (48000, 10), (0, 2), (0, 10))"
            ]
          },
          "execution_count": 71,
          "metadata": {},
          "output_type": "execute_result"
        }
      ],
      "source": [
        "y_train = one_hot_encode(y_train, 10)\n",
        "y_test = one_hot_encode(y_test, 10)\n",
        "\n",
        "X_train.shape, y_train.shape, X_test.shape, y_test.shape"
      ]
    },
    {
      "attachments": {},
      "cell_type": "markdown",
      "metadata": {
        "id": "TsmgD4NI7KkR"
      },
      "source": [
        "\n",
        "#### 2. Feladat - Építse fel a modellt. (1.pont)"
      ]
    },
    {
      "attachments": {},
      "cell_type": "markdown",
      "metadata": {
        "id": "XaQIV5767KkR"
      },
      "source": [
        "<img src=\"   data:image/png;base64,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\" />"
      ]
    },
    {
      "cell_type": "code",
      "execution_count": 58,
      "metadata": {
        "id": "7_7HiupD93ck"
      },
      "outputs": [],
      "source": [
        "import tensorflow as tf"
      ]
    },
    {
      "attachments": {},
      "cell_type": "markdown",
      "metadata": {},
      "source": [
        "az import kellett és a modell felépítése"
      ]
    },
    {
      "cell_type": "code",
      "execution_count": 59,
      "metadata": {
        "id": "gxCFuJHJ7KkS"
      },
      "outputs": [],
      "source": [
        "model = tf.keras.Sequential([\n",
        "    tf.keras.layers.Input(([X_train.shape[1]])),\n",
        "    tf.keras.layers.Dense(64,activation=\"linear\"),\n",
        "    tf.keras.layers.Dense(64,activation=\"relu\"),\n",
        "    tf.keras.layers.Dense(10,activation=\"softmax\")\n",
        "])"
      ]
    },
    {
      "cell_type": "code",
      "execution_count": 60,
      "metadata": {
        "colab": {
          "base_uri": "https://localhost:8080/"
        },
        "id": "eTnFDNj-IW6w",
        "outputId": "d79d2dab-204f-4307-c0f8-cf2040644413"
      },
      "outputs": [
        {
          "name": "stdout",
          "output_type": "stream",
          "text": [
            "Model: \"sequential_2\"\n",
            "_________________________________________________________________\n",
            " Layer (type)                Output Shape              Param #   \n",
            "=================================================================\n",
            " dense_6 (Dense)             (None, 64)                192       \n",
            "                                                                 \n",
            " dense_7 (Dense)             (None, 64)                4160      \n",
            "                                                                 \n",
            " dense_8 (Dense)             (None, 10)                650       \n",
            "                                                                 \n",
            "=================================================================\n",
            "Total params: 5,002\n",
            "Trainable params: 5,002\n",
            "Non-trainable params: 0\n",
            "_________________________________________________________________\n"
          ]
        }
      ],
      "source": [
        "model.summary()"
      ]
    },
    {
      "attachments": {},
      "cell_type": "markdown",
      "metadata": {},
      "source": [
        "#ezt nemtudom járt e érte valami de beleraktam"
      ]
    },
    {
      "cell_type": "code",
      "execution_count": 61,
      "metadata": {
        "colab": {
          "base_uri": "https://localhost:8080/",
          "height": 545
        },
        "id": "wCTKG-uxJFsK",
        "outputId": "cf4c4738-f5ef-465d-ff7c-59027fe4e5c8"
      },
      "outputs": [
        {
          "data": {
            "image/png": "[encoded data removed]",
            "text/plain": [
              "<IPython.core.display.Image object>"
            ]
          },
          "execution_count": 61,
          "metadata": {},
          "output_type": "execute_result"
        }
      ],
      "source": [
        "tf.keras.utils.plot_model(\n",
        "    model,\n",
        "    show_shapes=True,\n",
        "    show_dtype=True,\n",
        "    show_layer_names=True,\n",
        "    expand_nested=True,\n",
        "    dpi=96,\n",
        "    layer_range=None,\n",
        "    show_layer_activations=True\n",
        ")"
      ]
    },
    {
      "attachments": {},
      "cell_type": "markdown",
      "metadata": {
        "id": "FFt3czRe-FlH"
      },
      "source": []
    },
    {
      "cell_type": "code",
      "execution_count": 62,
      "metadata": {
        "id": "kvgYaUJL7KkS"
      },
      "outputs": [],
      "source": [
        "model.compile(\n",
        "    optimizer=\"adam\", \n",
        "    loss=\"categorical_crossentropy\", \n",
        "    metrics=[\"accuracy\"]\n",
        ")"
      ]
    },
    {
      "attachments": {},
      "cell_type": "markdown",
      "metadata": {
        "id": "b5MYyxbt7KkS"
      },
      "source": [
        "#### 2. Feladat - Tanítsa be és értékelje ki a modell a következő paraméterekkel. (1. pont)\n",
        "- batch_size = 16 \n",
        "- epoch = 4"
      ]
    },
    {
      "attachments": {},
      "cell_type": "markdown",
      "metadata": {},
      "source": [
        "annyi volt megadtva hogy\n",
        "#Train\n",
        "#Evaluate\n",
        "\n",
        "de ezek le se futottak"
      ]
    },
    {
      "cell_type": "code",
      "execution_count": 63,
      "metadata": {
        "colab": {
          "base_uri": "https://localhost:8080/",
          "height": 328
        },
        "id": "UBIe6WTm7KkT",
        "outputId": "6079b346-cbbc-4013-8b88-b4f4f249fcb7"
      },
      "outputs": [
        {
          "ename": "ValueError",
          "evalue": "ignored",
          "output_type": "error",
          "traceback": [
            "\u001b[0;31m---------------------------------------------------------------------------\u001b[0m",
            "\u001b[0;31mValueError\u001b[0m                                Traceback (most recent call last)",
            "\u001b[0;32m<ipython-input-63-b7af3dde2609>\u001b[0m in \u001b[0;36m<cell line: 2>\u001b[0;34m()\u001b[0m\n\u001b[1;32m      1\u001b[0m \u001b[0;31m# Train\u001b[0m\u001b[0;34m\u001b[0m\u001b[0;34m\u001b[0m\u001b[0m\n\u001b[0;32m----> 2\u001b[0;31m \u001b[0mmodel\u001b[0m\u001b[0;34m.\u001b[0m\u001b[0mfit\u001b[0m\u001b[0;34m(\u001b[0m\u001b[0mX_train\u001b[0m\u001b[0;34m,\u001b[0m \u001b[0my_train\u001b[0m\u001b[0;34m,\u001b[0m \u001b[0mepochs\u001b[0m\u001b[0;34m=\u001b[0m\u001b[0;36m4\u001b[0m\u001b[0;34m,\u001b[0m \u001b[0mbatch_size\u001b[0m\u001b[0;34m=\u001b[0m\u001b[0;36m16\u001b[0m\u001b[0;34m)\u001b[0m\u001b[0;34m\u001b[0m\u001b[0;34m\u001b[0m\u001b[0m\n\u001b[0m",
            "\u001b[0;32m/usr/local/lib/python3.10/dist-packages/keras/utils/traceback_utils.py\u001b[0m in \u001b[0;36merror_handler\u001b[0;34m(*args, **kwargs)\u001b[0m\n\u001b[1;32m     68\u001b[0m             \u001b[0;31m# To get the full stack trace, call:\u001b[0m\u001b[0;34m\u001b[0m\u001b[0;34m\u001b[0m\u001b[0m\n\u001b[1;32m     69\u001b[0m             \u001b[0;31m# `tf.debugging.disable_traceback_filtering()`\u001b[0m\u001b[0;34m\u001b[0m\u001b[0;34m\u001b[0m\u001b[0m\n\u001b[0;32m---> 70\u001b[0;31m             \u001b[0;32mraise\u001b[0m \u001b[0me\u001b[0m\u001b[0;34m.\u001b[0m\u001b[0mwith_traceback\u001b[0m\u001b[0;34m(\u001b[0m\u001b[0mfiltered_tb\u001b[0m\u001b[0;34m)\u001b[0m \u001b[0;32mfrom\u001b[0m \u001b[0;32mNone\u001b[0m\u001b[0;34m\u001b[0m\u001b[0;34m\u001b[0m\u001b[0m\n\u001b[0m\u001b[1;32m     71\u001b[0m         \u001b[0;32mfinally\u001b[0m\u001b[0;34m:\u001b[0m\u001b[0;34m\u001b[0m\u001b[0;34m\u001b[0m\u001b[0m\n\u001b[1;32m     72\u001b[0m             \u001b[0;32mdel\u001b[0m \u001b[0mfiltered_tb\u001b[0m\u001b[0;34m\u001b[0m\u001b[0;34m\u001b[0m\u001b[0m\n",
            "\u001b[0;32m/usr/local/lib/python3.10/dist-packages/tensorflow/python/framework/constant_op.py\u001b[0m in \u001b[0;36mconvert_to_eager_tensor\u001b[0;34m(value, ctx, dtype)\u001b[0m\n\u001b[1;32m    101\u001b[0m       \u001b[0mdtype\u001b[0m \u001b[0;34m=\u001b[0m \u001b[0mdtypes\u001b[0m\u001b[0;34m.\u001b[0m\u001b[0mas_dtype\u001b[0m\u001b[0;34m(\u001b[0m\u001b[0mdtype\u001b[0m\u001b[0;34m)\u001b[0m\u001b[0;34m.\u001b[0m\u001b[0mas_datatype_enum\u001b[0m\u001b[0;34m\u001b[0m\u001b[0;34m\u001b[0m\u001b[0m\n\u001b[1;32m    102\u001b[0m   \u001b[0mctx\u001b[0m\u001b[0;34m.\u001b[0m\u001b[0mensure_initialized\u001b[0m\u001b[0;34m(\u001b[0m\u001b[0;34m)\u001b[0m\u001b[0;34m\u001b[0m\u001b[0;34m\u001b[0m\u001b[0m\n\u001b[0;32m--> 103\u001b[0;31m   \u001b[0;32mreturn\u001b[0m \u001b[0mops\u001b[0m\u001b[0;34m.\u001b[0m\u001b[0mEagerTensor\u001b[0m\u001b[0;34m(\u001b[0m\u001b[0mvalue\u001b[0m\u001b[0;34m,\u001b[0m \u001b[0mctx\u001b[0m\u001b[0;34m.\u001b[0m\u001b[0mdevice_name\u001b[0m\u001b[0;34m,\u001b[0m \u001b[0mdtype\u001b[0m\u001b[0;34m)\u001b[0m\u001b[0;34m\u001b[0m\u001b[0;34m\u001b[0m\u001b[0m\n\u001b[0m\u001b[1;32m    104\u001b[0m \u001b[0;34m\u001b[0m\u001b[0m\n\u001b[1;32m    105\u001b[0m \u001b[0;34m\u001b[0m\u001b[0m\n",
            "\u001b[0;31mValueError\u001b[0m: Failed to convert a NumPy array to a Tensor (Unsupported object type numpy.ndarray)."
          ]
        }
      ],
      "source": [
        "# Train\n",
        "model.fit(X_train, y_train, epochs=4, batch_size=16)"
      ]
    },
    {
      "cell_type": "code",
      "execution_count": 80,
      "metadata": {
        "colab": {
          "base_uri": "https://localhost:8080/",
          "height": 363
        },
        "id": "rMMhgNKf7KkT",
        "outputId": "d837221e-6311-410b-c341-0d0bef02be6f"
      },
      "outputs": [
        {
          "name": "stderr",
          "output_type": "stream",
          "text": [
            "/usr/local/lib/python3.10/dist-packages/keras/utils/generic_utils.py:238: RuntimeWarning: divide by zero encountered in log10\n",
            "  numdigits = int(np.log10(self.target)) + 1\n"
          ]
        },
        {
          "ename": "OverflowError",
          "evalue": "ignored",
          "output_type": "error",
          "traceback": [
            "\u001b[0;31m---------------------------------------------------------------------------\u001b[0m",
            "\u001b[0;31mOverflowError\u001b[0m                             Traceback (most recent call last)",
            "\u001b[0;32m<ipython-input-80-14788bccc605>\u001b[0m in \u001b[0;36m<cell line: 2>\u001b[0;34m()\u001b[0m\n\u001b[1;32m      1\u001b[0m \u001b[0;31m# Evaluate\u001b[0m\u001b[0;34m\u001b[0m\u001b[0;34m\u001b[0m\u001b[0m\n\u001b[0;32m----> 2\u001b[0;31m \u001b[0mmodel\u001b[0m\u001b[0;34m.\u001b[0m\u001b[0mevaluate\u001b[0m\u001b[0;34m(\u001b[0m\u001b[0mX_test\u001b[0m\u001b[0;34m,\u001b[0m\u001b[0my_test\u001b[0m\u001b[0;34m)\u001b[0m\u001b[0;34m\u001b[0m\u001b[0;34m\u001b[0m\u001b[0m\n\u001b[0m",
            "\u001b[0;32m/usr/local/lib/python3.10/dist-packages/keras/utils/traceback_utils.py\u001b[0m in \u001b[0;36merror_handler\u001b[0;34m(*args, **kwargs)\u001b[0m\n\u001b[1;32m     68\u001b[0m             \u001b[0;31m# To get the full stack trace, call:\u001b[0m\u001b[0;34m\u001b[0m\u001b[0;34m\u001b[0m\u001b[0m\n\u001b[1;32m     69\u001b[0m             \u001b[0;31m# `tf.debugging.disable_traceback_filtering()`\u001b[0m\u001b[0;34m\u001b[0m\u001b[0;34m\u001b[0m\u001b[0m\n\u001b[0;32m---> 70\u001b[0;31m             \u001b[0;32mraise\u001b[0m \u001b[0me\u001b[0m\u001b[0;34m.\u001b[0m\u001b[0mwith_traceback\u001b[0m\u001b[0;34m(\u001b[0m\u001b[0mfiltered_tb\u001b[0m\u001b[0;34m)\u001b[0m \u001b[0;32mfrom\u001b[0m \u001b[0;32mNone\u001b[0m\u001b[0;34m\u001b[0m\u001b[0;34m\u001b[0m\u001b[0m\n\u001b[0m\u001b[1;32m     71\u001b[0m         \u001b[0;32mfinally\u001b[0m\u001b[0;34m:\u001b[0m\u001b[0;34m\u001b[0m\u001b[0;34m\u001b[0m\u001b[0m\n\u001b[1;32m     72\u001b[0m             \u001b[0;32mdel\u001b[0m \u001b[0mfiltered_tb\u001b[0m\u001b[0;34m\u001b[0m\u001b[0;34m\u001b[0m\u001b[0m\n",
            "\u001b[0;32m/usr/local/lib/python3.10/dist-packages/keras/utils/generic_utils.py\u001b[0m in \u001b[0;36mupdate\u001b[0;34m(self, current, values, finalize)\u001b[0m\n\u001b[1;32m    236\u001b[0m \u001b[0;34m\u001b[0m\u001b[0m\n\u001b[1;32m    237\u001b[0m             \u001b[0;32mif\u001b[0m \u001b[0mself\u001b[0m\u001b[0;34m.\u001b[0m\u001b[0mtarget\u001b[0m \u001b[0;32mis\u001b[0m \u001b[0;32mnot\u001b[0m \u001b[0;32mNone\u001b[0m\u001b[0;34m:\u001b[0m\u001b[0;34m\u001b[0m\u001b[0;34m\u001b[0m\u001b[0m\n\u001b[0;32m--> 238\u001b[0;31m                 \u001b[0mnumdigits\u001b[0m \u001b[0;34m=\u001b[0m \u001b[0mint\u001b[0m\u001b[0;34m(\u001b[0m\u001b[0mnp\u001b[0m\u001b[0;34m.\u001b[0m\u001b[0mlog10\u001b[0m\u001b[0;34m(\u001b[0m\u001b[0mself\u001b[0m\u001b[0;34m.\u001b[0m\u001b[0mtarget\u001b[0m\u001b[0;34m)\u001b[0m\u001b[0;34m)\u001b[0m \u001b[0;34m+\u001b[0m \u001b[0;36m1\u001b[0m\u001b[0;34m\u001b[0m\u001b[0;34m\u001b[0m\u001b[0m\n\u001b[0m\u001b[1;32m    239\u001b[0m                 \u001b[0mbar\u001b[0m \u001b[0;34m=\u001b[0m \u001b[0;34m(\u001b[0m\u001b[0;34m\"%\"\u001b[0m \u001b[0;34m+\u001b[0m \u001b[0mstr\u001b[0m\u001b[0;34m(\u001b[0m\u001b[0mnumdigits\u001b[0m\u001b[0;34m)\u001b[0m \u001b[0;34m+\u001b[0m \u001b[0;34m\"d/%d [\"\u001b[0m\u001b[0;34m)\u001b[0m \u001b[0;34m%\u001b[0m \u001b[0;34m(\u001b[0m\u001b[0mcurrent\u001b[0m\u001b[0;34m,\u001b[0m \u001b[0mself\u001b[0m\u001b[0;34m.\u001b[0m\u001b[0mtarget\u001b[0m\u001b[0;34m)\u001b[0m\u001b[0;34m\u001b[0m\u001b[0;34m\u001b[0m\u001b[0m\n\u001b[1;32m    240\u001b[0m                 \u001b[0mprog\u001b[0m \u001b[0;34m=\u001b[0m \u001b[0mfloat\u001b[0m\u001b[0;34m(\u001b[0m\u001b[0mcurrent\u001b[0m\u001b[0;34m)\u001b[0m \u001b[0;34m/\u001b[0m \u001b[0mself\u001b[0m\u001b[0;34m.\u001b[0m\u001b[0mtarget\u001b[0m\u001b[0;34m\u001b[0m\u001b[0;34m\u001b[0m\u001b[0m\n",
            "\u001b[0;31mOverflowError\u001b[0m: cannot convert float infinity to integer"
          ]
        }
      ],
      "source": [
        "# Evaluate\n",
        "model.evaluate(X_test,y_test)"
      ]
    },
    {
      "attachments": {},
      "cell_type": "markdown",
      "metadata": {
        "id": "luIfOgFF7KkT"
      },
      "source": [
        "### 3. Feladat (4. pont)\n",
        "Használd a Q-learning algoritmust, hogy kiképez egy ágenst ami megtalálja a laborintusban a legrövidebb utat."
      ]
    },
    {
      "attachments": {},
      "cell_type": "markdown",
      "metadata": {
        "id": "XNDj3Dob7KkU"
      },
      "source": [
        "#### 3. Feladat - Írd meg a Q-learning osztály learn metódusát úgy a Q-learning képletének megfelelően firissítse a Q-táblát. A labirintus megoldásához egy 3 dimenizós Q-táblát használt melynek dimenzióji a következő felépítésüek: (1. pont)\n",
        "- 1. Sorok száma\n",
        "- 2. Oszlopok száma\n",
        "- 3. Cselekvések száma"
      ]
    },
    {
      "cell_type": "code",
      "execution_count": 72,
      "metadata": {
        "id": "jQHFlokP7KkU"
      },
      "outputs": [],
      "source": [
        "import random\n",
        "import numpy as np\n",
        "\n",
        "class QLearningAgent:\n",
        "    \"\"\"\n",
        "    A Q-learning ügynökünket képviselő osztály\n",
        "    \"\"\"\n",
        "    def __init__(self, n_states_row,  n_states_cols, n_actions, learning_rate):\n",
        "        self.n_states_row = n_states_row\n",
        "        self.n_states_cols = n_states_cols\n",
        "        self.n_actions = n_actions\n",
        "        self.learning_rate = learning_rate\n",
        "        \n",
        "        self.q_table = np.zeros((self.n_states_row, self.n_states_cols, n_actions))\n",
        "    \n",
        "    def act(self, state_row, state_col, epsilon):\n",
        "        # Generáljon véletlen számot a [0, 1] intervallumon\n",
        "        random_int = random.uniform(0,1)\n",
        "        \n",
        "        # We exploit with (1-epsilon) probability\n",
        "        if random_int > epsilon:\n",
        "            action = np.argmax(self.q_table[state_row][state_col])\n",
        "        # We explore with epsilon probability\n",
        "        else:\n",
        "            action = random.randint(0, self.n_actions - 1)\n",
        "        \n",
        "        return action\n",
        "    \n",
        "    def learn(self, state_row, state_col, action, reward, new_state_row, new_state_col, gamma):        \n",
        "        # To Do\n",
        "        #Itt a def learn(paraméterek) voltak megadva a többit kellett de nem fogadnék rá\n",
        "        old_value = self.q_table[state_row][state_col][action]\n",
        "        new_estimate = reward + gamma * max(self.q_table[new_state_row][new_state_col])\n",
        "\n",
        "        self.q_table[state_row][state_col][action] = old_value + self.learning_rate*(new_estimate-old_value)\n",
        "        \n",
        "\n",
        "        return NotImplementedError()"
      ]
    },
    {
      "attachments": {},
      "cell_type": "markdown",
      "metadata": {
        "id": "CjD_nkUZ7KkV"
      },
      "source": [
        "#### 3. Feladat - Írd meg a play metódust amely elvégzi a labirntus kereső osztály tanulást a Q-Learning ágenst használva (1.5 pont)"
      ]
    },
    {
      "cell_type": "code",
      "execution_count": 76,
      "metadata": {
        "id": "OqA-rQtb7KkV"
      },
      "outputs": [],
      "source": [
        "from tqdm import tqdm\n",
        "import matplotlib.pyplot as plt\n",
        "\n",
        "class Maze():\n",
        "    def __init__(self, epsilon, gamma, environment, aisles):\n",
        "        self.epsilon = epsilon\n",
        "        self.gamma = gamma\n",
        "        self.agent = None\n",
        "        self.aisles = aisles\n",
        "        self.environment_rows = environment[0]\n",
        "        self.environment_columns = environment[1]\n",
        "        self.actions = ['up', 'right', 'down', 'left']\n",
        "        self.rewards = np.full((self.environment_rows, self.environment_columns), -100.)\n",
        "        self.rewards[0, 5] = 100.\n",
        "\n",
        "        # Rewardok beállítása a folyosókhoz\n",
        "        for row in range(1, self.environment_rows-1):\n",
        "            for col in self.aisles[row]:\n",
        "                self.rewards[row, col] = -1.\n",
        "    \n",
        "    def set_agent(self, agent):\n",
        "        self.agent = agent\n",
        "\n",
        "    def get_rewards(self):\n",
        "        return self.rewards\n",
        "\n",
        "    def viz(self, tabel):\n",
        "        plt.imshow(tabel)\n",
        "        plt.colorbar()\n",
        "        plt.show()\n",
        "\n",
        "    def viz_route(self, start_row, start_col):\n",
        "        shortest_path = self.get_shortest_path(start_row, start_col)\n",
        "        table = self.get_rewards().copy()\n",
        "        for item in shortest_path:\n",
        "            table[item[0]][item[1]] = 50\n",
        "        \n",
        "        self.viz(table)\n",
        "        \n",
        "    def is_terminal_state(self, row, col):\n",
        "        \"\"\" Vég állapot vizsgálata\"\"\"\n",
        "        if self.rewards[row, col] == -1.:\n",
        "            return False\n",
        "        else:\n",
        "            return True\n",
        "            \n",
        "    def get_starting_location(self):\n",
        "        \"\"\"Nem terminális kezdőpont generálása\"\"\"\n",
        "        row = np.random.randint(self.environment_rows)\n",
        "        column = np.random.randint(self.environment_columns)\n",
        "\n",
        "        # Ha terminális állapotot generálunk tovább probálkozunk\n",
        "        while self.is_terminal_state(row, column):\n",
        "            row = np.random.randint(self.environment_rows)\n",
        "            column = np.random.randint(self.environment_columns)\n",
        "        \n",
        "        return row, column\n",
        "    \n",
        "    # define a function that will get the next location based on the chosen action\n",
        "    def get_next_location(self, row, col, action):\n",
        "        \"\"\"Definiál egy függvényt, amely a következő helyet vissza adja a \n",
        "        kiválasztott művelet alapján\"\"\"\n",
        "        new_row = row\n",
        "        new_column = col\n",
        "        if self.actions[action] == 'up' and row > 0:\n",
        "            new_row -= 1\n",
        "        elif self.actions[action] == 'right' and col < self.environment_columns - 1:\n",
        "            new_column += 1\n",
        "        elif self.actions[action] == 'down' and row < self.environment_rows - 1:\n",
        "            new_row += 1\n",
        "        elif self.actions[action] == 'left' and col > 0:\n",
        "            new_column -= 1\n",
        "        return new_row, new_column\n",
        "  \n",
        "    def get_shortest_path(self, start_row, start_column):\n",
        "        \"\"\"Vissza adja a legröbidebb utat\"\"\"       \n",
        "        if self.is_terminal_state(start_row, start_column):\n",
        "            return []\n",
        "        else: \n",
        "            # Ha nem terminális a kezdő pont\n",
        "            current_row, current_column = start_row, start_column\n",
        "            shortest_path = []\n",
        "            shortest_path.append([current_row, current_column])\n",
        "            # Megyünk amíg terminálisig nem jutunk.\n",
        "            while not self.is_terminal_state(current_row, current_column):\n",
        "                action = np.argmax(self.agent.q_table[current_row][current_column])                \n",
        "                current_row, current_column = self.get_next_location(current_row, current_column, action)\n",
        "                shortest_path.append([current_row, current_column])\n",
        "                \n",
        "            return shortest_path\n",
        "\n",
        "    def play(self, learning_step):\n",
        "        \"\"\"A tanulást végző metódus\"\"\"\n",
        "        for episode in tqdm(range(learning_step)):\n",
        "            new_row, new_column = self.get_starting_location()\n",
        "            while not self.is_terminal_state(new_row, new_column):\n",
        "                \n",
        "                # To Do\n",
        "                #itt valamit kellett volna de mit?\n",
        "                reward = 0\n",
        "\n",
        "                \n",
        "                return NotImplementedError()"
      ]
    },
    {
      "attachments": {},
      "cell_type": "markdown",
      "metadata": {
        "id": "b-NsThm87KkV"
      },
      "source": [
        "#### 3. Feladat - Maze osztály példányosítása"
      ]
    },
    {
      "cell_type": "code",
      "execution_count": 74,
      "metadata": {
        "id": "x7XdBHt27KkW"
      },
      "outputs": [],
      "source": [
        "# Folyosók\n",
        "aisles = {}\n",
        "aisles[1] = [i for i in range(5, 10)]\n",
        "aisles[2] = [5, 9]\n",
        "aisles[3] = [i for i in range(1, 8)]\n",
        "aisles[3].append(9)\n",
        "aisles[4] = [3, 7]\n",
        "aisles[5] = [i for i in range(3, 11)]\n",
        "aisles[6] = [5]\n",
        "aisles[7] = [i for i in range(5, 10)]\n",
        "aisles[8] = [3, 7]\n",
        "aisles[9] = [i for i in range(11)]"
      ]
    },
    {
      "cell_type": "code",
      "execution_count": 77,
      "metadata": {
        "id": "Ktj65UqC7KkW"
      },
      "outputs": [],
      "source": [
        "maze = Maze(epsilon = 0.9, gamma = 0.9, environment=(11,11), aisles = aisles)"
      ]
    },
    {
      "cell_type": "code",
      "execution_count": 78,
      "metadata": {
        "colab": {
          "base_uri": "https://localhost:8080/",
          "height": 435
        },
        "id": "ayQvph2H7KkY",
        "outputId": "37892b42-ff3a-447a-deab-bf7827fb937c"
      },
      "outputs": [
        {
          "data": {
            "image/png": "[encoded data removed]",
            "text/plain": [
              "<Figure size 640x480 with 2 Axes>"
            ]
          },
          "metadata": {},
          "output_type": "display_data"
        }
      ],
      "source": [
        "maze.viz(maze.get_rewards())"
      ]
    },
    {
      "attachments": {},
      "cell_type": "markdown",
      "metadata": {
        "id": "7G-h_8Vs7KkY"
      },
      "source": [
        "#### 3. Feladat - Q-Learning Ágens példányosítása"
      ]
    },
    {
      "cell_type": "code",
      "execution_count": null,
      "metadata": {
        "id": "U4ba3pk-7Kki"
      },
      "outputs": [],
      "source": [
        "agent = QLearningAgent(\n",
        "    n_states_row=11, \n",
        "    n_states_cols=11, \n",
        "    n_actions=len(maze.actions), \n",
        "    learning_rate=0.9)\n",
        "\n",
        "maze.set_agent(agent)\n",
        "\n",
        "agent.q_table[0][0]"
      ]
    },
    {
      "attachments": {},
      "cell_type": "markdown",
      "metadata": {
        "id": "Mqz5YeBF7Kki"
      },
      "source": [
        "#### 3. Feladat - Tanítsd be az Ágenst 10000 lépessel (1. pont)"
      ]
    },
    {
      "cell_type": "code",
      "execution_count": null,
      "metadata": {
        "id": "B4wBX6sA7Kki"
      },
      "outputs": [],
      "source": [
        "# To Do\n",
        "#Hát igen ez a modell nem tanult be semmit"
      ]
    },
    {
      "attachments": {},
      "cell_type": "markdown",
      "metadata": {
        "id": "g4JkGNW77Kki"
      },
      "source": [
        "#### 3. Feladat - Vizualizáld a megadott kezdőponttal a tanulás eredményét (0.5. pont)"
      ]
    },
    {
      "cell_type": "code",
      "execution_count": 79,
      "metadata": {
        "colab": {
          "base_uri": "https://localhost:8080/",
          "height": 311
        },
        "id": "KnIm0V9H7Kkj",
        "outputId": "1c5f97ae-22f7-4713-ed47-a43db0d22cea"
      },
      "outputs": [
        {
          "ename": "AttributeError",
          "evalue": "ignored",
          "output_type": "error",
          "traceback": [
            "\u001b[0;31m---------------------------------------------------------------------------\u001b[0m",
            "\u001b[0;31mAttributeError\u001b[0m                            Traceback (most recent call last)",
            "\u001b[0;32m<ipython-input-79-0a1521af07e7>\u001b[0m in \u001b[0;36m<cell line: 1>\u001b[0;34m()\u001b[0m\n\u001b[0;32m----> 1\u001b[0;31m \u001b[0mmaze\u001b[0m\u001b[0;34m.\u001b[0m\u001b[0mviz_route\u001b[0m\u001b[0;34m(\u001b[0m\u001b[0;36m5\u001b[0m\u001b[0;34m,\u001b[0m \u001b[0;36m5\u001b[0m\u001b[0;34m)\u001b[0m\u001b[0;34m\u001b[0m\u001b[0;34m\u001b[0m\u001b[0m\n\u001b[0m",
            "\u001b[0;32m<ipython-input-76-49096d9fa5fb>\u001b[0m in \u001b[0;36mviz_route\u001b[0;34m(self, start_row, start_col)\u001b[0m\n\u001b[1;32m     31\u001b[0m \u001b[0;34m\u001b[0m\u001b[0m\n\u001b[1;32m     32\u001b[0m     \u001b[0;32mdef\u001b[0m \u001b[0mviz_route\u001b[0m\u001b[0;34m(\u001b[0m\u001b[0mself\u001b[0m\u001b[0;34m,\u001b[0m \u001b[0mstart_row\u001b[0m\u001b[0;34m,\u001b[0m \u001b[0mstart_col\u001b[0m\u001b[0;34m)\u001b[0m\u001b[0;34m:\u001b[0m\u001b[0;34m\u001b[0m\u001b[0;34m\u001b[0m\u001b[0m\n\u001b[0;32m---> 33\u001b[0;31m         \u001b[0mshortest_path\u001b[0m \u001b[0;34m=\u001b[0m \u001b[0mself\u001b[0m\u001b[0;34m.\u001b[0m\u001b[0mget_shortest_path\u001b[0m\u001b[0;34m(\u001b[0m\u001b[0mstart_row\u001b[0m\u001b[0;34m,\u001b[0m \u001b[0mstart_col\u001b[0m\u001b[0;34m)\u001b[0m\u001b[0;34m\u001b[0m\u001b[0;34m\u001b[0m\u001b[0m\n\u001b[0m\u001b[1;32m     34\u001b[0m         \u001b[0mtable\u001b[0m \u001b[0;34m=\u001b[0m \u001b[0mself\u001b[0m\u001b[0;34m.\u001b[0m\u001b[0mget_rewards\u001b[0m\u001b[0;34m(\u001b[0m\u001b[0;34m)\u001b[0m\u001b[0;34m.\u001b[0m\u001b[0mcopy\u001b[0m\u001b[0;34m(\u001b[0m\u001b[0;34m)\u001b[0m\u001b[0;34m\u001b[0m\u001b[0;34m\u001b[0m\u001b[0m\n\u001b[1;32m     35\u001b[0m         \u001b[0;32mfor\u001b[0m \u001b[0mitem\u001b[0m \u001b[0;32min\u001b[0m \u001b[0mshortest_path\u001b[0m\u001b[0;34m:\u001b[0m\u001b[0;34m\u001b[0m\u001b[0;34m\u001b[0m\u001b[0m\n",
            "\u001b[0;32m<ipython-input-76-49096d9fa5fb>\u001b[0m in \u001b[0;36mget_shortest_path\u001b[0;34m(self, start_row, start_column)\u001b[0m\n\u001b[1;32m     84\u001b[0m             \u001b[0;31m# Megyünk amíg terminálisig nem jutunk.\u001b[0m\u001b[0;34m\u001b[0m\u001b[0;34m\u001b[0m\u001b[0m\n\u001b[1;32m     85\u001b[0m             \u001b[0;32mwhile\u001b[0m \u001b[0;32mnot\u001b[0m \u001b[0mself\u001b[0m\u001b[0;34m.\u001b[0m\u001b[0mis_terminal_state\u001b[0m\u001b[0;34m(\u001b[0m\u001b[0mcurrent_row\u001b[0m\u001b[0;34m,\u001b[0m \u001b[0mcurrent_column\u001b[0m\u001b[0;34m)\u001b[0m\u001b[0;34m:\u001b[0m\u001b[0;34m\u001b[0m\u001b[0;34m\u001b[0m\u001b[0m\n\u001b[0;32m---> 86\u001b[0;31m                 \u001b[0maction\u001b[0m \u001b[0;34m=\u001b[0m \u001b[0mnp\u001b[0m\u001b[0;34m.\u001b[0m\u001b[0margmax\u001b[0m\u001b[0;34m(\u001b[0m\u001b[0mself\u001b[0m\u001b[0;34m.\u001b[0m\u001b[0magent\u001b[0m\u001b[0;34m.\u001b[0m\u001b[0mq_table\u001b[0m\u001b[0;34m[\u001b[0m\u001b[0mcurrent_row\u001b[0m\u001b[0;34m]\u001b[0m\u001b[0;34m[\u001b[0m\u001b[0mcurrent_column\u001b[0m\u001b[0;34m]\u001b[0m\u001b[0;34m)\u001b[0m\u001b[0;34m\u001b[0m\u001b[0;34m\u001b[0m\u001b[0m\n\u001b[0m\u001b[1;32m     87\u001b[0m                 \u001b[0mcurrent_row\u001b[0m\u001b[0;34m,\u001b[0m \u001b[0mcurrent_column\u001b[0m \u001b[0;34m=\u001b[0m \u001b[0mself\u001b[0m\u001b[0;34m.\u001b[0m\u001b[0mget_next_location\u001b[0m\u001b[0;34m(\u001b[0m\u001b[0mcurrent_row\u001b[0m\u001b[0;34m,\u001b[0m \u001b[0mcurrent_column\u001b[0m\u001b[0;34m,\u001b[0m \u001b[0maction\u001b[0m\u001b[0;34m)\u001b[0m\u001b[0;34m\u001b[0m\u001b[0;34m\u001b[0m\u001b[0m\n\u001b[1;32m     88\u001b[0m                 \u001b[0mshortest_path\u001b[0m\u001b[0;34m.\u001b[0m\u001b[0mappend\u001b[0m\u001b[0;34m(\u001b[0m\u001b[0;34m[\u001b[0m\u001b[0mcurrent_row\u001b[0m\u001b[0;34m,\u001b[0m \u001b[0mcurrent_column\u001b[0m\u001b[0;34m]\u001b[0m\u001b[0;34m)\u001b[0m\u001b[0;34m\u001b[0m\u001b[0;34m\u001b[0m\u001b[0m\n",
            "\u001b[0;31mAttributeError\u001b[0m: 'NoneType' object has no attribute 'q_table'"
          ]
        }
      ],
      "source": [
        "maze.viz_route(5, 5)"
      ]
    }
  ],
  "metadata": {
    "colab": {
      "provenance": []
    },
    "kernelspec": {
      "display_name": "KDP",
      "language": "python",
      "name": "python3"
    },
    "language_info": {
      "codemirror_mode": {
        "name": "ipython",
        "version": 3
      },
      "file_extension": ".py",
      "mimetype": "text/x-python",
      "name": "python",
      "nbconvert_exporter": "python",
      "pygments_lexer": "ipython3",
      "version": "3.10.4"
    },
    "orig_nbformat": 4,
    "widgets": {
      "application/vnd.jupyter.widget-state+json": {
        "040b11de38be4e038ddbd8100f69f257": {
          "model_module": "@jupyter-widgets/controls",
          "model_module_version": "1.5.0",
          "model_name": "DescriptionStyleModel",
          "state": {
            "_model_module": "@jupyter-widgets/controls",
            "_model_module_version": "1.5.0",
            "_model_name": "DescriptionStyleModel",
            "_view_count": null,
            "_view_module": "@jupyter-widgets/base",
            "_view_module_version": "1.2.0",
            "_view_name": "StyleView",
            "description_width": ""
          }
        },
        "050d2d4118844d42b183566bef3592e0": {
          "model_module": "@jupyter-widgets/controls",
          "model_module_version": "1.5.0",
          "model_name": "HBoxModel",
          "state": {
            "_dom_classes": [],
            "_model_module": "@jupyter-widgets/controls",
            "_model_module_version": "1.5.0",
            "_model_name": "HBoxModel",
            "_view_count": null,
            "_view_module": "@jupyter-widgets/controls",
            "_view_module_version": "1.5.0",
            "_view_name": "HBoxView",
            "box_style": "",
            "children": [
              "IPY_MODEL_c063205b890441f5bd4f4b042066932c",
              "IPY_MODEL_e8d97178597847c19e83eb7f69ad589f",
              "IPY_MODEL_9dca8fa5905147e89f1e3ef46d56e959"
            ],
            "layout": "IPY_MODEL_b4244364f20243f691d217dbbc4fded3"
          }
        },
        "06903e8bced246feab7a1756553ae747": {
          "model_module": "@jupyter-widgets/controls",
          "model_module_version": "1.5.0",
          "model_name": "ProgressStyleModel",
          "state": {
            "_model_module": "@jupyter-widgets/controls",
            "_model_module_version": "1.5.0",
            "_model_name": "ProgressStyleModel",
            "_view_count": null,
            "_view_module": "@jupyter-widgets/base",
            "_view_module_version": "1.2.0",
            "_view_name": "StyleView",
            "bar_color": null,
            "description_width": ""
          }
        },
        "088a03fb150c402ca33a1aa5c31258cb": {
          "model_module": "@jupyter-widgets/controls",
          "model_module_version": "1.5.0",
          "model_name": "DescriptionStyleModel",
          "state": {
            "_model_module": "@jupyter-widgets/controls",
            "_model_module_version": "1.5.0",
            "_model_name": "DescriptionStyleModel",
            "_view_count": null,
            "_view_module": "@jupyter-widgets/base",
            "_view_module_version": "1.2.0",
            "_view_name": "StyleView",
            "description_width": ""
          }
        },
        "1209049c63744f1b9b96349da8f447b8": {
          "model_module": "@jupyter-widgets/controls",
          "model_module_version": "1.5.0",
          "model_name": "DescriptionStyleModel",
          "state": {
            "_model_module": "@jupyter-widgets/controls",
            "_model_module_version": "1.5.0",
            "_model_name": "DescriptionStyleModel",
            "_view_count": null,
            "_view_module": "@jupyter-widgets/base",
            "_view_module_version": "1.2.0",
            "_view_name": "StyleView",
            "description_width": ""
          }
        },
        "162ccead90c34560a42955009fd012f3": {
          "model_module": "@jupyter-widgets/controls",
          "model_module_version": "1.5.0",
          "model_name": "HTMLModel",
          "state": {
            "_dom_classes": [],
            "_model_module": "@jupyter-widgets/controls",
            "_model_module_version": "1.5.0",
            "_model_name": "HTMLModel",
            "_view_count": null,
            "_view_module": "@jupyter-widgets/controls",
            "_view_module_version": "1.5.0",
            "_view_name": "HTMLView",
            "description": "",
            "description_tooltip": null,
            "layout": "IPY_MODEL_e22e629c3ca0473c8b22f4e124decba7",
            "placeholder": "​",
            "style": "IPY_MODEL_557c1d536a15483e98db006f43dce020",
            "value": " 4/4 [00:15&lt;00:00,  4.77s/ url]"
          }
        },
        "1657ee431fca44269f27d87207e724ba": {
          "model_module": "@jupyter-widgets/controls",
          "model_module_version": "1.5.0",
          "model_name": "HBoxModel",
          "state": {
            "_dom_classes": [],
            "_model_module": "@jupyter-widgets/controls",
            "_model_module_version": "1.5.0",
            "_model_name": "HBoxModel",
            "_view_count": null,
            "_view_module": "@jupyter-widgets/controls",
            "_view_module_version": "1.5.0",
            "_view_name": "HBoxView",
            "box_style": "",
            "children": [
              "IPY_MODEL_b2eeb5bd5bfb481abd1292b53882dfdd",
              "IPY_MODEL_489ef9e8905c43108e0e48f8f57fc412",
              "IPY_MODEL_4a26254a555e4797bac4de46635760b8"
            ],
            "layout": "IPY_MODEL_a44efbaeacde40c9a168340af98a9771"
          }
        },
        "18d0fca32c204c2d8d06e9db69e0c5c4": {
          "model_module": "@jupyter-widgets/controls",
          "model_module_version": "1.5.0",
          "model_name": "DescriptionStyleModel",
          "state": {
            "_model_module": "@jupyter-widgets/controls",
            "_model_module_version": "1.5.0",
            "_model_name": "DescriptionStyleModel",
            "_view_count": null,
            "_view_module": "@jupyter-widgets/base",
            "_view_module_version": "1.2.0",
            "_view_name": "StyleView",
            "description_width": ""
          }
        },
        "21482d4f9d0941c2b9e5b00760991adb": {
          "model_module": "@jupyter-widgets/controls",
          "model_module_version": "1.5.0",
          "model_name": "HBoxModel",
          "state": {
            "_dom_classes": [],
            "_model_module": "@jupyter-widgets/controls",
            "_model_module_version": "1.5.0",
            "_model_name": "HBoxModel",
            "_view_count": null,
            "_view_module": "@jupyter-widgets/controls",
            "_view_module_version": "1.5.0",
            "_view_name": "HBoxView",
            "box_style": "",
            "children": [
              "IPY_MODEL_4235b5c52674407b97b1879680bd668d",
              "IPY_MODEL_b2a623735e74448ea20f1bd1ae07c004",
              "IPY_MODEL_2e4a6686c89f448888f13f856d6a88f8"
            ],
            "layout": "IPY_MODEL_a6cd4f32efc1461daa3a5eda66387799"
          }
        },
        "235a88ba3e254e2793e47d4dbbe155f3": {
          "model_module": "@jupyter-widgets/base",
          "model_module_version": "1.2.0",
          "model_name": "LayoutModel",
          "state": {
            "_model_module": "@jupyter-widgets/base",
            "_model_module_version": "1.2.0",
            "_model_name": "LayoutModel",
            "_view_count": null,
            "_view_module": "@jupyter-widgets/base",
            "_view_module_version": "1.2.0",
            "_view_name": "LayoutView",
            "align_content": null,
            "align_items": null,
            "align_self": null,
            "border": null,
            "bottom": null,
            "display": null,
            "flex": null,
            "flex_flow": null,
            "grid_area": null,
            "grid_auto_columns": null,
            "grid_auto_flow": null,
            "grid_auto_rows": null,
            "grid_column": null,
            "grid_gap": null,
            "grid_row": null,
            "grid_template_areas": null,
            "grid_template_columns": null,
            "grid_template_rows": null,
            "height": null,
            "justify_content": null,
            "justify_items": null,
            "left": null,
            "margin": null,
            "max_height": null,
            "max_width": null,
            "min_height": null,
            "min_width": null,
            "object_fit": null,
            "object_position": null,
            "order": null,
            "overflow": null,
            "overflow_x": null,
            "overflow_y": null,
            "padding": null,
            "right": null,
            "top": null,
            "visibility": null,
            "width": null
          }
        },
        "2637154c8c474d2a8e1f113ab8762532": {
          "model_module": "@jupyter-widgets/controls",
          "model_module_version": "1.5.0",
          "model_name": "HTMLModel",
          "state": {
            "_dom_classes": [],
            "_model_module": "@jupyter-widgets/controls",
            "_model_module_version": "1.5.0",
            "_model_name": "HTMLModel",
            "_view_count": null,
            "_view_module": "@jupyter-widgets/controls",
            "_view_module_version": "1.5.0",
            "_view_name": "HTMLView",
            "description": "",
            "description_tooltip": null,
            "layout": "IPY_MODEL_87252a739ff64c969aa0de57603a6f26",
            "placeholder": "​",
            "style": "IPY_MODEL_90c8c3b828c847a1ad0dd26cf738dfa4",
            "value": " 9820/10000 [00:04&lt;00:00, 2376.91 examples/s]"
          }
        },
        "2e4a6686c89f448888f13f856d6a88f8": {
          "model_module": "@jupyter-widgets/controls",
          "model_module_version": "1.5.0",
          "model_name": "HTMLModel",
          "state": {
            "_dom_classes": [],
            "_model_module": "@jupyter-widgets/controls",
            "_model_module_version": "1.5.0",
            "_model_name": "HTMLModel",
            "_view_count": null,
            "_view_module": "@jupyter-widgets/controls",
            "_view_module_version": "1.5.0",
            "_view_name": "HTMLView",
            "description": "",
            "description_tooltip": null,
            "layout": "IPY_MODEL_235a88ba3e254e2793e47d4dbbe155f3",
            "placeholder": "​",
            "style": "IPY_MODEL_088a03fb150c402ca33a1aa5c31258cb",
            "value": " 0/10000 [00:00&lt;?, ? examples/s]"
          }
        },
        "2ec8a518fb894687bf5c068c203fe52c": {
          "model_module": "@jupyter-widgets/base",
          "model_module_version": "1.2.0",
          "model_name": "LayoutModel",
          "state": {
            "_model_module": "@jupyter-widgets/base",
            "_model_module_version": "1.2.0",
            "_model_name": "LayoutModel",
            "_view_count": null,
            "_view_module": "@jupyter-widgets/base",
            "_view_module_version": "1.2.0",
            "_view_name": "LayoutView",
            "align_content": null,
            "align_items": null,
            "align_self": null,
            "border": null,
            "bottom": null,
            "display": null,
            "flex": null,
            "flex_flow": null,
            "grid_area": null,
            "grid_auto_columns": null,
            "grid_auto_flow": null,
            "grid_auto_rows": null,
            "grid_column": null,
            "grid_gap": null,
            "grid_row": null,
            "grid_template_areas": null,
            "grid_template_columns": null,
            "grid_template_rows": null,
            "height": null,
            "justify_content": null,
            "justify_items": null,
            "left": null,
            "margin": null,
            "max_height": null,
            "max_width": null,
            "min_height": null,
            "min_width": null,
            "object_fit": null,
            "object_position": null,
            "order": null,
            "overflow": null,
            "overflow_x": null,
            "overflow_y": null,
            "padding": null,
            "right": null,
            "top": null,
            "visibility": "hidden",
            "width": null
          }
        },
        "2f1e10b31f95438b8210ab6715b6a203": {
          "model_module": "@jupyter-widgets/base",
          "model_module_version": "1.2.0",
          "model_name": "LayoutModel",
          "state": {
            "_model_module": "@jupyter-widgets/base",
            "_model_module_version": "1.2.0",
            "_model_name": "LayoutModel",
            "_view_count": null,
            "_view_module": "@jupyter-widgets/base",
            "_view_module_version": "1.2.0",
            "_view_name": "LayoutView",
            "align_content": null,
            "align_items": null,
            "align_self": null,
            "border": null,
            "bottom": null,
            "display": null,
            "flex": null,
            "flex_flow": null,
            "grid_area": null,
            "grid_auto_columns": null,
            "grid_auto_flow": null,
            "grid_auto_rows": null,
            "grid_column": null,
            "grid_gap": null,
            "grid_row": null,
            "grid_template_areas": null,
            "grid_template_columns": null,
            "grid_template_rows": null,
            "height": null,
            "justify_content": null,
            "justify_items": null,
            "left": null,
            "margin": null,
            "max_height": null,
            "max_width": null,
            "min_height": null,
            "min_width": null,
            "object_fit": null,
            "object_position": null,
            "order": null,
            "overflow": null,
            "overflow_x": null,
            "overflow_y": null,
            "padding": null,
            "right": null,
            "top": null,
            "visibility": null,
            "width": null
          }
        },
        "3a43a3c0e6894401a2372921ba184619": {
          "model_module": "@jupyter-widgets/controls",
          "model_module_version": "1.5.0",
          "model_name": "HBoxModel",
          "state": {
            "_dom_classes": [],
            "_model_module": "@jupyter-widgets/controls",
            "_model_module_version": "1.5.0",
            "_model_name": "HBoxModel",
            "_view_count": null,
            "_view_module": "@jupyter-widgets/controls",
            "_view_module_version": "1.5.0",
            "_view_name": "HBoxView",
            "box_style": "",
            "children": [
              "IPY_MODEL_c7640d47aa594539aee1c6cc1262a33c",
              "IPY_MODEL_c848faf5ddaf45c1a8d73e847594ae97",
              "IPY_MODEL_9792491d15e9479f85594aaa292f1508"
            ],
            "layout": "IPY_MODEL_48b2a0d95fdd48ef8827bcff6665ab9f"
          }
        },
        "3ee94364f5f94edea445368c3c74080d": {
          "model_module": "@jupyter-widgets/base",
          "model_module_version": "1.2.0",
          "model_name": "LayoutModel",
          "state": {
            "_model_module": "@jupyter-widgets/base",
            "_model_module_version": "1.2.0",
            "_model_name": "LayoutModel",
            "_view_count": null,
            "_view_module": "@jupyter-widgets/base",
            "_view_module_version": "1.2.0",
            "_view_name": "LayoutView",
            "align_content": null,
            "align_items": null,
            "align_self": null,
            "border": null,
            "bottom": null,
            "display": null,
            "flex": null,
            "flex_flow": null,
            "grid_area": null,
            "grid_auto_columns": null,
            "grid_auto_flow": null,
            "grid_auto_rows": null,
            "grid_column": null,
            "grid_gap": null,
            "grid_row": null,
            "grid_template_areas": null,
            "grid_template_columns": null,
            "grid_template_rows": null,
            "height": null,
            "justify_content": null,
            "justify_items": null,
            "left": null,
            "margin": null,
            "max_height": null,
            "max_width": null,
            "min_height": null,
            "min_width": null,
            "object_fit": null,
            "object_position": null,
            "order": null,
            "overflow": null,
            "overflow_x": null,
            "overflow_y": null,
            "padding": null,
            "right": null,
            "top": null,
            "visibility": null,
            "width": null
          }
        },
        "4235b5c52674407b97b1879680bd668d": {
          "model_module": "@jupyter-widgets/controls",
          "model_module_version": "1.5.0",
          "model_name": "HTMLModel",
          "state": {
            "_dom_classes": [],
            "_model_module": "@jupyter-widgets/controls",
            "_model_module_version": "1.5.0",
            "_model_name": "HTMLModel",
            "_view_count": null,
            "_view_module": "@jupyter-widgets/controls",
            "_view_module_version": "1.5.0",
            "_view_name": "HTMLView",
            "description": "",
            "description_tooltip": null,
            "layout": "IPY_MODEL_8efdf1f7e75f43c7bb21c1cb651b4164",
            "placeholder": "​",
            "style": "IPY_MODEL_040b11de38be4e038ddbd8100f69f257",
            "value": "Shuffling /root/tensorflow_datasets/fashion_mnist/3.0.1.incompleteGR3B7K/fashion_mnist-test.tfrecord*...:   0%"
          }
        },
        "4283880c526644b6bbd4498a2f858dee": {
          "model_module": "@jupyter-widgets/controls",
          "model_module_version": "1.5.0",
          "model_name": "FloatProgressModel",
          "state": {
            "_dom_classes": [],
            "_model_module": "@jupyter-widgets/controls",
            "_model_module_version": "1.5.0",
            "_model_name": "FloatProgressModel",
            "_view_count": null,
            "_view_module": "@jupyter-widgets/controls",
            "_view_module_version": "1.5.0",
            "_view_name": "ProgressView",
            "bar_style": "success",
            "description": "",
            "description_tooltip": null,
            "layout": "IPY_MODEL_480716b931a94183af4f99aeedee983b",
            "max": 1,
            "min": 0,
            "orientation": "horizontal",
            "style": "IPY_MODEL_4c3bff4e412940f884d1fa78ffd1a4b8",
            "value": 1
          }
        },
        "467215b236ee4a729ad619b0c3919552": {
          "model_module": "@jupyter-widgets/base",
          "model_module_version": "1.2.0",
          "model_name": "LayoutModel",
          "state": {
            "_model_module": "@jupyter-widgets/base",
            "_model_module_version": "1.2.0",
            "_model_name": "LayoutModel",
            "_view_count": null,
            "_view_module": "@jupyter-widgets/base",
            "_view_module_version": "1.2.0",
            "_view_name": "LayoutView",
            "align_content": null,
            "align_items": null,
            "align_self": null,
            "border": null,
            "bottom": null,
            "display": null,
            "flex": null,
            "flex_flow": null,
            "grid_area": null,
            "grid_auto_columns": null,
            "grid_auto_flow": null,
            "grid_auto_rows": null,
            "grid_column": null,
            "grid_gap": null,
            "grid_row": null,
            "grid_template_areas": null,
            "grid_template_columns": null,
            "grid_template_rows": null,
            "height": null,
            "justify_content": null,
            "justify_items": null,
            "left": null,
            "margin": null,
            "max_height": null,
            "max_width": null,
            "min_height": null,
            "min_width": null,
            "object_fit": null,
            "object_position": null,
            "order": null,
            "overflow": null,
            "overflow_x": null,
            "overflow_y": null,
            "padding": null,
            "right": null,
            "top": null,
            "visibility": null,
            "width": null
          }
        },
        "480716b931a94183af4f99aeedee983b": {
          "model_module": "@jupyter-widgets/base",
          "model_module_version": "1.2.0",
          "model_name": "LayoutModel",
          "state": {
            "_model_module": "@jupyter-widgets/base",
            "_model_module_version": "1.2.0",
            "_model_name": "LayoutModel",
            "_view_count": null,
            "_view_module": "@jupyter-widgets/base",
            "_view_module_version": "1.2.0",
            "_view_name": "LayoutView",
            "align_content": null,
            "align_items": null,
            "align_self": null,
            "border": null,
            "bottom": null,
            "display": null,
            "flex": null,
            "flex_flow": null,
            "grid_area": null,
            "grid_auto_columns": null,
            "grid_auto_flow": null,
            "grid_auto_rows": null,
            "grid_column": null,
            "grid_gap": null,
            "grid_row": null,
            "grid_template_areas": null,
            "grid_template_columns": null,
            "grid_template_rows": null,
            "height": null,
            "justify_content": null,
            "justify_items": null,
            "left": null,
            "margin": null,
            "max_height": null,
            "max_width": null,
            "min_height": null,
            "min_width": null,
            "object_fit": null,
            "object_position": null,
            "order": null,
            "overflow": null,
            "overflow_x": null,
            "overflow_y": null,
            "padding": null,
            "right": null,
            "top": null,
            "visibility": null,
            "width": "20px"
          }
        },
        "488820ff1a0a4f3e9933c662c9f81741": {
          "model_module": "@jupyter-widgets/controls",
          "model_module_version": "1.5.0",
          "model_name": "HBoxModel",
          "state": {
            "_dom_classes": [],
            "_model_module": "@jupyter-widgets/controls",
            "_model_module_version": "1.5.0",
            "_model_name": "HBoxModel",
            "_view_count": null,
            "_view_module": "@jupyter-widgets/controls",
            "_view_module_version": "1.5.0",
            "_view_name": "HBoxView",
            "box_style": "",
            "children": [
              "IPY_MODEL_d236cab2f5504408843599693cfee4f1",
              "IPY_MODEL_53ff135cf0a047b08f29b96cb308e5eb",
              "IPY_MODEL_9cf07e7f786b446f966f2fb5a3873bd4"
            ],
            "layout": "IPY_MODEL_763f11673a534b8db7b23329ef0ae269"
          }
        },
        "489ef9e8905c43108e0e48f8f57fc412": {
          "model_module": "@jupyter-widgets/controls",
          "model_module_version": "1.5.0",
          "model_name": "FloatProgressModel",
          "state": {
            "_dom_classes": [],
            "_model_module": "@jupyter-widgets/controls",
            "_model_module_version": "1.5.0",
            "_model_name": "FloatProgressModel",
            "_view_count": null,
            "_view_module": "@jupyter-widgets/controls",
            "_view_module_version": "1.5.0",
            "_view_name": "ProgressView",
            "bar_style": "",
            "description": "",
            "description_tooltip": null,
            "layout": "IPY_MODEL_53634484804148ffa312532399587d9d",
            "max": 60000,
            "min": 0,
            "orientation": "horizontal",
            "style": "IPY_MODEL_e247045df7c24d41bc27dd2e5ec16a02",
            "value": 60000
          }
        },
        "48b2a0d95fdd48ef8827bcff6665ab9f": {
          "model_module": "@jupyter-widgets/base",
          "model_module_version": "1.2.0",
          "model_name": "LayoutModel",
          "state": {
            "_model_module": "@jupyter-widgets/base",
            "_model_module_version": "1.2.0",
            "_model_name": "LayoutModel",
            "_view_count": null,
            "_view_module": "@jupyter-widgets/base",
            "_view_module_version": "1.2.0",
            "_view_name": "LayoutView",
            "align_content": null,
            "align_items": null,
            "align_self": null,
            "border": null,
            "bottom": null,
            "display": null,
            "flex": null,
            "flex_flow": null,
            "grid_area": null,
            "grid_auto_columns": null,
            "grid_auto_flow": null,
            "grid_auto_rows": null,
            "grid_column": null,
            "grid_gap": null,
            "grid_row": null,
            "grid_template_areas": null,
            "grid_template_columns": null,
            "grid_template_rows": null,
            "height": null,
            "justify_content": null,
            "justify_items": null,
            "left": null,
            "margin": null,
            "max_height": null,
            "max_width": null,
            "min_height": null,
            "min_width": null,
            "object_fit": null,
            "object_position": null,
            "order": null,
            "overflow": null,
            "overflow_x": null,
            "overflow_y": null,
            "padding": null,
            "right": null,
            "top": null,
            "visibility": null,
            "width": null
          }
        },
        "4a26254a555e4797bac4de46635760b8": {
          "model_module": "@jupyter-widgets/controls",
          "model_module_version": "1.5.0",
          "model_name": "HTMLModel",
          "state": {
            "_dom_classes": [],
            "_model_module": "@jupyter-widgets/controls",
            "_model_module_version": "1.5.0",
            "_model_name": "HTMLModel",
            "_view_count": null,
            "_view_module": "@jupyter-widgets/controls",
            "_view_module_version": "1.5.0",
            "_view_name": "HTMLView",
            "description": "",
            "description_tooltip": null,
            "layout": "IPY_MODEL_4e13140b066a496198880d29f26b960c",
            "placeholder": "​",
            "style": "IPY_MODEL_711ebd6a1d804d9cbde099bc8254ed58",
            "value": " 41305/60000 [00:00&lt;00:00, 152246.03 examples/s]"
          }
        },
        "4a2c571707704f7c9a8309d6e23db53e": {
          "model_module": "@jupyter-widgets/base",
          "model_module_version": "1.2.0",
          "model_name": "LayoutModel",
          "state": {
            "_model_module": "@jupyter-widgets/base",
            "_model_module_version": "1.2.0",
            "_model_name": "LayoutModel",
            "_view_count": null,
            "_view_module": "@jupyter-widgets/base",
            "_view_module_version": "1.2.0",
            "_view_name": "LayoutView",
            "align_content": null,
            "align_items": null,
            "align_self": null,
            "border": null,
            "bottom": null,
            "display": null,
            "flex": null,
            "flex_flow": null,
            "grid_area": null,
            "grid_auto_columns": null,
            "grid_auto_flow": null,
            "grid_auto_rows": null,
            "grid_column": null,
            "grid_gap": null,
            "grid_row": null,
            "grid_template_areas": null,
            "grid_template_columns": null,
            "grid_template_rows": null,
            "height": null,
            "justify_content": null,
            "justify_items": null,
            "left": null,
            "margin": null,
            "max_height": null,
            "max_width": null,
            "min_height": null,
            "min_width": null,
            "object_fit": null,
            "object_position": null,
            "order": null,
            "overflow": null,
            "overflow_x": null,
            "overflow_y": null,
            "padding": null,
            "right": null,
            "top": null,
            "visibility": null,
            "width": null
          }
        },
        "4c3bff4e412940f884d1fa78ffd1a4b8": {
          "model_module": "@jupyter-widgets/controls",
          "model_module_version": "1.5.0",
          "model_name": "ProgressStyleModel",
          "state": {
            "_model_module": "@jupyter-widgets/controls",
            "_model_module_version": "1.5.0",
            "_model_name": "ProgressStyleModel",
            "_view_count": null,
            "_view_module": "@jupyter-widgets/base",
            "_view_module_version": "1.2.0",
            "_view_name": "StyleView",
            "bar_color": null,
            "description_width": ""
          }
        },
        "4c76e684fce043c3b00c502f9edee7ba": {
          "model_module": "@jupyter-widgets/base",
          "model_module_version": "1.2.0",
          "model_name": "LayoutModel",
          "state": {
            "_model_module": "@jupyter-widgets/base",
            "_model_module_version": "1.2.0",
            "_model_name": "LayoutModel",
            "_view_count": null,
            "_view_module": "@jupyter-widgets/base",
            "_view_module_version": "1.2.0",
            "_view_name": "LayoutView",
            "align_content": null,
            "align_items": null,
            "align_self": null,
            "border": null,
            "bottom": null,
            "display": null,
            "flex": null,
            "flex_flow": null,
            "grid_area": null,
            "grid_auto_columns": null,
            "grid_auto_flow": null,
            "grid_auto_rows": null,
            "grid_column": null,
            "grid_gap": null,
            "grid_row": null,
            "grid_template_areas": null,
            "grid_template_columns": null,
            "grid_template_rows": null,
            "height": null,
            "justify_content": null,
            "justify_items": null,
            "left": null,
            "margin": null,
            "max_height": null,
            "max_width": null,
            "min_height": null,
            "min_width": null,
            "object_fit": null,
            "object_position": null,
            "order": null,
            "overflow": null,
            "overflow_x": null,
            "overflow_y": null,
            "padding": null,
            "right": null,
            "top": null,
            "visibility": null,
            "width": null
          }
        },
        "4e13140b066a496198880d29f26b960c": {
          "model_module": "@jupyter-widgets/base",
          "model_module_version": "1.2.0",
          "model_name": "LayoutModel",
          "state": {
            "_model_module": "@jupyter-widgets/base",
            "_model_module_version": "1.2.0",
            "_model_name": "LayoutModel",
            "_view_count": null,
            "_view_module": "@jupyter-widgets/base",
            "_view_module_version": "1.2.0",
            "_view_name": "LayoutView",
            "align_content": null,
            "align_items": null,
            "align_self": null,
            "border": null,
            "bottom": null,
            "display": null,
            "flex": null,
            "flex_flow": null,
            "grid_area": null,
            "grid_auto_columns": null,
            "grid_auto_flow": null,
            "grid_auto_rows": null,
            "grid_column": null,
            "grid_gap": null,
            "grid_row": null,
            "grid_template_areas": null,
            "grid_template_columns": null,
            "grid_template_rows": null,
            "height": null,
            "justify_content": null,
            "justify_items": null,
            "left": null,
            "margin": null,
            "max_height": null,
            "max_width": null,
            "min_height": null,
            "min_width": null,
            "object_fit": null,
            "object_position": null,
            "order": null,
            "overflow": null,
            "overflow_x": null,
            "overflow_y": null,
            "padding": null,
            "right": null,
            "top": null,
            "visibility": null,
            "width": null
          }
        },
        "530c7f73a1c04b67b3f558f0f3a79b27": {
          "model_module": "@jupyter-widgets/controls",
          "model_module_version": "1.5.0",
          "model_name": "HBoxModel",
          "state": {
            "_dom_classes": [],
            "_model_module": "@jupyter-widgets/controls",
            "_model_module_version": "1.5.0",
            "_model_name": "HBoxModel",
            "_view_count": null,
            "_view_module": "@jupyter-widgets/controls",
            "_view_module_version": "1.5.0",
            "_view_name": "HBoxView",
            "box_style": "",
            "children": [
              "IPY_MODEL_cfcccab99ff94043a46c4a3fbd2bbf0b",
              "IPY_MODEL_b2f8e2f64a0f4757a1994c6f3bf97181",
              "IPY_MODEL_e31429cc58c144e9a2a07c489dcf25cf"
            ],
            "layout": "IPY_MODEL_2ec8a518fb894687bf5c068c203fe52c"
          }
        },
        "53634484804148ffa312532399587d9d": {
          "model_module": "@jupyter-widgets/base",
          "model_module_version": "1.2.0",
          "model_name": "LayoutModel",
          "state": {
            "_model_module": "@jupyter-widgets/base",
            "_model_module_version": "1.2.0",
            "_model_name": "LayoutModel",
            "_view_count": null,
            "_view_module": "@jupyter-widgets/base",
            "_view_module_version": "1.2.0",
            "_view_name": "LayoutView",
            "align_content": null,
            "align_items": null,
            "align_self": null,
            "border": null,
            "bottom": null,
            "display": null,
            "flex": null,
            "flex_flow": null,
            "grid_area": null,
            "grid_auto_columns": null,
            "grid_auto_flow": null,
            "grid_auto_rows": null,
            "grid_column": null,
            "grid_gap": null,
            "grid_row": null,
            "grid_template_areas": null,
            "grid_template_columns": null,
            "grid_template_rows": null,
            "height": null,
            "justify_content": null,
            "justify_items": null,
            "left": null,
            "margin": null,
            "max_height": null,
            "max_width": null,
            "min_height": null,
            "min_width": null,
            "object_fit": null,
            "object_position": null,
            "order": null,
            "overflow": null,
            "overflow_x": null,
            "overflow_y": null,
            "padding": null,
            "right": null,
            "top": null,
            "visibility": null,
            "width": null
          }
        },
        "53ff135cf0a047b08f29b96cb308e5eb": {
          "model_module": "@jupyter-widgets/controls",
          "model_module_version": "1.5.0",
          "model_name": "FloatProgressModel",
          "state": {
            "_dom_classes": [],
            "_model_module": "@jupyter-widgets/controls",
            "_model_module_version": "1.5.0",
            "_model_name": "FloatProgressModel",
            "_view_count": null,
            "_view_module": "@jupyter-widgets/controls",
            "_view_module_version": "1.5.0",
            "_view_name": "ProgressView",
            "bar_style": "success",
            "description": "",
            "description_tooltip": null,
            "layout": "IPY_MODEL_7ad8129fafd44d30ba2cd28b1002ad20",
            "max": 1,
            "min": 0,
            "orientation": "horizontal",
            "style": "IPY_MODEL_5b0aa68a6818401e9339764b7fce1846",
            "value": 1
          }
        },
        "557c1d536a15483e98db006f43dce020": {
          "model_module": "@jupyter-widgets/controls",
          "model_module_version": "1.5.0",
          "model_name": "DescriptionStyleModel",
          "state": {
            "_model_module": "@jupyter-widgets/controls",
            "_model_module_version": "1.5.0",
            "_model_name": "DescriptionStyleModel",
            "_view_count": null,
            "_view_module": "@jupyter-widgets/base",
            "_view_module_version": "1.2.0",
            "_view_name": "StyleView",
            "description_width": ""
          }
        },
        "5b0aa68a6818401e9339764b7fce1846": {
          "model_module": "@jupyter-widgets/controls",
          "model_module_version": "1.5.0",
          "model_name": "ProgressStyleModel",
          "state": {
            "_model_module": "@jupyter-widgets/controls",
            "_model_module_version": "1.5.0",
            "_model_name": "ProgressStyleModel",
            "_view_count": null,
            "_view_module": "@jupyter-widgets/base",
            "_view_module_version": "1.2.0",
            "_view_name": "StyleView",
            "bar_color": null,
            "description_width": ""
          }
        },
        "61c85ca188ec416aa44c721cfb23c504": {
          "model_module": "@jupyter-widgets/controls",
          "model_module_version": "1.5.0",
          "model_name": "HTMLModel",
          "state": {
            "_dom_classes": [],
            "_model_module": "@jupyter-widgets/controls",
            "_model_module_version": "1.5.0",
            "_model_name": "HTMLModel",
            "_view_count": null,
            "_view_module": "@jupyter-widgets/controls",
            "_view_module_version": "1.5.0",
            "_view_name": "HTMLView",
            "description": "",
            "description_tooltip": null,
            "layout": "IPY_MODEL_e88667bdbe0d47dfbb474d87fd921711",
            "placeholder": "​",
            "style": "IPY_MODEL_8b04d3391c4d4241a44fc71493114b33",
            "value": "Generating test examples...:  98%"
          }
        },
        "6517b258dcf1498ebe98b5fed126deda": {
          "model_module": "@jupyter-widgets/controls",
          "model_module_version": "1.5.0",
          "model_name": "DescriptionStyleModel",
          "state": {
            "_model_module": "@jupyter-widgets/controls",
            "_model_module_version": "1.5.0",
            "_model_name": "DescriptionStyleModel",
            "_view_count": null,
            "_view_module": "@jupyter-widgets/base",
            "_view_module_version": "1.2.0",
            "_view_name": "StyleView",
            "description_width": ""
          }
        },
        "6598ca5294a14afeaf39333d6e2e5934": {
          "model_module": "@jupyter-widgets/base",
          "model_module_version": "1.2.0",
          "model_name": "LayoutModel",
          "state": {
            "_model_module": "@jupyter-widgets/base",
            "_model_module_version": "1.2.0",
            "_model_name": "LayoutModel",
            "_view_count": null,
            "_view_module": "@jupyter-widgets/base",
            "_view_module_version": "1.2.0",
            "_view_name": "LayoutView",
            "align_content": null,
            "align_items": null,
            "align_self": null,
            "border": null,
            "bottom": null,
            "display": null,
            "flex": null,
            "flex_flow": null,
            "grid_area": null,
            "grid_auto_columns": null,
            "grid_auto_flow": null,
            "grid_auto_rows": null,
            "grid_column": null,
            "grid_gap": null,
            "grid_row": null,
            "grid_template_areas": null,
            "grid_template_columns": null,
            "grid_template_rows": null,
            "height": null,
            "justify_content": null,
            "justify_items": null,
            "left": null,
            "margin": null,
            "max_height": null,
            "max_width": null,
            "min_height": null,
            "min_width": null,
            "object_fit": null,
            "object_position": null,
            "order": null,
            "overflow": null,
            "overflow_x": null,
            "overflow_y": null,
            "padding": null,
            "right": null,
            "top": null,
            "visibility": null,
            "width": null
          }
        },
        "676040e3122b4a10a896fd542bc4ebf6": {
          "model_module": "@jupyter-widgets/controls",
          "model_module_version": "1.5.0",
          "model_name": "ProgressStyleModel",
          "state": {
            "_model_module": "@jupyter-widgets/controls",
            "_model_module_version": "1.5.0",
            "_model_name": "ProgressStyleModel",
            "_view_count": null,
            "_view_module": "@jupyter-widgets/base",
            "_view_module_version": "1.2.0",
            "_view_name": "StyleView",
            "bar_color": null,
            "description_width": ""
          }
        },
        "6e7c0f7a70b048e28fec2213a2ddfc2d": {
          "model_module": "@jupyter-widgets/controls",
          "model_module_version": "1.5.0",
          "model_name": "DescriptionStyleModel",
          "state": {
            "_model_module": "@jupyter-widgets/controls",
            "_model_module_version": "1.5.0",
            "_model_name": "DescriptionStyleModel",
            "_view_count": null,
            "_view_module": "@jupyter-widgets/base",
            "_view_module_version": "1.2.0",
            "_view_name": "StyleView",
            "description_width": ""
          }
        },
        "705e9dd7ce3243f1b83855fe0c2a9846": {
          "model_module": "@jupyter-widgets/base",
          "model_module_version": "1.2.0",
          "model_name": "LayoutModel",
          "state": {
            "_model_module": "@jupyter-widgets/base",
            "_model_module_version": "1.2.0",
            "_model_name": "LayoutModel",
            "_view_count": null,
            "_view_module": "@jupyter-widgets/base",
            "_view_module_version": "1.2.0",
            "_view_name": "LayoutView",
            "align_content": null,
            "align_items": null,
            "align_self": null,
            "border": null,
            "bottom": null,
            "display": null,
            "flex": null,
            "flex_flow": null,
            "grid_area": null,
            "grid_auto_columns": null,
            "grid_auto_flow": null,
            "grid_auto_rows": null,
            "grid_column": null,
            "grid_gap": null,
            "grid_row": null,
            "grid_template_areas": null,
            "grid_template_columns": null,
            "grid_template_rows": null,
            "height": null,
            "justify_content": null,
            "justify_items": null,
            "left": null,
            "margin": null,
            "max_height": null,
            "max_width": null,
            "min_height": null,
            "min_width": null,
            "object_fit": null,
            "object_position": null,
            "order": null,
            "overflow": null,
            "overflow_x": null,
            "overflow_y": null,
            "padding": null,
            "right": null,
            "top": null,
            "visibility": null,
            "width": null
          }
        },
        "711ebd6a1d804d9cbde099bc8254ed58": {
          "model_module": "@jupyter-widgets/controls",
          "model_module_version": "1.5.0",
          "model_name": "DescriptionStyleModel",
          "state": {
            "_model_module": "@jupyter-widgets/controls",
            "_model_module_version": "1.5.0",
            "_model_name": "DescriptionStyleModel",
            "_view_count": null,
            "_view_module": "@jupyter-widgets/base",
            "_view_module_version": "1.2.0",
            "_view_name": "StyleView",
            "description_width": ""
          }
        },
        "763f11673a534b8db7b23329ef0ae269": {
          "model_module": "@jupyter-widgets/base",
          "model_module_version": "1.2.0",
          "model_name": "LayoutModel",
          "state": {
            "_model_module": "@jupyter-widgets/base",
            "_model_module_version": "1.2.0",
            "_model_name": "LayoutModel",
            "_view_count": null,
            "_view_module": "@jupyter-widgets/base",
            "_view_module_version": "1.2.0",
            "_view_name": "LayoutView",
            "align_content": null,
            "align_items": null,
            "align_self": null,
            "border": null,
            "bottom": null,
            "display": null,
            "flex": null,
            "flex_flow": null,
            "grid_area": null,
            "grid_auto_columns": null,
            "grid_auto_flow": null,
            "grid_auto_rows": null,
            "grid_column": null,
            "grid_gap": null,
            "grid_row": null,
            "grid_template_areas": null,
            "grid_template_columns": null,
            "grid_template_rows": null,
            "height": null,
            "justify_content": null,
            "justify_items": null,
            "left": null,
            "margin": null,
            "max_height": null,
            "max_width": null,
            "min_height": null,
            "min_width": null,
            "object_fit": null,
            "object_position": null,
            "order": null,
            "overflow": null,
            "overflow_x": null,
            "overflow_y": null,
            "padding": null,
            "right": null,
            "top": null,
            "visibility": null,
            "width": null
          }
        },
        "7ad8129fafd44d30ba2cd28b1002ad20": {
          "model_module": "@jupyter-widgets/base",
          "model_module_version": "1.2.0",
          "model_name": "LayoutModel",
          "state": {
            "_model_module": "@jupyter-widgets/base",
            "_model_module_version": "1.2.0",
            "_model_name": "LayoutModel",
            "_view_count": null,
            "_view_module": "@jupyter-widgets/base",
            "_view_module_version": "1.2.0",
            "_view_name": "LayoutView",
            "align_content": null,
            "align_items": null,
            "align_self": null,
            "border": null,
            "bottom": null,
            "display": null,
            "flex": null,
            "flex_flow": null,
            "grid_area": null,
            "grid_auto_columns": null,
            "grid_auto_flow": null,
            "grid_auto_rows": null,
            "grid_column": null,
            "grid_gap": null,
            "grid_row": null,
            "grid_template_areas": null,
            "grid_template_columns": null,
            "grid_template_rows": null,
            "height": null,
            "justify_content": null,
            "justify_items": null,
            "left": null,
            "margin": null,
            "max_height": null,
            "max_width": null,
            "min_height": null,
            "min_width": null,
            "object_fit": null,
            "object_position": null,
            "order": null,
            "overflow": null,
            "overflow_x": null,
            "overflow_y": null,
            "padding": null,
            "right": null,
            "top": null,
            "visibility": null,
            "width": "20px"
          }
        },
        "7d6a8300450d49ed867c7b87c960cf88": {
          "model_module": "@jupyter-widgets/controls",
          "model_module_version": "1.5.0",
          "model_name": "DescriptionStyleModel",
          "state": {
            "_model_module": "@jupyter-widgets/controls",
            "_model_module_version": "1.5.0",
            "_model_name": "DescriptionStyleModel",
            "_view_count": null,
            "_view_module": "@jupyter-widgets/base",
            "_view_module_version": "1.2.0",
            "_view_name": "StyleView",
            "description_width": ""
          }
        },
        "846bc035281a49ab9f5060024f63aeb3": {
          "model_module": "@jupyter-widgets/base",
          "model_module_version": "1.2.0",
          "model_name": "LayoutModel",
          "state": {
            "_model_module": "@jupyter-widgets/base",
            "_model_module_version": "1.2.0",
            "_model_name": "LayoutModel",
            "_view_count": null,
            "_view_module": "@jupyter-widgets/base",
            "_view_module_version": "1.2.0",
            "_view_name": "LayoutView",
            "align_content": null,
            "align_items": null,
            "align_self": null,
            "border": null,
            "bottom": null,
            "display": null,
            "flex": null,
            "flex_flow": null,
            "grid_area": null,
            "grid_auto_columns": null,
            "grid_auto_flow": null,
            "grid_auto_rows": null,
            "grid_column": null,
            "grid_gap": null,
            "grid_row": null,
            "grid_template_areas": null,
            "grid_template_columns": null,
            "grid_template_rows": null,
            "height": null,
            "justify_content": null,
            "justify_items": null,
            "left": null,
            "margin": null,
            "max_height": null,
            "max_width": null,
            "min_height": null,
            "min_width": null,
            "object_fit": null,
            "object_position": null,
            "order": null,
            "overflow": null,
            "overflow_x": null,
            "overflow_y": null,
            "padding": null,
            "right": null,
            "top": null,
            "visibility": null,
            "width": null
          }
        },
        "87252a739ff64c969aa0de57603a6f26": {
          "model_module": "@jupyter-widgets/base",
          "model_module_version": "1.2.0",
          "model_name": "LayoutModel",
          "state": {
            "_model_module": "@jupyter-widgets/base",
            "_model_module_version": "1.2.0",
            "_model_name": "LayoutModel",
            "_view_count": null,
            "_view_module": "@jupyter-widgets/base",
            "_view_module_version": "1.2.0",
            "_view_name": "LayoutView",
            "align_content": null,
            "align_items": null,
            "align_self": null,
            "border": null,
            "bottom": null,
            "display": null,
            "flex": null,
            "flex_flow": null,
            "grid_area": null,
            "grid_auto_columns": null,
            "grid_auto_flow": null,
            "grid_auto_rows": null,
            "grid_column": null,
            "grid_gap": null,
            "grid_row": null,
            "grid_template_areas": null,
            "grid_template_columns": null,
            "grid_template_rows": null,
            "height": null,
            "justify_content": null,
            "justify_items": null,
            "left": null,
            "margin": null,
            "max_height": null,
            "max_width": null,
            "min_height": null,
            "min_width": null,
            "object_fit": null,
            "object_position": null,
            "order": null,
            "overflow": null,
            "overflow_x": null,
            "overflow_y": null,
            "padding": null,
            "right": null,
            "top": null,
            "visibility": null,
            "width": null
          }
        },
        "8948c83477644bd2abf7a46bc13ca927": {
          "model_module": "@jupyter-widgets/controls",
          "model_module_version": "1.5.0",
          "model_name": "DescriptionStyleModel",
          "state": {
            "_model_module": "@jupyter-widgets/controls",
            "_model_module_version": "1.5.0",
            "_model_name": "DescriptionStyleModel",
            "_view_count": null,
            "_view_module": "@jupyter-widgets/base",
            "_view_module_version": "1.2.0",
            "_view_name": "StyleView",
            "description_width": ""
          }
        },
        "8b04d3391c4d4241a44fc71493114b33": {
          "model_module": "@jupyter-widgets/controls",
          "model_module_version": "1.5.0",
          "model_name": "DescriptionStyleModel",
          "state": {
            "_model_module": "@jupyter-widgets/controls",
            "_model_module_version": "1.5.0",
            "_model_name": "DescriptionStyleModel",
            "_view_count": null,
            "_view_module": "@jupyter-widgets/base",
            "_view_module_version": "1.2.0",
            "_view_name": "StyleView",
            "description_width": ""
          }
        },
        "8e2bf995d7a34f74bcda98fe447fbdb0": {
          "model_module": "@jupyter-widgets/controls",
          "model_module_version": "1.5.0",
          "model_name": "DescriptionStyleModel",
          "state": {
            "_model_module": "@jupyter-widgets/controls",
            "_model_module_version": "1.5.0",
            "_model_name": "DescriptionStyleModel",
            "_view_count": null,
            "_view_module": "@jupyter-widgets/base",
            "_view_module_version": "1.2.0",
            "_view_name": "StyleView",
            "description_width": ""
          }
        },
        "8efdf1f7e75f43c7bb21c1cb651b4164": {
          "model_module": "@jupyter-widgets/base",
          "model_module_version": "1.2.0",
          "model_name": "LayoutModel",
          "state": {
            "_model_module": "@jupyter-widgets/base",
            "_model_module_version": "1.2.0",
            "_model_name": "LayoutModel",
            "_view_count": null,
            "_view_module": "@jupyter-widgets/base",
            "_view_module_version": "1.2.0",
            "_view_name": "LayoutView",
            "align_content": null,
            "align_items": null,
            "align_self": null,
            "border": null,
            "bottom": null,
            "display": null,
            "flex": null,
            "flex_flow": null,
            "grid_area": null,
            "grid_auto_columns": null,
            "grid_auto_flow": null,
            "grid_auto_rows": null,
            "grid_column": null,
            "grid_gap": null,
            "grid_row": null,
            "grid_template_areas": null,
            "grid_template_columns": null,
            "grid_template_rows": null,
            "height": null,
            "justify_content": null,
            "justify_items": null,
            "left": null,
            "margin": null,
            "max_height": null,
            "max_width": null,
            "min_height": null,
            "min_width": null,
            "object_fit": null,
            "object_position": null,
            "order": null,
            "overflow": null,
            "overflow_x": null,
            "overflow_y": null,
            "padding": null,
            "right": null,
            "top": null,
            "visibility": null,
            "width": null
          }
        },
        "90c8c3b828c847a1ad0dd26cf738dfa4": {
          "model_module": "@jupyter-widgets/controls",
          "model_module_version": "1.5.0",
          "model_name": "DescriptionStyleModel",
          "state": {
            "_model_module": "@jupyter-widgets/controls",
            "_model_module_version": "1.5.0",
            "_model_name": "DescriptionStyleModel",
            "_view_count": null,
            "_view_module": "@jupyter-widgets/base",
            "_view_module_version": "1.2.0",
            "_view_name": "StyleView",
            "description_width": ""
          }
        },
        "9792491d15e9479f85594aaa292f1508": {
          "model_module": "@jupyter-widgets/controls",
          "model_module_version": "1.5.0",
          "model_name": "HTMLModel",
          "state": {
            "_dom_classes": [],
            "_model_module": "@jupyter-widgets/controls",
            "_model_module_version": "1.5.0",
            "_model_name": "HTMLModel",
            "_view_count": null,
            "_view_module": "@jupyter-widgets/controls",
            "_view_module_version": "1.5.0",
            "_view_name": "HTMLView",
            "description": "",
            "description_tooltip": null,
            "layout": "IPY_MODEL_9d0cc1cc61b040fa9ced7ab9498827eb",
            "placeholder": "​",
            "style": "IPY_MODEL_1209049c63744f1b9b96349da8f447b8",
            "value": " 29/29 [00:15&lt;00:00,  5.90 MiB/s]"
          }
        },
        "97dd6361fa0a401ea31d321db2bc3fb9": {
          "model_module": "@jupyter-widgets/base",
          "model_module_version": "1.2.0",
          "model_name": "LayoutModel",
          "state": {
            "_model_module": "@jupyter-widgets/base",
            "_model_module_version": "1.2.0",
            "_model_name": "LayoutModel",
            "_view_count": null,
            "_view_module": "@jupyter-widgets/base",
            "_view_module_version": "1.2.0",
            "_view_name": "LayoutView",
            "align_content": null,
            "align_items": null,
            "align_self": null,
            "border": null,
            "bottom": null,
            "display": null,
            "flex": null,
            "flex_flow": null,
            "grid_area": null,
            "grid_auto_columns": null,
            "grid_auto_flow": null,
            "grid_auto_rows": null,
            "grid_column": null,
            "grid_gap": null,
            "grid_row": null,
            "grid_template_areas": null,
            "grid_template_columns": null,
            "grid_template_rows": null,
            "height": null,
            "justify_content": null,
            "justify_items": null,
            "left": null,
            "margin": null,
            "max_height": null,
            "max_width": null,
            "min_height": null,
            "min_width": null,
            "object_fit": null,
            "object_position": null,
            "order": null,
            "overflow": null,
            "overflow_x": null,
            "overflow_y": null,
            "padding": null,
            "right": null,
            "top": null,
            "visibility": null,
            "width": null
          }
        },
        "9cf07e7f786b446f966f2fb5a3873bd4": {
          "model_module": "@jupyter-widgets/controls",
          "model_module_version": "1.5.0",
          "model_name": "HTMLModel",
          "state": {
            "_dom_classes": [],
            "_model_module": "@jupyter-widgets/controls",
            "_model_module_version": "1.5.0",
            "_model_name": "HTMLModel",
            "_view_count": null,
            "_view_module": "@jupyter-widgets/controls",
            "_view_module_version": "1.5.0",
            "_view_name": "HTMLView",
            "description": "",
            "description_tooltip": null,
            "layout": "IPY_MODEL_6598ca5294a14afeaf39333d6e2e5934",
            "placeholder": "​",
            "style": "IPY_MODEL_8e2bf995d7a34f74bcda98fe447fbdb0",
            "value": " 4/4 [00:15&lt;00:00,  4.91s/ file]"
          }
        },
        "9d0cc1cc61b040fa9ced7ab9498827eb": {
          "model_module": "@jupyter-widgets/base",
          "model_module_version": "1.2.0",
          "model_name": "LayoutModel",
          "state": {
            "_model_module": "@jupyter-widgets/base",
            "_model_module_version": "1.2.0",
            "_model_name": "LayoutModel",
            "_view_count": null,
            "_view_module": "@jupyter-widgets/base",
            "_view_module_version": "1.2.0",
            "_view_name": "LayoutView",
            "align_content": null,
            "align_items": null,
            "align_self": null,
            "border": null,
            "bottom": null,
            "display": null,
            "flex": null,
            "flex_flow": null,
            "grid_area": null,
            "grid_auto_columns": null,
            "grid_auto_flow": null,
            "grid_auto_rows": null,
            "grid_column": null,
            "grid_gap": null,
            "grid_row": null,
            "grid_template_areas": null,
            "grid_template_columns": null,
            "grid_template_rows": null,
            "height": null,
            "justify_content": null,
            "justify_items": null,
            "left": null,
            "margin": null,
            "max_height": null,
            "max_width": null,
            "min_height": null,
            "min_width": null,
            "object_fit": null,
            "object_position": null,
            "order": null,
            "overflow": null,
            "overflow_x": null,
            "overflow_y": null,
            "padding": null,
            "right": null,
            "top": null,
            "visibility": null,
            "width": null
          }
        },
        "9d3ce32aa72042bcacbbe8c2c53c11c2": {
          "model_module": "@jupyter-widgets/controls",
          "model_module_version": "1.5.0",
          "model_name": "DescriptionStyleModel",
          "state": {
            "_model_module": "@jupyter-widgets/controls",
            "_model_module_version": "1.5.0",
            "_model_name": "DescriptionStyleModel",
            "_view_count": null,
            "_view_module": "@jupyter-widgets/base",
            "_view_module_version": "1.2.0",
            "_view_name": "StyleView",
            "description_width": ""
          }
        },
        "9dca8fa5905147e89f1e3ef46d56e959": {
          "model_module": "@jupyter-widgets/controls",
          "model_module_version": "1.5.0",
          "model_name": "HTMLModel",
          "state": {
            "_dom_classes": [],
            "_model_module": "@jupyter-widgets/controls",
            "_model_module_version": "1.5.0",
            "_model_name": "HTMLModel",
            "_view_count": null,
            "_view_module": "@jupyter-widgets/controls",
            "_view_module_version": "1.5.0",
            "_view_name": "HTMLView",
            "description": "",
            "description_tooltip": null,
            "layout": "IPY_MODEL_846bc035281a49ab9f5060024f63aeb3",
            "placeholder": "​",
            "style": "IPY_MODEL_6517b258dcf1498ebe98b5fed126deda",
            "value": " 2/2 [00:32&lt;00:00, 14.28s/ splits]"
          }
        },
        "9f5a74c385d14511ac0746bee5e636df": {
          "model_module": "@jupyter-widgets/base",
          "model_module_version": "1.2.0",
          "model_name": "LayoutModel",
          "state": {
            "_model_module": "@jupyter-widgets/base",
            "_model_module_version": "1.2.0",
            "_model_name": "LayoutModel",
            "_view_count": null,
            "_view_module": "@jupyter-widgets/base",
            "_view_module_version": "1.2.0",
            "_view_name": "LayoutView",
            "align_content": null,
            "align_items": null,
            "align_self": null,
            "border": null,
            "bottom": null,
            "display": null,
            "flex": null,
            "flex_flow": null,
            "grid_area": null,
            "grid_auto_columns": null,
            "grid_auto_flow": null,
            "grid_auto_rows": null,
            "grid_column": null,
            "grid_gap": null,
            "grid_row": null,
            "grid_template_areas": null,
            "grid_template_columns": null,
            "grid_template_rows": null,
            "height": null,
            "justify_content": null,
            "justify_items": null,
            "left": null,
            "margin": null,
            "max_height": null,
            "max_width": null,
            "min_height": null,
            "min_width": null,
            "object_fit": null,
            "object_position": null,
            "order": null,
            "overflow": null,
            "overflow_x": null,
            "overflow_y": null,
            "padding": null,
            "right": null,
            "top": null,
            "visibility": null,
            "width": null
          }
        },
        "a29f92dc23ba42bbb51968ef7fd35f50": {
          "model_module": "@jupyter-widgets/controls",
          "model_module_version": "1.5.0",
          "model_name": "HBoxModel",
          "state": {
            "_dom_classes": [],
            "_model_module": "@jupyter-widgets/controls",
            "_model_module_version": "1.5.0",
            "_model_name": "HBoxModel",
            "_view_count": null,
            "_view_module": "@jupyter-widgets/controls",
            "_view_module_version": "1.5.0",
            "_view_name": "HBoxView",
            "box_style": "",
            "children": [
              "IPY_MODEL_61c85ca188ec416aa44c721cfb23c504",
              "IPY_MODEL_ff1a7551fa5b4f038bfa76c6828806b7",
              "IPY_MODEL_2637154c8c474d2a8e1f113ab8762532"
            ],
            "layout": "IPY_MODEL_b059d467b70541b79851ae684a102bfb"
          }
        },
        "a44efbaeacde40c9a168340af98a9771": {
          "model_module": "@jupyter-widgets/base",
          "model_module_version": "1.2.0",
          "model_name": "LayoutModel",
          "state": {
            "_model_module": "@jupyter-widgets/base",
            "_model_module_version": "1.2.0",
            "_model_name": "LayoutModel",
            "_view_count": null,
            "_view_module": "@jupyter-widgets/base",
            "_view_module_version": "1.2.0",
            "_view_name": "LayoutView",
            "align_content": null,
            "align_items": null,
            "align_self": null,
            "border": null,
            "bottom": null,
            "display": null,
            "flex": null,
            "flex_flow": null,
            "grid_area": null,
            "grid_auto_columns": null,
            "grid_auto_flow": null,
            "grid_auto_rows": null,
            "grid_column": null,
            "grid_gap": null,
            "grid_row": null,
            "grid_template_areas": null,
            "grid_template_columns": null,
            "grid_template_rows": null,
            "height": null,
            "justify_content": null,
            "justify_items": null,
            "left": null,
            "margin": null,
            "max_height": null,
            "max_width": null,
            "min_height": null,
            "min_width": null,
            "object_fit": null,
            "object_position": null,
            "order": null,
            "overflow": null,
            "overflow_x": null,
            "overflow_y": null,
            "padding": null,
            "right": null,
            "top": null,
            "visibility": "hidden",
            "width": null
          }
        },
        "a6cd4f32efc1461daa3a5eda66387799": {
          "model_module": "@jupyter-widgets/base",
          "model_module_version": "1.2.0",
          "model_name": "LayoutModel",
          "state": {
            "_model_module": "@jupyter-widgets/base",
            "_model_module_version": "1.2.0",
            "_model_name": "LayoutModel",
            "_view_count": null,
            "_view_module": "@jupyter-widgets/base",
            "_view_module_version": "1.2.0",
            "_view_name": "LayoutView",
            "align_content": null,
            "align_items": null,
            "align_self": null,
            "border": null,
            "bottom": null,
            "display": null,
            "flex": null,
            "flex_flow": null,
            "grid_area": null,
            "grid_auto_columns": null,
            "grid_auto_flow": null,
            "grid_auto_rows": null,
            "grid_column": null,
            "grid_gap": null,
            "grid_row": null,
            "grid_template_areas": null,
            "grid_template_columns": null,
            "grid_template_rows": null,
            "height": null,
            "justify_content": null,
            "justify_items": null,
            "left": null,
            "margin": null,
            "max_height": null,
            "max_width": null,
            "min_height": null,
            "min_width": null,
            "object_fit": null,
            "object_position": null,
            "order": null,
            "overflow": null,
            "overflow_x": null,
            "overflow_y": null,
            "padding": null,
            "right": null,
            "top": null,
            "visibility": "hidden",
            "width": null
          }
        },
        "a77af069b26e4873b1c03ada85d9cb9f": {
          "model_module": "@jupyter-widgets/controls",
          "model_module_version": "1.5.0",
          "model_name": "DescriptionStyleModel",
          "state": {
            "_model_module": "@jupyter-widgets/controls",
            "_model_module_version": "1.5.0",
            "_model_name": "DescriptionStyleModel",
            "_view_count": null,
            "_view_module": "@jupyter-widgets/base",
            "_view_module_version": "1.2.0",
            "_view_name": "StyleView",
            "description_width": ""
          }
        },
        "ab0869581c5440a48292ad517e29abf0": {
          "model_module": "@jupyter-widgets/base",
          "model_module_version": "1.2.0",
          "model_name": "LayoutModel",
          "state": {
            "_model_module": "@jupyter-widgets/base",
            "_model_module_version": "1.2.0",
            "_model_name": "LayoutModel",
            "_view_count": null,
            "_view_module": "@jupyter-widgets/base",
            "_view_module_version": "1.2.0",
            "_view_name": "LayoutView",
            "align_content": null,
            "align_items": null,
            "align_self": null,
            "border": null,
            "bottom": null,
            "display": null,
            "flex": null,
            "flex_flow": null,
            "grid_area": null,
            "grid_auto_columns": null,
            "grid_auto_flow": null,
            "grid_auto_rows": null,
            "grid_column": null,
            "grid_gap": null,
            "grid_row": null,
            "grid_template_areas": null,
            "grid_template_columns": null,
            "grid_template_rows": null,
            "height": null,
            "justify_content": null,
            "justify_items": null,
            "left": null,
            "margin": null,
            "max_height": null,
            "max_width": null,
            "min_height": null,
            "min_width": null,
            "object_fit": null,
            "object_position": null,
            "order": null,
            "overflow": null,
            "overflow_x": null,
            "overflow_y": null,
            "padding": null,
            "right": null,
            "top": null,
            "visibility": null,
            "width": null
          }
        },
        "b059d467b70541b79851ae684a102bfb": {
          "model_module": "@jupyter-widgets/base",
          "model_module_version": "1.2.0",
          "model_name": "LayoutModel",
          "state": {
            "_model_module": "@jupyter-widgets/base",
            "_model_module_version": "1.2.0",
            "_model_name": "LayoutModel",
            "_view_count": null,
            "_view_module": "@jupyter-widgets/base",
            "_view_module_version": "1.2.0",
            "_view_name": "LayoutView",
            "align_content": null,
            "align_items": null,
            "align_self": null,
            "border": null,
            "bottom": null,
            "display": null,
            "flex": null,
            "flex_flow": null,
            "grid_area": null,
            "grid_auto_columns": null,
            "grid_auto_flow": null,
            "grid_auto_rows": null,
            "grid_column": null,
            "grid_gap": null,
            "grid_row": null,
            "grid_template_areas": null,
            "grid_template_columns": null,
            "grid_template_rows": null,
            "height": null,
            "justify_content": null,
            "justify_items": null,
            "left": null,
            "margin": null,
            "max_height": null,
            "max_width": null,
            "min_height": null,
            "min_width": null,
            "object_fit": null,
            "object_position": null,
            "order": null,
            "overflow": null,
            "overflow_x": null,
            "overflow_y": null,
            "padding": null,
            "right": null,
            "top": null,
            "visibility": "hidden",
            "width": null
          }
        },
        "b2a623735e74448ea20f1bd1ae07c004": {
          "model_module": "@jupyter-widgets/controls",
          "model_module_version": "1.5.0",
          "model_name": "FloatProgressModel",
          "state": {
            "_dom_classes": [],
            "_model_module": "@jupyter-widgets/controls",
            "_model_module_version": "1.5.0",
            "_model_name": "FloatProgressModel",
            "_view_count": null,
            "_view_module": "@jupyter-widgets/controls",
            "_view_module_version": "1.5.0",
            "_view_name": "ProgressView",
            "bar_style": "",
            "description": "",
            "description_tooltip": null,
            "layout": "IPY_MODEL_2f1e10b31f95438b8210ab6715b6a203",
            "max": 10000,
            "min": 0,
            "orientation": "horizontal",
            "style": "IPY_MODEL_b4ea297a501142d4bf1f2a13a8e2d7cf",
            "value": 10000
          }
        },
        "b2eeb5bd5bfb481abd1292b53882dfdd": {
          "model_module": "@jupyter-widgets/controls",
          "model_module_version": "1.5.0",
          "model_name": "HTMLModel",
          "state": {
            "_dom_classes": [],
            "_model_module": "@jupyter-widgets/controls",
            "_model_module_version": "1.5.0",
            "_model_name": "HTMLModel",
            "_view_count": null,
            "_view_module": "@jupyter-widgets/controls",
            "_view_module_version": "1.5.0",
            "_view_name": "HTMLView",
            "description": "",
            "description_tooltip": null,
            "layout": "IPY_MODEL_705e9dd7ce3243f1b83855fe0c2a9846",
            "placeholder": "​",
            "style": "IPY_MODEL_8948c83477644bd2abf7a46bc13ca927",
            "value": "Shuffling /root/tensorflow_datasets/fashion_mnist/3.0.1.incompleteGR3B7K/fashion_mnist-train.tfrecord*...:  69%"
          }
        },
        "b2f8e2f64a0f4757a1994c6f3bf97181": {
          "model_module": "@jupyter-widgets/controls",
          "model_module_version": "1.5.0",
          "model_name": "FloatProgressModel",
          "state": {
            "_dom_classes": [],
            "_model_module": "@jupyter-widgets/controls",
            "_model_module_version": "1.5.0",
            "_model_name": "FloatProgressModel",
            "_view_count": null,
            "_view_module": "@jupyter-widgets/controls",
            "_view_module_version": "1.5.0",
            "_view_name": "ProgressView",
            "bar_style": "",
            "description": "",
            "description_tooltip": null,
            "layout": "IPY_MODEL_cd7dab099bbb471f80bd8d6132b703f2",
            "max": 60000,
            "min": 0,
            "orientation": "horizontal",
            "style": "IPY_MODEL_06903e8bced246feab7a1756553ae747",
            "value": 60000
          }
        },
        "b3dde7503c63451182720912f6689bed": {
          "model_module": "@jupyter-widgets/controls",
          "model_module_version": "1.5.0",
          "model_name": "HTMLModel",
          "state": {
            "_dom_classes": [],
            "_model_module": "@jupyter-widgets/controls",
            "_model_module_version": "1.5.0",
            "_model_name": "HTMLModel",
            "_view_count": null,
            "_view_module": "@jupyter-widgets/controls",
            "_view_module_version": "1.5.0",
            "_view_name": "HTMLView",
            "description": "",
            "description_tooltip": null,
            "layout": "IPY_MODEL_f91147d9d2be48b1b859e51a103d8ab6",
            "placeholder": "​",
            "style": "IPY_MODEL_9d3ce32aa72042bcacbbe8c2c53c11c2",
            "value": "Dl Completed...: 100%"
          }
        },
        "b41a39ccc0ef4c6db94fc524fc873451": {
          "model_module": "@jupyter-widgets/controls",
          "model_module_version": "1.5.0",
          "model_name": "HBoxModel",
          "state": {
            "_dom_classes": [],
            "_model_module": "@jupyter-widgets/controls",
            "_model_module_version": "1.5.0",
            "_model_name": "HBoxModel",
            "_view_count": null,
            "_view_module": "@jupyter-widgets/controls",
            "_view_module_version": "1.5.0",
            "_view_name": "HBoxView",
            "box_style": "",
            "children": [
              "IPY_MODEL_b3dde7503c63451182720912f6689bed",
              "IPY_MODEL_4283880c526644b6bbd4498a2f858dee",
              "IPY_MODEL_162ccead90c34560a42955009fd012f3"
            ],
            "layout": "IPY_MODEL_9f5a74c385d14511ac0746bee5e636df"
          }
        },
        "b4244364f20243f691d217dbbc4fded3": {
          "model_module": "@jupyter-widgets/base",
          "model_module_version": "1.2.0",
          "model_name": "LayoutModel",
          "state": {
            "_model_module": "@jupyter-widgets/base",
            "_model_module_version": "1.2.0",
            "_model_name": "LayoutModel",
            "_view_count": null,
            "_view_module": "@jupyter-widgets/base",
            "_view_module_version": "1.2.0",
            "_view_name": "LayoutView",
            "align_content": null,
            "align_items": null,
            "align_self": null,
            "border": null,
            "bottom": null,
            "display": null,
            "flex": null,
            "flex_flow": null,
            "grid_area": null,
            "grid_auto_columns": null,
            "grid_auto_flow": null,
            "grid_auto_rows": null,
            "grid_column": null,
            "grid_gap": null,
            "grid_row": null,
            "grid_template_areas": null,
            "grid_template_columns": null,
            "grid_template_rows": null,
            "height": null,
            "justify_content": null,
            "justify_items": null,
            "left": null,
            "margin": null,
            "max_height": null,
            "max_width": null,
            "min_height": null,
            "min_width": null,
            "object_fit": null,
            "object_position": null,
            "order": null,
            "overflow": null,
            "overflow_x": null,
            "overflow_y": null,
            "padding": null,
            "right": null,
            "top": null,
            "visibility": "hidden",
            "width": null
          }
        },
        "b4ea297a501142d4bf1f2a13a8e2d7cf": {
          "model_module": "@jupyter-widgets/controls",
          "model_module_version": "1.5.0",
          "model_name": "ProgressStyleModel",
          "state": {
            "_model_module": "@jupyter-widgets/controls",
            "_model_module_version": "1.5.0",
            "_model_name": "ProgressStyleModel",
            "_view_count": null,
            "_view_module": "@jupyter-widgets/base",
            "_view_module_version": "1.2.0",
            "_view_name": "StyleView",
            "bar_color": null,
            "description_width": ""
          }
        },
        "c063205b890441f5bd4f4b042066932c": {
          "model_module": "@jupyter-widgets/controls",
          "model_module_version": "1.5.0",
          "model_name": "HTMLModel",
          "state": {
            "_dom_classes": [],
            "_model_module": "@jupyter-widgets/controls",
            "_model_module_version": "1.5.0",
            "_model_name": "HTMLModel",
            "_view_count": null,
            "_view_module": "@jupyter-widgets/controls",
            "_view_module_version": "1.5.0",
            "_view_name": "HTMLView",
            "description": "",
            "description_tooltip": null,
            "layout": "IPY_MODEL_ab0869581c5440a48292ad517e29abf0",
            "placeholder": "​",
            "style": "IPY_MODEL_18d0fca32c204c2d8d06e9db69e0c5c4",
            "value": "Generating splits...: 100%"
          }
        },
        "c7640d47aa594539aee1c6cc1262a33c": {
          "model_module": "@jupyter-widgets/controls",
          "model_module_version": "1.5.0",
          "model_name": "HTMLModel",
          "state": {
            "_dom_classes": [],
            "_model_module": "@jupyter-widgets/controls",
            "_model_module_version": "1.5.0",
            "_model_name": "HTMLModel",
            "_view_count": null,
            "_view_module": "@jupyter-widgets/controls",
            "_view_module_version": "1.5.0",
            "_view_name": "HTMLView",
            "description": "",
            "description_tooltip": null,
            "layout": "IPY_MODEL_97dd6361fa0a401ea31d321db2bc3fb9",
            "placeholder": "​",
            "style": "IPY_MODEL_e968985759ac40fea8bc60f30ea06ee1",
            "value": "Dl Size...: 100%"
          }
        },
        "c848faf5ddaf45c1a8d73e847594ae97": {
          "model_module": "@jupyter-widgets/controls",
          "model_module_version": "1.5.0",
          "model_name": "FloatProgressModel",
          "state": {
            "_dom_classes": [],
            "_model_module": "@jupyter-widgets/controls",
            "_model_module_version": "1.5.0",
            "_model_name": "FloatProgressModel",
            "_view_count": null,
            "_view_module": "@jupyter-widgets/controls",
            "_view_module_version": "1.5.0",
            "_view_name": "ProgressView",
            "bar_style": "success",
            "description": "",
            "description_tooltip": null,
            "layout": "IPY_MODEL_da1e79bbcd994c719e5524087ee7f65b",
            "max": 1,
            "min": 0,
            "orientation": "horizontal",
            "style": "IPY_MODEL_dbd4eb2227754c7aa7429f72c442f5af",
            "value": 1
          }
        },
        "c99418e5a97c4c3c824a24b3b6cfdcdc": {
          "model_module": "@jupyter-widgets/controls",
          "model_module_version": "1.5.0",
          "model_name": "ProgressStyleModel",
          "state": {
            "_model_module": "@jupyter-widgets/controls",
            "_model_module_version": "1.5.0",
            "_model_name": "ProgressStyleModel",
            "_view_count": null,
            "_view_module": "@jupyter-widgets/base",
            "_view_module_version": "1.2.0",
            "_view_name": "StyleView",
            "bar_color": null,
            "description_width": ""
          }
        },
        "cd7dab099bbb471f80bd8d6132b703f2": {
          "model_module": "@jupyter-widgets/base",
          "model_module_version": "1.2.0",
          "model_name": "LayoutModel",
          "state": {
            "_model_module": "@jupyter-widgets/base",
            "_model_module_version": "1.2.0",
            "_model_name": "LayoutModel",
            "_view_count": null,
            "_view_module": "@jupyter-widgets/base",
            "_view_module_version": "1.2.0",
            "_view_name": "LayoutView",
            "align_content": null,
            "align_items": null,
            "align_self": null,
            "border": null,
            "bottom": null,
            "display": null,
            "flex": null,
            "flex_flow": null,
            "grid_area": null,
            "grid_auto_columns": null,
            "grid_auto_flow": null,
            "grid_auto_rows": null,
            "grid_column": null,
            "grid_gap": null,
            "grid_row": null,
            "grid_template_areas": null,
            "grid_template_columns": null,
            "grid_template_rows": null,
            "height": null,
            "justify_content": null,
            "justify_items": null,
            "left": null,
            "margin": null,
            "max_height": null,
            "max_width": null,
            "min_height": null,
            "min_width": null,
            "object_fit": null,
            "object_position": null,
            "order": null,
            "overflow": null,
            "overflow_x": null,
            "overflow_y": null,
            "padding": null,
            "right": null,
            "top": null,
            "visibility": null,
            "width": null
          }
        },
        "cfcccab99ff94043a46c4a3fbd2bbf0b": {
          "model_module": "@jupyter-widgets/controls",
          "model_module_version": "1.5.0",
          "model_name": "HTMLModel",
          "state": {
            "_dom_classes": [],
            "_model_module": "@jupyter-widgets/controls",
            "_model_module_version": "1.5.0",
            "_model_name": "HTMLModel",
            "_view_count": null,
            "_view_module": "@jupyter-widgets/controls",
            "_view_module_version": "1.5.0",
            "_view_name": "HTMLView",
            "description": "",
            "description_tooltip": null,
            "layout": "IPY_MODEL_467215b236ee4a729ad619b0c3919552",
            "placeholder": "​",
            "style": "IPY_MODEL_7d6a8300450d49ed867c7b87c960cf88",
            "value": "Generating train examples...: 100%"
          }
        },
        "d236cab2f5504408843599693cfee4f1": {
          "model_module": "@jupyter-widgets/controls",
          "model_module_version": "1.5.0",
          "model_name": "HTMLModel",
          "state": {
            "_dom_classes": [],
            "_model_module": "@jupyter-widgets/controls",
            "_model_module_version": "1.5.0",
            "_model_name": "HTMLModel",
            "_view_count": null,
            "_view_module": "@jupyter-widgets/controls",
            "_view_module_version": "1.5.0",
            "_view_name": "HTMLView",
            "description": "",
            "description_tooltip": null,
            "layout": "IPY_MODEL_3ee94364f5f94edea445368c3c74080d",
            "placeholder": "​",
            "style": "IPY_MODEL_a77af069b26e4873b1c03ada85d9cb9f",
            "value": "Extraction completed...: 100%"
          }
        },
        "da1e79bbcd994c719e5524087ee7f65b": {
          "model_module": "@jupyter-widgets/base",
          "model_module_version": "1.2.0",
          "model_name": "LayoutModel",
          "state": {
            "_model_module": "@jupyter-widgets/base",
            "_model_module_version": "1.2.0",
            "_model_name": "LayoutModel",
            "_view_count": null,
            "_view_module": "@jupyter-widgets/base",
            "_view_module_version": "1.2.0",
            "_view_name": "LayoutView",
            "align_content": null,
            "align_items": null,
            "align_self": null,
            "border": null,
            "bottom": null,
            "display": null,
            "flex": null,
            "flex_flow": null,
            "grid_area": null,
            "grid_auto_columns": null,
            "grid_auto_flow": null,
            "grid_auto_rows": null,
            "grid_column": null,
            "grid_gap": null,
            "grid_row": null,
            "grid_template_areas": null,
            "grid_template_columns": null,
            "grid_template_rows": null,
            "height": null,
            "justify_content": null,
            "justify_items": null,
            "left": null,
            "margin": null,
            "max_height": null,
            "max_width": null,
            "min_height": null,
            "min_width": null,
            "object_fit": null,
            "object_position": null,
            "order": null,
            "overflow": null,
            "overflow_x": null,
            "overflow_y": null,
            "padding": null,
            "right": null,
            "top": null,
            "visibility": null,
            "width": "20px"
          }
        },
        "dbd4eb2227754c7aa7429f72c442f5af": {
          "model_module": "@jupyter-widgets/controls",
          "model_module_version": "1.5.0",
          "model_name": "ProgressStyleModel",
          "state": {
            "_model_module": "@jupyter-widgets/controls",
            "_model_module_version": "1.5.0",
            "_model_name": "ProgressStyleModel",
            "_view_count": null,
            "_view_module": "@jupyter-widgets/base",
            "_view_module_version": "1.2.0",
            "_view_name": "StyleView",
            "bar_color": null,
            "description_width": ""
          }
        },
        "e22e629c3ca0473c8b22f4e124decba7": {
          "model_module": "@jupyter-widgets/base",
          "model_module_version": "1.2.0",
          "model_name": "LayoutModel",
          "state": {
            "_model_module": "@jupyter-widgets/base",
            "_model_module_version": "1.2.0",
            "_model_name": "LayoutModel",
            "_view_count": null,
            "_view_module": "@jupyter-widgets/base",
            "_view_module_version": "1.2.0",
            "_view_name": "LayoutView",
            "align_content": null,
            "align_items": null,
            "align_self": null,
            "border": null,
            "bottom": null,
            "display": null,
            "flex": null,
            "flex_flow": null,
            "grid_area": null,
            "grid_auto_columns": null,
            "grid_auto_flow": null,
            "grid_auto_rows": null,
            "grid_column": null,
            "grid_gap": null,
            "grid_row": null,
            "grid_template_areas": null,
            "grid_template_columns": null,
            "grid_template_rows": null,
            "height": null,
            "justify_content": null,
            "justify_items": null,
            "left": null,
            "margin": null,
            "max_height": null,
            "max_width": null,
            "min_height": null,
            "min_width": null,
            "object_fit": null,
            "object_position": null,
            "order": null,
            "overflow": null,
            "overflow_x": null,
            "overflow_y": null,
            "padding": null,
            "right": null,
            "top": null,
            "visibility": null,
            "width": null
          }
        },
        "e247045df7c24d41bc27dd2e5ec16a02": {
          "model_module": "@jupyter-widgets/controls",
          "model_module_version": "1.5.0",
          "model_name": "ProgressStyleModel",
          "state": {
            "_model_module": "@jupyter-widgets/controls",
            "_model_module_version": "1.5.0",
            "_model_name": "ProgressStyleModel",
            "_view_count": null,
            "_view_module": "@jupyter-widgets/base",
            "_view_module_version": "1.2.0",
            "_view_name": "StyleView",
            "bar_color": null,
            "description_width": ""
          }
        },
        "e31429cc58c144e9a2a07c489dcf25cf": {
          "model_module": "@jupyter-widgets/controls",
          "model_module_version": "1.5.0",
          "model_name": "HTMLModel",
          "state": {
            "_dom_classes": [],
            "_model_module": "@jupyter-widgets/controls",
            "_model_module_version": "1.5.0",
            "_model_name": "HTMLModel",
            "_view_count": null,
            "_view_module": "@jupyter-widgets/controls",
            "_view_module_version": "1.5.0",
            "_view_name": "HTMLView",
            "description": "",
            "description_tooltip": null,
            "layout": "IPY_MODEL_4a2c571707704f7c9a8309d6e23db53e",
            "placeholder": "​",
            "style": "IPY_MODEL_6e7c0f7a70b048e28fec2213a2ddfc2d",
            "value": " 59873/60000 [00:27&lt;00:00, 1801.43 examples/s]"
          }
        },
        "e88667bdbe0d47dfbb474d87fd921711": {
          "model_module": "@jupyter-widgets/base",
          "model_module_version": "1.2.0",
          "model_name": "LayoutModel",
          "state": {
            "_model_module": "@jupyter-widgets/base",
            "_model_module_version": "1.2.0",
            "_model_name": "LayoutModel",
            "_view_count": null,
            "_view_module": "@jupyter-widgets/base",
            "_view_module_version": "1.2.0",
            "_view_name": "LayoutView",
            "align_content": null,
            "align_items": null,
            "align_self": null,
            "border": null,
            "bottom": null,
            "display": null,
            "flex": null,
            "flex_flow": null,
            "grid_area": null,
            "grid_auto_columns": null,
            "grid_auto_flow": null,
            "grid_auto_rows": null,
            "grid_column": null,
            "grid_gap": null,
            "grid_row": null,
            "grid_template_areas": null,
            "grid_template_columns": null,
            "grid_template_rows": null,
            "height": null,
            "justify_content": null,
            "justify_items": null,
            "left": null,
            "margin": null,
            "max_height": null,
            "max_width": null,
            "min_height": null,
            "min_width": null,
            "object_fit": null,
            "object_position": null,
            "order": null,
            "overflow": null,
            "overflow_x": null,
            "overflow_y": null,
            "padding": null,
            "right": null,
            "top": null,
            "visibility": null,
            "width": null
          }
        },
        "e8d97178597847c19e83eb7f69ad589f": {
          "model_module": "@jupyter-widgets/controls",
          "model_module_version": "1.5.0",
          "model_name": "FloatProgressModel",
          "state": {
            "_dom_classes": [],
            "_model_module": "@jupyter-widgets/controls",
            "_model_module_version": "1.5.0",
            "_model_name": "FloatProgressModel",
            "_view_count": null,
            "_view_module": "@jupyter-widgets/controls",
            "_view_module_version": "1.5.0",
            "_view_name": "ProgressView",
            "bar_style": "",
            "description": "",
            "description_tooltip": null,
            "layout": "IPY_MODEL_4c76e684fce043c3b00c502f9edee7ba",
            "max": 2,
            "min": 0,
            "orientation": "horizontal",
            "style": "IPY_MODEL_c99418e5a97c4c3c824a24b3b6cfdcdc",
            "value": 2
          }
        },
        "e968985759ac40fea8bc60f30ea06ee1": {
          "model_module": "@jupyter-widgets/controls",
          "model_module_version": "1.5.0",
          "model_name": "DescriptionStyleModel",
          "state": {
            "_model_module": "@jupyter-widgets/controls",
            "_model_module_version": "1.5.0",
            "_model_name": "DescriptionStyleModel",
            "_view_count": null,
            "_view_module": "@jupyter-widgets/base",
            "_view_module_version": "1.2.0",
            "_view_name": "StyleView",
            "description_width": ""
          }
        },
        "f91147d9d2be48b1b859e51a103d8ab6": {
          "model_module": "@jupyter-widgets/base",
          "model_module_version": "1.2.0",
          "model_name": "LayoutModel",
          "state": {
            "_model_module": "@jupyter-widgets/base",
            "_model_module_version": "1.2.0",
            "_model_name": "LayoutModel",
            "_view_count": null,
            "_view_module": "@jupyter-widgets/base",
            "_view_module_version": "1.2.0",
            "_view_name": "LayoutView",
            "align_content": null,
            "align_items": null,
            "align_self": null,
            "border": null,
            "bottom": null,
            "display": null,
            "flex": null,
            "flex_flow": null,
            "grid_area": null,
            "grid_auto_columns": null,
            "grid_auto_flow": null,
            "grid_auto_rows": null,
            "grid_column": null,
            "grid_gap": null,
            "grid_row": null,
            "grid_template_areas": null,
            "grid_template_columns": null,
            "grid_template_rows": null,
            "height": null,
            "justify_content": null,
            "justify_items": null,
            "left": null,
            "margin": null,
            "max_height": null,
            "max_width": null,
            "min_height": null,
            "min_width": null,
            "object_fit": null,
            "object_position": null,
            "order": null,
            "overflow": null,
            "overflow_x": null,
            "overflow_y": null,
            "padding": null,
            "right": null,
            "top": null,
            "visibility": null,
            "width": null
          }
        },
        "ff1a7551fa5b4f038bfa76c6828806b7": {
          "model_module": "@jupyter-widgets/controls",
          "model_module_version": "1.5.0",
          "model_name": "FloatProgressModel",
          "state": {
            "_dom_classes": [],
            "_model_module": "@jupyter-widgets/controls",
            "_model_module_version": "1.5.0",
            "_model_name": "FloatProgressModel",
            "_view_count": null,
            "_view_module": "@jupyter-widgets/controls",
            "_view_module_version": "1.5.0",
            "_view_name": "ProgressView",
            "bar_style": "",
            "description": "",
            "description_tooltip": null,
            "layout": "IPY_MODEL_ffc9fa7ef41a4c839d198bb44a573609",
            "max": 10000,
            "min": 0,
            "orientation": "horizontal",
            "style": "IPY_MODEL_676040e3122b4a10a896fd542bc4ebf6",
            "value": 10000
          }
        },
        "ffc9fa7ef41a4c839d198bb44a573609": {
          "model_module": "@jupyter-widgets/base",
          "model_module_version": "1.2.0",
          "model_name": "LayoutModel",
          "state": {
            "_model_module": "@jupyter-widgets/base",
            "_model_module_version": "1.2.0",
            "_model_name": "LayoutModel",
            "_view_count": null,
            "_view_module": "@jupyter-widgets/base",
            "_view_module_version": "1.2.0",
            "_view_name": "LayoutView",
            "align_content": null,
            "align_items": null,
            "align_self": null,
            "border": null,
            "bottom": null,
            "display": null,
            "flex": null,
            "flex_flow": null,
            "grid_area": null,
            "grid_auto_columns": null,
            "grid_auto_flow": null,
            "grid_auto_rows": null,
            "grid_column": null,
            "grid_gap": null,
            "grid_row": null,
            "grid_template_areas": null,
            "grid_template_columns": null,
            "grid_template_rows": null,
            "height": null,
            "justify_content": null,
            "justify_items": null,
            "left": null,
            "margin": null,
            "max_height": null,
            "max_width": null,
            "min_height": null,
            "min_width": null,
            "object_fit": null,
            "object_position": null,
            "order": null,
            "overflow": null,
            "overflow_x": null,
            "overflow_y": null,
            "padding": null,
            "right": null,
            "top": null,
            "visibility": null,
            "width": null
          }
        }
      }
    }
  },
  "nbformat": 4,
  "nbformat_minor": 0
}
