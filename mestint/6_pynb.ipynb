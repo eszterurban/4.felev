{
  "cells": [
    {
      "cell_type": "code",
      "execution_count": 2,
      "metadata": {
        "id": "r2ZzsydXsUdP"
      },
      "outputs": [],
      "source": [
        "graph=[[0,1,1,0,0,0],\n",
        "       [1,0,1,1,0,0],\n",
        "       [1,1,0,1,1,1],\n",
        "       [0,1,1,0,1,0],\n",
        "       [0,0,1,1,0,1],\n",
        "       [0,0,1,0,1,0]]"
      ]
    },
    {
      "cell_type": "code",
      "execution_count": 6,
      "metadata": {
        "colab": {
          "base_uri": "https://localhost:8080/",
          "height": 516
        },
        "id": "gXt6Y8BW39py",
        "outputId": "4a1f4fe7-4e0c-4eb3-c0cb-ab926ffcefba"
      },
      "outputs": [
        {
          "ename": "ModuleNotFoundError",
          "evalue": "No module named 'networkx'",
          "output_type": "error",
          "traceback": [
            "\u001b[1;31m---------------------------------------------------------------------------\u001b[0m",
            "\u001b[1;31mModuleNotFoundError\u001b[0m                       Traceback (most recent call last)",
            "Cell \u001b[1;32mIn[6], line 1\u001b[0m\n\u001b[1;32m----> 1\u001b[0m \u001b[39mimport\u001b[39;00m \u001b[39mnetworkx\u001b[39;00m \u001b[39mas\u001b[39;00m \u001b[39mnx\u001b[39;00m\n\u001b[0;32m      2\u001b[0m \u001b[39mimport\u001b[39;00m \u001b[39mmatplotlib\u001b[39;00m\u001b[39m.\u001b[39;00m\u001b[39mpyplot\u001b[39;00m \u001b[39mas\u001b[39;00m \u001b[39mplt\u001b[39;00m\n\u001b[0;32m      4\u001b[0m G \u001b[39m=\u001b[39m nx\u001b[39m.\u001b[39mGraph()\n",
            "\u001b[1;31mModuleNotFoundError\u001b[0m: No module named 'networkx'"
          ]
        }
      ],
      "source": [
        "import networkx as nx\n",
        "import matplotlib.pyplot as plt\n",
        "\n",
        "G = nx.Graph()\n",
        "for i in range(len(graph)):\n",
        "  for j in range(i+1, len(graph)):\n",
        "    if graph[i][j]:\n",
        "      G.add_edge(i+1, j+1)\n",
        "\n",
        "pos = nx.spring_layout(G)\n",
        "nx.draw(G, pos)\n",
        "nx.draw_networkx_labels(G, pos)\n",
        "plt.show()"
      ]
    },
    {
      "cell_type": "code",
      "execution_count": 3,
      "metadata": {
        "id": "c9me8P2l6xrd"
      },
      "outputs": [],
      "source": [
        "def is_safe(graph, color, v, c):\n",
        "  \"\"\"\n",
        "  Ellenőrzi hogy egy adott szín biztonságos-e egy adott csúcsban.\n",
        "  Ha egy csúcsban van olyan szomszéd aminek azonos a színe van mint a vizsgált \n",
        "  színű csúcsnak akkor az nem biztoságos.\n",
        "  \"\"\"\n",
        "  for i in range(len(graph)):\n",
        "    if graph[v][i] and c == color[i]:\n",
        "      return False\n",
        "  return True"
      ]
    },
    {
      "cell_type": "code",
      "execution_count": 4,
      "metadata": {
        "id": "nV3hLnhl7rqI"
      },
      "outputs": [],
      "source": [
        "def backtracking(graph, graf_colors, v, colors):\n",
        "  \"\"\"\n",
        "  A graph_coloring_util fg rekurzívan meghívja önmagát minden csúcsra és \n",
        "  megpróbálja kiválasztani a színeket.\n",
        "  Ha egy adott szín nem biztonságos, akkor kipróbál egy másik színt.\n",
        "  Ha egyik szín sem biztonságos akkor visszalép.\n",
        "  \"\"\"\n",
        "  if v == len(graph):\n",
        "    return True\n",
        "\n",
        "  for c in range(colors):\n",
        "    if is_safe(graph, graf_colors, v, c):\n",
        "      graf_colors[v] = c\n",
        "\n",
        "      if backtracking(graph, graf_colors, v+1, colors):\n",
        "        return True\n",
        "\n",
        "      graf_colors[v] = -1\n",
        "      \n",
        "  return False"
      ]
    },
    {
      "cell_type": "code",
      "execution_count": 5,
      "metadata": {
        "colab": {
          "base_uri": "https://localhost:8080/"
        },
        "id": "0rDuyIgb-0Z_",
        "outputId": "c75de894-b39e-442c-b35b-5b01e46765c6"
      },
      "outputs": [
        {
          "name": "stdout",
          "output_type": "stream",
          "text": [
            "[-1, -1, -1, -1, -1, -1]\n",
            "A gráf színezése:  [0, 1, 2, 0, 1, 0]\n"
          ]
        }
      ],
      "source": [
        "colors = 3\n",
        "non_colors = -1\n",
        "\n",
        "graf_colors = [non_colors] * len(graph)\n",
        "print(graf_colors)\n",
        "\n",
        "backtracking(graph, graf_colors, 0, colors)\n",
        "\n",
        "if non_colors not in graf_colors:\n",
        "  print(\"A gráf színezése: \", graf_colors)\n",
        "else:\n",
        "  print(\"Nem találtam megoldást a megadott színekkel.\")"
      ]
    },
    {
      "cell_type": "code",
      "execution_count": 6,
      "metadata": {
        "id": "1sGvBOfH_fD9"
      },
      "outputs": [],
      "source": [
        "def is_consistent(graph, colors):\n",
        "  \"\"\"\n",
        "  Az is_safe fg ellenőrzi hogy a gráf szinezése megfelelő-e.\n",
        "  A fg végig megy a gfáf összes csúcsán és ellenőrzi.\n",
        "  \"\"\"\n",
        "  for i in range(len(graph)):\n",
        "    for j in range(i+1, len(graph)):\n",
        "      if graph[i][j] and colors[j] == colors[i]:\n",
        "        return False\n",
        "  return True\n",
        "  "
      ]
    },
    {
      "cell_type": "code",
      "execution_count": 7,
      "metadata": {
        "id": "HYzZ8qWKAKeL"
      },
      "outputs": [],
      "source": [
        "def backtracking_c(graph, colors, v, graf_colors):\n",
        "  if v == len(graph):\n",
        "    if is_consistent(graph, graf_colors):\n",
        "      return True\n",
        "    else:\n",
        "      return False\n",
        "\n",
        "  for j in range(0, colors):\n",
        "    graf_colors[v] = j\n",
        "    if backtracking_c(graph, colors, v+1, graf_colors):\n",
        "      return True\n",
        "    graf_colors[v] = -1"
      ]
    },
    {
      "cell_type": "code",
      "execution_count": 8,
      "metadata": {
        "colab": {
          "base_uri": "https://localhost:8080/"
        },
        "id": "Dffh8-xjBAME",
        "outputId": "1e14abb7-999f-4043-c939-2608493da8fd"
      },
      "outputs": [
        {
          "data": {
            "text/plain": [
              "[0, 1, 2, 0, 1, 0]"
            ]
          },
          "execution_count": 8,
          "metadata": {},
          "output_type": "execute_result"
        }
      ],
      "source": [
        "colors = 4\n",
        "graf_colors = [-1] * len(graph)\n",
        "backtracking_c(graph, colors, 0, graf_colors)\n",
        "graf_colors"
      ]
    }
  ],
  "metadata": {
    "colab": {
      "provenance": []
    },
    "kernelspec": {
      "display_name": "Python 3",
      "name": "python3"
    },
    "language_info": {
      "codemirror_mode": {
        "name": "ipython",
        "version": 3
      },
      "file_extension": ".py",
      "mimetype": "text/x-python",
      "name": "python",
      "nbconvert_exporter": "python",
      "pygments_lexer": "ipython3",
      "version": "3.11.2"
    }
  },
  "nbformat": 4,
  "nbformat_minor": 0
}
