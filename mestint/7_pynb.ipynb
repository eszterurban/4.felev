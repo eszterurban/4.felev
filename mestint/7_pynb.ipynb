{
  "nbformat": 4,
  "nbformat_minor": 0,
  "metadata": {
    "colab": {
      "provenance": []
    },
    "kernelspec": {
      "name": "python3",
      "display_name": "Python 3"
    },
    "language_info": {
      "name": "python"
    }
  },
  "cells": [
    {
      "cell_type": "code",
      "source": [
        "class Game:\n",
        "\n",
        "  def actions(self, state):\n",
        "    raise NotImplementedError\n",
        "\n",
        "  def result(self, state, move):\n",
        "    raise NotImplementedError\n",
        "\n",
        "  def utility(self, state, player):\n",
        "    raise NotImplementedError\n",
        "\n",
        "  def terminal_test(self, state):\n",
        "    return not self.actions(state)\n",
        "  \n",
        "  def to_move(self, state):\n",
        "    return state.to_move\n",
        "\n",
        "  def display(self, state):\n",
        "    print(state)\n",
        "\n",
        "  def __repr__(self):\n",
        "    return '<{}>'.format(self.__class__.__name__)\n",
        "\n",
        "  def play_game(self, *players):\n",
        "    #kezdőállapot beállítása\n",
        "    state = self.initial\n",
        "    #amíg a végső állapotba nem lépünk\n",
        "    while True:\n",
        "      #veszünk egy játékost\n",
        "      for player in players:\n",
        "        #egy lépés a választott játékostól\n",
        "        move = player(self, state)\n",
        "        #a módosított állapot\n",
        "        state = self.result(state, move)\n",
        "        if self.terminal_test(state):\n",
        "          #ha végső állapot van akkor kiírja végeredményt\n",
        "          self.display(state)\n",
        "          return self.utility(state, self.to_move(self.initial))"
      ],
      "metadata": {
        "id": "2kDUXgzW50ih"
      },
      "execution_count": 1,
      "outputs": []
    },
    {
      "cell_type": "code",
      "source": [
        "from collections import namedtuple\n",
        "\n",
        "GameState = namedtuple('GameState', 'to_move, utility, board, moves')\n",
        "\n",
        "class TicTacToe(Game):\n",
        "  def __init__(self, h=3, v=3, k=3):\n",
        "    self.h = h\n",
        "    self.v = v\n",
        "    self.k = k\n",
        "    moves = [(x,y) for x in range(1, h+1) for y in range(1, v+1)]\n",
        "    self.initial = GameState(to_move='X', utility=0, board={}, moves=moves)\n",
        "\n",
        "  def actions(selff, state):\n",
        "    return state.moves\n",
        "\n",
        "  def result(self, state, move):\n",
        "    if move not in state.moves:\n",
        "      return state\n",
        "\n",
        "    board = state.board.copy()\n",
        "\n",
        "    board[move] = state.to_move\n",
        "\n",
        "    moves = list(state.moves)\n",
        "    moves.remove(move)\n",
        "\n",
        "    return GameState(to_move=('O' if state.to_move == 'X' else 'X'), utility=self.computer_utility(board, move, state.to_move), board=board, moves=moves)\n",
        "\n",
        "  def utility(self, state, player):\n",
        "    return state.utility if player == 'X' else -state.utility\n",
        "\n",
        "  def terminal_test(self, state):\n",
        "    return state.utility != 0 or len(state.moves) == 0\n",
        "\n",
        "  def display(self, state):\n",
        "    board = state.board\n",
        "\n",
        "    for x in range(1, self.h + 1):\n",
        "      for y in range(1, self.v + 1):\n",
        "        print(board.get((x,y), '.'), end=' ')\n",
        "      print()\n",
        "\n",
        "  def computer_utility(self, board, move, player):\n",
        "    if (self.k_in_row(board, move, player, (0,1)) or\n",
        "        self.k_in_row(board, move, player, (1,0)) or\n",
        "        self.k_in_row(board, move, player, (1,-1)) or\n",
        "        self.k_in_row(board, move, player, (0,1))):\n",
        "      return +1 if player == 'X' else -1\n",
        "\n",
        "    else:\n",
        "      return 0\n",
        "\n",
        "  def k_in_row(self, board, move, player, delta_x_y):\n",
        "    (delta_x, delta_y) = delta_x_y\n",
        "    x, y= move\n",
        "    n = 0\n",
        "\n",
        "    while board.get((x, y)) == player:\n",
        "      n += 1\n",
        "      x, y = x + delta_x, y + delta_y\n",
        "    x,y = move\n",
        "\n",
        "    while board.get((x, y)) == player:\n",
        "      n += 1\n",
        "      x,y = x - delta_x, y - delta_y\n",
        "    n -= 1\n",
        "\n",
        "    return n >= self.k"
      ],
      "metadata": {
        "id": "5DMp17NA8blZ"
      },
      "execution_count": 2,
      "outputs": []
    },
    {
      "cell_type": "code",
      "execution_count": 3,
      "metadata": {
        "colab": {
          "base_uri": "https://localhost:8080/"
        },
        "id": "P-POrM6j4PVt",
        "outputId": "3c24d5c0-d4b1-4209-c349-1bae3bbe54c9"
      },
      "outputs": [
        {
          "output_type": "stream",
          "name": "stdout",
          "text": [
            ". . . \n",
            ". . . \n",
            ". . . \n"
          ]
        }
      ],
      "source": [
        "ttt= TicTacToe()\n",
        "ttt.display(ttt.initial)"
      ]
    },
    {
      "cell_type": "code",
      "source": [
        "my_state = GameState(to_move = 'X', utility= '0', board= {(1,1):'X', (1,2):'O', (1,3):'X', (2,1):'O', (2,3):'O', (3,1):'X'}, moves= [(2,2), (3,2), (3,3)])\n",
        "ttt.display(my_state)"
      ],
      "metadata": {
        "colab": {
          "base_uri": "https://localhost:8080/"
        },
        "id": "nJIn5xiPErby",
        "outputId": "01e983ec-3bf1-4207-fd98-ea466d6fde85"
      },
      "execution_count": 4,
      "outputs": [
        {
          "output_type": "stream",
          "name": "stdout",
          "text": [
            "X O X \n",
            "O . O \n",
            "X . . \n"
          ]
        }
      ]
    },
    {
      "cell_type": "code",
      "source": [
        "import random\n",
        "\n",
        "def random_player(game, state):\n",
        "  return random.choice(game.actions(state)) if game.actions(state) else None\n",
        "\n",
        "random_player(ttt, my_state)"
      ],
      "metadata": {
        "colab": {
          "base_uri": "https://localhost:8080/"
        },
        "id": "CDr0JdUiGIzt",
        "outputId": "b9bf924c-9c92-45d0-ab29-68146e824774"
      },
      "execution_count": 5,
      "outputs": [
        {
          "output_type": "execute_result",
          "data": {
            "text/plain": [
              "(3, 2)"
            ]
          },
          "metadata": {},
          "execution_count": 5
        }
      ]
    },
    {
      "cell_type": "code",
      "source": [
        "ttt.play_game(random_player, random_player)"
      ],
      "metadata": {
        "colab": {
          "base_uri": "https://localhost:8080/"
        },
        "id": "1E5i7HWBH6ws",
        "outputId": "56aefd21-9bf0-4928-d95f-011f4f3c8c69"
      },
      "execution_count": 6,
      "outputs": [
        {
          "output_type": "stream",
          "name": "stdout",
          "text": [
            "O X O \n",
            "X X O \n",
            "O X X \n"
          ]
        },
        {
          "output_type": "execute_result",
          "data": {
            "text/plain": [
              "1"
            ]
          },
          "metadata": {},
          "execution_count": 6
        }
      ]
    },
    {
      "cell_type": "code",
      "source": [
        "import numpy as np\n",
        "\n",
        "def minmax(state, game):\n",
        "  player = game.to_move(state)\n",
        "\n",
        "  def max_value(state):\n",
        "    if game.terminal_test(state):\n",
        "      return game.utility(state, player)\n",
        "\n",
        "    v = -np.inf\n",
        "\n",
        "    for a in game.actions(state):\n",
        "      v = max(v, min_value(game.result(state, a)))\n",
        "    return v\n",
        "\n",
        "  def min_value(state):\n",
        "    if game.terminal_test(state):\n",
        "      return game.utility(state, player)\n",
        "    v = np.inf\n",
        "\n",
        "    for a in game.actions(state):\n",
        "      v = min(v, max_value(game.result(state, a)))\n",
        "    return v\n",
        "\n",
        "  return max(game.actions(state), key = lambda a: min_value(game.result(state,a)))"
      ],
      "metadata": {
        "id": "MCmVhz7EJnbK"
      },
      "execution_count": 10,
      "outputs": []
    },
    {
      "cell_type": "code",
      "source": [
        "def minmax_player(game, state):\n",
        "  return minmax(state, game)"
      ],
      "metadata": {
        "id": "b2pEsGDOIkuQ"
      },
      "execution_count": 11,
      "outputs": []
    },
    {
      "cell_type": "code",
      "source": [
        "ttt.play_game(minmax_player, random_player)"
      ],
      "metadata": {
        "colab": {
          "base_uri": "https://localhost:8080/"
        },
        "id": "pUBj7iDqIvDH",
        "outputId": "3773663f-00db-4c89-f509-2e74dfa32c9f"
      },
      "execution_count": 15,
      "outputs": [
        {
          "output_type": "stream",
          "name": "stdout",
          "text": [
            "X X X \n",
            ". O O \n",
            "X O . \n"
          ]
        },
        {
          "output_type": "execute_result",
          "data": {
            "text/plain": [
              "1"
            ]
          },
          "metadata": {},
          "execution_count": 15
        }
      ]
    }
  ]
}