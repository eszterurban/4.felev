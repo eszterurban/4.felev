{
 "cells": [
  {
   "attachments": {},
   "cell_type": "markdown",
   "metadata": {},
   "source": [
    "# 1. ZH C csoport - Összesen 10 pont - 90 perc áll rendelkezésre a megoldáshoz"
   ]
  },
  {
   "attachments": {},
   "cell_type": "markdown",
   "metadata": {},
   "source": [
    "## Azonosító adatok"
   ]
  },
  {
   "attachments": {},
   "cell_type": "markdown",
   "metadata": {},
   "source": [
    "- NÉV:\n",
    "- NEPTUN KÓD:"
   ]
  },
  {
   "attachments": {},
   "cell_type": "markdown",
   "metadata": {},
   "source": [
    "## Feladatok"
   ]
  },
  {
   "attachments": {},
   "cell_type": "markdown",
   "metadata": {},
   "source": [
    "1. (2 pont) Adja meg az alábbi probléma jellemzőit, illetve cél és kezdő állapotát:\n",
    "- Van egy speciális 64 különböző karakterből álló ABC.\n",
    "- A kezdő állapotban bármilyen sorrendben lehetnek a karakterek. De minden karakter elhelyezkedik valamilyen pozicóban.\n",
    "- A cél állapotban a karaktereknek a kezdő állapottal ellentétes irányban kell lenniük."
   ]
  },
  {
   "attachments": {},
   "cell_type": "markdown",
   "metadata": {},
   "source": [
    "- Egy példa arra ha csak 5 darabból állna az ABC:\n",
    "- Bemenet: A,B,C,D,E\n",
    "- Kimenet: E,D,C,B,A\n",
    "- A probléma ennek analógiája csak 64 karakterrel."
   ]
  },
  {
   "cell_type": "code",
   "execution_count": null,
   "metadata": {},
   "outputs": [],
   "source": [
    "# Válasz helye. Válaszát szabályos python commentek között adja meg."
   ]
  },
  {
   "attachments": {},
   "cell_type": "markdown",
   "metadata": {},
   "source": [
    "### Futassa le az alábbi segéd osztályokat"
   ]
  },
  {
   "cell_type": "code",
   "execution_count": null,
   "metadata": {},
   "outputs": [],
   "source": [
    "class Problem:\n",
    "    def __init__(self, initial, goal=None):\n",
    "        self.initial = initial\n",
    "        self.goal = goal\n",
    "\n",
    "    def actions(self, state):\n",
    "        raise NotImplementedError\n",
    "\n",
    "    def result(self, state, action):\n",
    "        raise NotImplementedError\n",
    "\n",
    "    def goal_test(self, state):\n",
    "        if isinstance(self.goal, list):\n",
    "            for s in self.goal:\n",
    "                if s==state:\n",
    "                    return True\n",
    "\n",
    "            return False\n",
    "        else:\n",
    "            return state == self.goal\n",
    "        \n",
    "    def path_cost(self, c, state1, action, state2):\n",
    "        return c + 1"
   ]
  },
  {
   "cell_type": "code",
   "execution_count": null,
   "metadata": {},
   "outputs": [],
   "source": [
    "class Node:\n",
    "    def __init__(self, state, parent=None, action=None, path_cost=0):\n",
    "        self.state = state\n",
    "        self.parent = parent\n",
    "        self.action = action\n",
    "        self.path_cost = path_cost\n",
    "        self.depth = 0\n",
    "        if parent:\n",
    "            self.depth = parent.depth + 1\n",
    "\n",
    "    def child_node(self, problem, action):\n",
    "        next_state = problem.result(self.state, action)\n",
    "        next_node = Node(state = next_state, \n",
    "                         parent = self, \n",
    "                         action = action, \n",
    "                         path_cost = problem.path_cost(self.path_cost, self.state, action, next_state))\n",
    "        return next_node\n",
    "\n",
    "    def expand(self, problem):\n",
    "        return [self.child_node(problem, action) for action in problem.actions(self.state)]\n",
    "\n",
    "    def solution(self):\n",
    "        return [node.action for node in self.path()[1:]]\n",
    "\n",
    "    def path(self):\n",
    "        node, path_back = self, []\n",
    "        while node:\n",
    "            path_back.append(node)\n",
    "            node = node.parent\n",
    "        return list(reversed(path_back))"
   ]
  },
  {
   "attachments": {},
   "cell_type": "markdown",
   "metadata": {},
   "source": [
    "### Adott a következő állapottér reprezentáció\n",
    "\n",
    "#### A vodka és a parasztok\n",
    "- Egy vödörben 12 liter vodkát kell egyenlően elosztani két orosz paraszt között.\n",
    "- Két 8 és 6 literes palackjuk van."
   ]
  },
  {
   "attachments": {},
   "cell_type": "markdown",
   "metadata": {},
   "source": [
    "### Jellemzők\n",
    "\n",
    "- A jellemzők legyenek a vödör és a két palack\n",
    "- H1 = {0, 1, ..., 12}, vödör\n",
    "- H2 = {0, 1, ..., 8}, palack 1\n",
    "- H3 = {0, 1, ..., 6}, palack 2"
   ]
  },
  {
   "attachments": {},
   "cell_type": "markdown",
   "metadata": {},
   "source": [
    "### Állapotok halmaza\n",
    "\n",
    "- A ⊆ H1xH2xH3\n",
    "- Legyen a !-jel a negáció\n",
    "- A = {<a1, a2, a3> | <a1, a2, a3> ∈ H1 x H2 x H3 ∧ a1+a2+a3=12}"
   ]
  },
  {
   "attachments": {},
   "cell_type": "markdown",
   "metadata": {},
   "source": [
    "### Kezdő állapot:\n",
    "\n",
    "- a0 = <12, 0, 0>"
   ]
  },
  {
   "attachments": {},
   "cell_type": "markdown",
   "metadata": {},
   "source": [
    "### Célállapotok:\n",
    "\n",
    "- C = <0, 6, 6>"
   ]
  },
  {
   "attachments": {},
   "cell_type": "markdown",
   "metadata": {},
   "source": [
    "### Operátorok:\n",
    "\n",
    "- O = {oi,j} = {oi | i ∈ {1,2,3} ∧ j ∈ {1,2,3} ∧ i!=j} \n",
    "- Dom(oi)={<a1, a2, a3>  | <a1, a2, a3> ∈ A ∧ (a1>0 ∧ a2<max(H2)) v (a1>0 ∧ a3<max(H3) v (a2>0 ∧ a3<max(H3)) v (a2>0 ∧ a1<max(H1)) v (a3>0 ∧ a2<max(H2)) v (a3>0 ∧ a1<max(H1))}\n",
    "- oi(<a1, a2, a3> = <b1, b2, b3>)\n",
    "- m = min(ai, max(Hj) – aj)\n",
    "- bk, ahol b=1,2,3\n",
    "    - ak + m, ha k = j\n",
    "    - ak - m, ha k = i\n",
    "    - ak, egyébként"
   ]
  },
  {
   "attachments": {},
   "cell_type": "markdown",
   "metadata": {},
   "source": [
    "2. (3 pont) Készítsen egy osztályt, amely megvalósítja az állapotér reprezentációt a Problem és Node osztályok segítségével. Az állapottér reprezentáció megvalósításához származzon le a Problem osztályból és írja meg annak \"állapot átmenet függvényét / operátorok / actions\" és \"operátor hatás definícióját / result\". Ha szükséges bármilyen egyéb program csomag a futtatáshoz annak megadásáról se feledkezzen meg."
   ]
  },
  {
   "cell_type": "code",
   "execution_count": null,
   "metadata": {},
   "outputs": [],
   "source": [
    "# Válasz helye. Válaszát futtatható python kóddal adja meg."
   ]
  },
  {
   "attachments": {},
   "cell_type": "markdown",
   "metadata": {},
   "source": [
    "3. (1 pont) Példányosítsa a reprezentációt a kezdő és cél állapottal majd írassa ki a kezdő sé cél állapotot a \"print()\" függvény segítségével "
   ]
  },
  {
   "cell_type": "code",
   "execution_count": null,
   "metadata": {},
   "outputs": [],
   "source": [
    "# Válasz helye. Válaszát futtatható python kóddal adja meg."
   ]
  },
  {
   "attachments": {},
   "cell_type": "markdown",
   "metadata": {},
   "source": [
    "4. (1. pont) Írja meg a próba hiba módszert a megoldás megtalálásához.Írjon megjegyzés szabályos python formátumban amiben leírja, hogy pontosan mit csinál az algoritmus. Ha szükséges bármilyen egyéb program csomag a futtatáshoz annak megadásáról se feledkezzen meg."
   ]
  },
  {
   "cell_type": "code",
   "execution_count": null,
   "metadata": {},
   "outputs": [],
   "source": [
    "# Válasz helye. Válaszát futtatható python kóddal adja meg."
   ]
  },
  {
   "attachments": {},
   "cell_type": "markdown",
   "metadata": {},
   "source": [
    "5. (1 pont) Futtasa a próba hiba módszert az elkészített reprezentációra és találja meg a megoldást. "
   ]
  },
  {
   "cell_type": "code",
   "execution_count": null,
   "metadata": {},
   "outputs": [],
   "source": [
    "# Válasz helye. Válaszát futtatható python kóddal adja meg."
   ]
  },
  {
   "attachments": {},
   "cell_type": "markdown",
   "metadata": {},
   "source": [
    "6. (1 pont) Írja meg a szélességi keresést a megoldás megtalálásához. Írjon megjegyzés szabályos python formátumban amiben leírja, hogy pontosan mit csinál az algoritmus. Ha szükséges bármilyen egyéb program csomag a futtatáshoz annak megadásáról se feledkezzen meg."
   ]
  },
  {
   "cell_type": "code",
   "execution_count": null,
   "metadata": {},
   "outputs": [],
   "source": [
    "# Válasz helye. Válaszát futtatható python kóddal adja meg."
   ]
  },
  {
   "attachments": {},
   "cell_type": "markdown",
   "metadata": {},
   "source": [
    "7. (1 pont) Futtasa a szélességi keresést az elkészített reprezentációra és találja meg a megoldást. Ha szükséges bármilyen egyéb program csomag a futtatáshoz annak megadásáról se feledkezzen meg."
   ]
  },
  {
   "cell_type": "code",
   "execution_count": null,
   "metadata": {},
   "outputs": [],
   "source": [
    "# Válasz helye. Válaszát futtatható python kóddal adja meg."
   ]
  }
 ],
 "metadata": {
  "kernelspec": {
   "display_name": "kdp",
   "language": "python",
   "name": "kdp"
  },
  "language_info": {
   "codemirror_mode": {
    "name": "ipython",
    "version": 3
   },
   "file_extension": ".py",
   "mimetype": "text/x-python",
   "name": "python",
   "nbconvert_exporter": "python",
   "pygments_lexer": "ipython3",
   "version": "3.10.4"
  },
  "orig_nbformat": 4
 },
 "nbformat": 4,
 "nbformat_minor": 2
}
