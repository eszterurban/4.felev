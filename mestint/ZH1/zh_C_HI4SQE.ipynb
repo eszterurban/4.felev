{
  "cells": [
    {
      "cell_type": "markdown",
      "metadata": {
        "id": "10Azvqiz30ZM"
      },
      "source": [
        "# 1. ZH C csoport - Összesen 10 pont - 90 perc áll rendelkezésre a megoldáshoz"
      ]
    },
    {
      "cell_type": "markdown",
      "metadata": {
        "id": "-0oDOGE330ZQ"
      },
      "source": [
        "## Azonosító adatok"
      ]
    },
    {
      "cell_type": "markdown",
      "metadata": {
        "id": "m2nssP4N30ZR"
      },
      "source": [
        "- NÉV: Urbán Eszter Klára\n",
        "- NEPTUN KÓD: HI4SQE"
      ]
    },
    {
      "cell_type": "markdown",
      "metadata": {
        "id": "uSRaZAex30ZS"
      },
      "source": [
        "## Feladatok"
      ]
    },
    {
      "cell_type": "markdown",
      "metadata": {
        "id": "SlQW5CEJ30ZS"
      },
      "source": [
        "1. (2 pont) Adja meg az alábbi probléma jellemzőit, illetve cél és kezdő állapotát:\n",
        "- Van egy speciális 64 különböző karakterből álló ABC.\n",
        "- A kezdő állapotban bármilyen sorrendben lehetnek a karakterek. De minden karakter elhelyezkedik valamilyen pozicóban.\n",
        "- A cél állapotban a karaktereknek a kezdő állapottal ellentétes irányban kell lenniük."
      ]
    },
    {
      "cell_type": "markdown",
      "metadata": {
        "id": "_LSBFpAK30ZT"
      },
      "source": [
        "- Egy példa arra ha csak 5 darabból állna az ABC:\n",
        "- Bemenet: A,B,C,D,E\n",
        "- Kimenet: E,D,C,B,A\n",
        "- A probléma ennek analógiája csak 64 karakterrel."
      ]
    },
    {
      "cell_type": "code",
      "execution_count": 79,
      "metadata": {
        "colab": {
          "base_uri": "https://localhost:8080/",
          "height": 53
        },
        "id": "5f_6EEFz30ZT",
        "outputId": "e042fb31-6908-407a-9720-e3bcb07a8b68"
      },
      "outputs": [
        {
          "output_type": "execute_result",
          "data": {
            "text/plain": [
              "'\\n\\nJellemzői:\\nH1 = {A}\\nH2 = {B}\\nH3 = {C}\\n.\\n.\\n.\\nH64 = {Z}\\n\\nKezdő állapot:\\na0 = <A valamely sorrendje>\\n\\nCél állapot:\\nc = {<a1, a2, ..., a64> | <a1, a2, ..., a64> ∈ A ∧ reverse(a0)}\\n\\n'"
            ],
            "application/vnd.google.colaboratory.intrinsic+json": {
              "type": "string"
            }
          },
          "metadata": {},
          "execution_count": 79
        }
      ],
      "source": [
        "# Válasz helye. Válaszát szabályos python commentek között adja meg.\n",
        "\"\"\"\n",
        "\n",
        "Jellemzői:\n",
        "H1 = {A}\n",
        "H2 = {B}\n",
        "H3 = {C}\n",
        ".\n",
        ".\n",
        ".\n",
        "H64 = {Z}\n",
        "\n",
        "Kezdő állapot:\n",
        "a0 = <A valamely sorrendje>\n",
        "\n",
        "Cél állapot:\n",
        "c = {<a1, a2, ..., a64> | <a1, a2, ..., a64> ∈ A ∧ reverse(a0)}\n",
        "\n",
        "\"\"\""
      ]
    },
    {
      "cell_type": "markdown",
      "metadata": {
        "id": "t18AmODS30ZV"
      },
      "source": [
        "### Futassa le az alábbi segéd osztályokat"
      ]
    },
    {
      "cell_type": "code",
      "execution_count": 80,
      "metadata": {
        "id": "H9t0XK6c30ZV"
      },
      "outputs": [],
      "source": [
        "class Problem:\n",
        "    def __init__(self, initial, goal=None):\n",
        "        self.initial = initial\n",
        "        self.goal = goal\n",
        "\n",
        "    def actions(self, state):\n",
        "        raise NotImplementedError\n",
        "\n",
        "    def result(self, state, action):\n",
        "        raise NotImplementedError\n",
        "\n",
        "    def goal_test(self, state):\n",
        "        if isinstance(self.goal, list):\n",
        "            for s in self.goal:\n",
        "                if s==state:\n",
        "                    return True\n",
        "\n",
        "            return False\n",
        "        else:\n",
        "            return state == self.goal\n",
        "        \n",
        "    def path_cost(self, c, state1, action, state2):\n",
        "        return c + 1"
      ]
    },
    {
      "cell_type": "code",
      "execution_count": 81,
      "metadata": {
        "id": "b5tIgjb630ZW"
      },
      "outputs": [],
      "source": [
        "class Node:\n",
        "    def __init__(self, state, parent=None, action=None, path_cost=0):\n",
        "        self.state = state\n",
        "        self.parent = parent\n",
        "        self.action = action\n",
        "        self.path_cost = path_cost\n",
        "        self.depth = 0\n",
        "        if parent:\n",
        "            self.depth = parent.depth + 1\n",
        "\n",
        "    def child_node(self, problem, action):\n",
        "        next_state = problem.result(self.state, action)\n",
        "        next_node = Node(state = next_state, \n",
        "                         parent = self, \n",
        "                         action = action, \n",
        "                         path_cost = problem.path_cost(self.path_cost, self.state, action, next_state))\n",
        "        return next_node\n",
        "\n",
        "    def expand(self, problem):\n",
        "        return [self.child_node(problem, action) for action in problem.actions(self.state)]\n",
        "\n",
        "    def solution(self):\n",
        "        return [node.action for node in self.path()[1:]]\n",
        "\n",
        "    def path(self):\n",
        "        node, path_back = self, []\n",
        "        while node:\n",
        "            path_back.append(node)\n",
        "            node = node.parent\n",
        "        return list(reversed(path_back))"
      ]
    },
    {
      "cell_type": "markdown",
      "metadata": {
        "id": "QwkTuzwF30ZX"
      },
      "source": [
        "### Adott a következő állapottér reprezentáció\n",
        "\n",
        "#### A vodka és a parasztok\n",
        "- Egy vödörben 12 liter vodkát kell egyenlően elosztani két orosz paraszt között.\n",
        "- Két 8 és 6 literes palackjuk van."
      ]
    },
    {
      "cell_type": "markdown",
      "metadata": {
        "id": "HGMrq3BR30ZY"
      },
      "source": [
        "### Jellemzők\n",
        "\n",
        "- A jellemzők legyenek a vödör és a két palack\n",
        "- H1 = {0, 1, ..., 12}, vödör\n",
        "- H2 = {0, 1, ..., 8}, palack 1\n",
        "- H3 = {0, 1, ..., 6}, palack 2"
      ]
    },
    {
      "cell_type": "markdown",
      "metadata": {
        "id": "hu4oTE0630ZY"
      },
      "source": [
        "### Állapotok halmaza\n",
        "\n",
        "- A ⊆ H1xH2xH3\n",
        "- Legyen a !-jel a negáció\n",
        "- A = {<a1, a2, a3> | <a1, a2, a3> ∈ H1 x H2 x H3 ∧ a1+a2+a3=12}"
      ]
    },
    {
      "cell_type": "markdown",
      "metadata": {
        "id": "8A5DLR9e30ZZ"
      },
      "source": [
        "### Kezdő állapot:\n",
        "\n",
        "- a0 = <12, 0, 0>"
      ]
    },
    {
      "cell_type": "markdown",
      "metadata": {
        "id": "FhrHiRT-30ZZ"
      },
      "source": [
        "### Célállapotok:\n",
        "\n",
        "- C = <0, 6, 6>"
      ]
    },
    {
      "cell_type": "markdown",
      "metadata": {
        "id": "RNZnVYgR30ZZ"
      },
      "source": [
        "### Operátorok:\n",
        "\n",
        "- O = {oi,j} = {oi | i ∈ {1,2,3} ∧ j ∈ {1,2,3} ∧ i!=j} \n",
        "- Dom(oi)={<a1, a2, a3>  | <a1, a2, a3> ∈ A ∧ (a1>0 ∧ a2<max(H2)) v (a1>0 ∧ a3<max(H3) v (a2>0 ∧ a3<max(H3)) v (a2>0 ∧ a1<max(H1)) v (a3>0 ∧ a2<max(H2)) v (a3>0 ∧ a1<max(H1))}\n",
        "- oi(<a1, a2, a3> = <b1, b2, b3>)\n",
        "- m = min(ai, max(Hj) – aj)\n",
        "- bk, ahol b=1,2,3\n",
        "    - ak + m, ha k = j\n",
        "    - ak - m, ha k = i\n",
        "    - ak, egyébként"
      ]
    },
    {
      "cell_type": "markdown",
      "metadata": {
        "id": "iRTSFaCb30Za"
      },
      "source": [
        "2. (3 pont) Készítsen egy osztályt, amely megvalósítja az állapotér reprezentációt a Problem és Node osztályok segítségével. Az állapottér reprezentáció megvalósításához származzon le a Problem osztályból és írja meg annak \"állapot átmenet függvényét / operátorok / actions\" és \"operátor hatás definícióját / result\". Ha szükséges bármilyen egyéb program csomag a futtatáshoz annak megadásáról se feledkezzen meg."
      ]
    },
    {
      "cell_type": "code",
      "execution_count": 82,
      "metadata": {
        "id": "Z4re5Sit30Za"
      },
      "outputs": [],
      "source": [
        "# Válasz helye. Válaszát futtatható python kóddal adja meg.\n",
        "\n",
        "class Cup3(Problem):\n",
        "    def actions(self, state):\n",
        "        #operatorok definialasa\n",
        "        acts = []\n",
        "        twelve, eight, six = state\n",
        "        if twelve > 0 and eight < 8:\n",
        "            acts.append(\"12-->8\")\n",
        "        if twelve > 0 and six < 6:\n",
        "            acts.append(\"12-->6\")\n",
        "        if eight > 0 and twelve < 12:\n",
        "            acts.append(\"8-->12\")\n",
        "        if eight > 0 and six < 6:\n",
        "            acts.append(\"8-->6\")\n",
        "        if six > 0 and twelve < 12:\n",
        "            acts.append(\"6-->12\")\n",
        "        if six > 0 and eight < 8:\n",
        "            acts.append(\"6-->8\")\n",
        "        return acts \n",
        "\n",
        "    def result(self, state, action):\n",
        "        #ilyen irasa lehet zh\n",
        "        #operátorok hatásának definiálása\n",
        "        twelve, eight, six = state\n",
        "        if action == \"12-->8\":\n",
        "            m = min(twelve,8-eight)\n",
        "            return(twelve-m,eight+m,six)\n",
        "        if action == \"12-->6\":\n",
        "            m = min(twelve,6-six)\n",
        "            return(twelve-m,eight,six+m)\n",
        "        if action == \"8-->12\":\n",
        "            m = min(eight,12-twelve)\n",
        "            return(twelve+m,eight-m,six)\n",
        "        if action == \"8-->6\":\n",
        "            m = min(eight,6-six)\n",
        "            return(twelve,eight-m,six+m)\n",
        "        if action == \"6-->12\":\n",
        "            m = min(six,12-twelve)\n",
        "            return(twelve+m,eight,six-m)\n",
        "        if action == \"6-->8\":\n",
        "            m = min(six,8-eight)\n",
        "            return(twelve,eight+m,six-m)"
      ]
    },
    {
      "cell_type": "markdown",
      "metadata": {
        "id": "OyB2MNwr30Zb"
      },
      "source": [
        "3. (1 pont) Példányosítsa a reprezentációt a kezdő és cél állapottal majd írassa ki a kezdő sé cél állapotot a \"print()\" függvény segítségével "
      ]
    },
    {
      "cell_type": "code",
      "execution_count": 83,
      "metadata": {
        "colab": {
          "base_uri": "https://localhost:8080/"
        },
        "id": "z88uMPFc30Zb",
        "outputId": "9c7650bb-7497-423d-95b1-a69b436fba6c"
      },
      "outputs": [
        {
          "output_type": "stream",
          "name": "stdout",
          "text": [
            "(12, 0, 0) (0, 6, 6)\n"
          ]
        }
      ],
      "source": [
        "# Válasz helye. Válaszát futtatható python kóddal adja meg.\n",
        "c = Cup3((12, 0, 0), (0, 6, 6))\n",
        "print(c.initial, c.goal)"
      ]
    },
    {
      "cell_type": "markdown",
      "metadata": {
        "id": "W5epVOw030Zb"
      },
      "source": [
        "4. (1. pont) Írja meg a próba hiba módszert a megoldás megtalálásához.Írjon megjegyzés szabályos python formátumban amiben leírja, hogy pontosan mit csinál az algoritmus. Ha szükséges bármilyen egyéb program csomag a futtatáshoz annak megadásáról se feledkezzen meg."
      ]
    },
    {
      "cell_type": "code",
      "execution_count": 84,
      "metadata": {
        "id": "CS2nyNzG30Zb"
      },
      "outputs": [],
      "source": [
        "# Válasz helye. Válaszát futtatható python kóddal adja meg.\n",
        "import numpy as np\n",
        "\n",
        "def trial_error(problem):\n",
        "    # kezdo allapot\n",
        "    state = Node(problem.initial)\n",
        "\n",
        "    # végtelen ciklus definiálása\n",
        "    while True:\n",
        "        # ha a probléma megoldva akkor leállítjuk a végtelen ciklust\n",
        "        if problem.goal_test(state.state):\n",
        "            print('Got it')\n",
        "            return state\n",
        "\n",
        "        # a alkamazható operátorok segítségével\n",
        "        # gyártsuk le az összes lehetséges utódot\n",
        "        successors = state.expand(problem)\n",
        "\n",
        "        # ha nincs új állapot(utód)\n",
        "        if len(successors) == 0:\n",
        "            return 'Unsolvable'\n",
        "\n",
        "        # random választunk egy újat a legyártott utódok közül\n",
        "        state = successors[np.random.randint(0, len(successors))]\n",
        "        print(state.state)"
      ]
    },
    {
      "cell_type": "markdown",
      "metadata": {
        "id": "N0W1ILjw30Zc"
      },
      "source": [
        "5. (1 pont) Futtasa a próba hiba módszert az elkészített reprezentációra és találja meg a megoldást. "
      ]
    },
    {
      "cell_type": "code",
      "execution_count": 85,
      "metadata": {
        "colab": {
          "base_uri": "https://localhost:8080/"
        },
        "id": "eVxza8T730Zc",
        "outputId": "9f1b52a2-7f23-4f04-d94d-8702a7654929"
      },
      "outputs": [
        {
          "output_type": "stream",
          "name": "stdout",
          "text": [
            "(4, 8, 0)\n",
            "(12, 0, 0)\n",
            "(6, 0, 6)\n",
            "(0, 6, 6)\n",
            "Got it\n",
            "['12-->8', '8-->12', '12-->6', '12-->8']\n"
          ]
        }
      ],
      "source": [
        "# Válasz helye. Válaszát futtatható python kóddal adja meg.\n",
        "print(trial_error(c).solution())"
      ]
    },
    {
      "cell_type": "markdown",
      "metadata": {
        "id": "wRuDTwxj30Zd"
      },
      "source": [
        "6. (1 pont) Írja meg a szélességi keresést a megoldás megtalálásához. Írjon megjegyzés szabályos python formátumban amiben leírja, hogy pontosan mit csinál az algoritmus. Ha szükséges bármilyen egyéb program csomag a futtatáshoz annak megadásáról se feledkezzen meg."
      ]
    },
    {
      "cell_type": "code",
      "execution_count": 86,
      "metadata": {
        "id": "oC7Tkmk630Zd"
      },
      "outputs": [],
      "source": [
        "# Válasz helye. Válaszát futtatható python kóddal adja meg.\n",
        "from collections import deque\n",
        "\n",
        "def breadth_first_tree_search(problem):\n",
        "    #kezdő állapot kiovasása és FIFO sorba helyezése\n",
        "    frontier = deque([Node(problem.initial)])\n",
        "\n",
        "    #amig nem értük el a határt\n",
        "    while frontier:\n",
        "        #legészlsőbb elem kiemelése\n",
        "        node = frontier.popleft()\n",
        "\n",
        "        #ha cél állapotban vagyunk akkor vége\n",
        "        if problem.goal_test(node.state):\n",
        "            return node\n",
        "        \n",
        "        #a kiemelt elemből az összes új állapot legyártása az operátorok segítségével\n",
        "        #valójában ez a bejárás\n",
        "        frontier.extend(node.expand(problem))\n",
        "        print(node.state)"
      ]
    },
    {
      "cell_type": "markdown",
      "metadata": {
        "id": "2lx_lLuo30Zd"
      },
      "source": [
        "7. (1 pont) Futtasa a szélességi keresést az elkészített reprezentációra és találja meg a megoldást. Ha szükséges bármilyen egyéb program csomag a futtatáshoz annak megadásáról se feledkezzen meg."
      ]
    },
    {
      "cell_type": "code",
      "execution_count": 87,
      "metadata": {
        "colab": {
          "base_uri": "https://localhost:8080/"
        },
        "id": "JgmhuxKk30Zd",
        "outputId": "f551b195-942f-48cc-8a93-34b233755932"
      },
      "outputs": [
        {
          "output_type": "stream",
          "name": "stdout",
          "text": [
            "(12, 0, 0)\n",
            "(4, 8, 0)\n",
            "(6, 0, 6)\n",
            "(0, 8, 4)\n",
            "(12, 0, 0)\n",
            "(4, 2, 6)\n",
            "['12-->6', '12-->8']\n"
          ]
        }
      ],
      "source": [
        "# Válasz helye. Válaszát futtatható python kóddal adja meg.\n",
        "print(breadth_first_tree_search(c).solution())"
      ]
    }
  ],
  "metadata": {
    "kernelspec": {
      "display_name": "kdp",
      "language": "python",
      "name": "kdp"
    },
    "language_info": {
      "codemirror_mode": {
        "name": "ipython",
        "version": 3
      },
      "file_extension": ".py",
      "mimetype": "text/x-python",
      "name": "python",
      "nbconvert_exporter": "python",
      "pygments_lexer": "ipython3",
      "version": "3.10.4"
    },
    "orig_nbformat": 4,
    "colab": {
      "provenance": []
    }
  },
  "nbformat": 4,
  "nbformat_minor": 0
}