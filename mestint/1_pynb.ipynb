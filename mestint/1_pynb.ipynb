{
  "cells": [
    {
      "cell_type": "code",
      "execution_count": null,
      "metadata": {
        "id": "CfFIwT5AyX4m"
      },
      "outputs": [],
      "source": [
        "class Problem:\n",
        "    def __init__(self, initial, goal=None):\n",
        "        self.initial = initial \n",
        "\n",
        "        self.goal = goal\n",
        "\n",
        "    def actions(self, state):\n",
        "        raise NotImplementedError\n",
        "\n",
        "    def result(self, state, action):\n",
        "        raise NotImplementedError\n",
        "\n",
        "    def goal_test(self, state):\n",
        "        if isinstance(self.goal, list):\n",
        "            for s in self.goal:\n",
        "                if s==state:\n",
        "                    return True\n",
        "\n",
        "            return False\n",
        "        else:\n",
        "            return state == self.goal\n",
        "\n",
        "    def path_cost(self, c, state1, action, state2):\n",
        "        return c + 1\n",
        "\n",
        "    def value(self, state):\n",
        "        raise NotImplementedError"
      ]
    },
    {
      "cell_type": "code",
      "execution_count": null,
      "metadata": {
        "colab": {
          "base_uri": "https://localhost:8080/"
        },
        "id": "yUZrBec1rJn_",
        "outputId": "360a7037-65f3-4493-e88b-1c898127ca46"
      },
      "outputs": [
        {
          "ename": "",
          "evalue": "",
          "output_type": "error",
          "traceback": [
            "\u001b[1;31mRunning cells with 'c:\\Users\\Asus\\AppData\\Local\\Microsoft\\WindowsApps\\python3.10.exe' requires the ipykernel package.\n",
            "\u001b[1;31mRun the following command to install 'ipykernel' into the Python environment. \n",
            "\u001b[1;31mCommand: 'c:/Users/Asus/AppData/Local/Microsoft/WindowsApps/python3.10.exe -m pip install ipykernel -U --user --force-reinstall'"
          ]
        }
      ],
      "source": [
        "from ai.problem import Problem\n",
        "\n",
        "problem = Problem((5,0,0), [(4,1,0),(4,0,1)])\n",
        "problem.initial, problem.goal"
      ]
    },
    {
      "cell_type": "code",
      "execution_count": null,
      "metadata": {
        "id": "4hL62Rkw7QBL"
      },
      "outputs": [],
      "source": [
        "class Node:\n",
        "  def __init__(self, state, parent=None, action=None, path_cost=0):\n",
        "    self.state = state\n",
        "    self.parent = parent\n",
        "    self.action = action\n",
        "    self.path_cost = path_cost\n",
        "    self.depth = 0\n",
        "    if parent:\n",
        "      self.depth = parent.depth + 1\n",
        "  \n",
        "  def __repr__(self):\n",
        "    return \"<Node {}>\".format(self.state)\n",
        "\n",
        "  def __lt__(self, node):\n",
        "    return self.state < node.state\n",
        "\n",
        "  def __eq__(self, other):\n",
        "    return isinstance(other, Node) and self.state == other.state\n",
        "\n",
        "  def __hash__(self):\n",
        "    return hash(self.state)\n",
        "\n",
        "  def child_node(self, problem, action):\n",
        "    next_state = problem.result(self.state, action)\n",
        "    next_node = Node(state = next_state,\n",
        "                      parent = self,\n",
        "                      action = action,\n",
        "                      path_cost = problem.path_cost(self.path_cost, self.state, action, next_state))\n",
        "    return next_node\n",
        "\n",
        "  def expand(self, problem):\n",
        "    return [self.child_node(problem, action) for action in problem.actions(self.state)]\n",
        "\n",
        "  def solution(self):\n",
        "    return [node.action for node in self.path()[1:]]\n",
        "\n",
        "  def path(self):\n",
        "    node, path_back = self, []\n",
        "    while node:\n",
        "      path_back.append(node)\n",
        "      node= node.parent\n",
        "    return list(reversed(path_back)) "
      ]
    },
    {
      "cell_type": "code",
      "execution_count": null,
      "metadata": {
        "colab": {
          "base_uri": "https://localhost:8080/"
        },
        "id": "RmIeGnGnt0w_",
        "outputId": "2d9ee5c6-b54f-4662-c75f-ca98773eb95c"
      },
      "outputs": [
        {
          "data": {
            "text/plain": [
              "__main__.Node"
            ]
          },
          "execution_count": 18,
          "metadata": {},
          "output_type": "execute_result"
        }
      ],
      "source": [
        "from ai.node import Node2\n",
        "\n",
        "state1 = Node(1)\n",
        "type(state1)"
      ]
    },
    {
      "cell_type": "code",
      "execution_count": null,
      "metadata": {
        "colab": {
          "base_uri": "https://localhost:8080/"
        },
        "id": "kXFXiwH5t9Uv",
        "outputId": "552a21fc-dfdf-40fa-a46b-004e745f243e"
      },
      "outputs": [
        {
          "ename": "",
          "evalue": "",
          "output_type": "error",
          "traceback": [
            "\u001b[1;31mRunning cells with 'c:\\Users\\Asus\\AppData\\Local\\Microsoft\\WindowsApps\\python3.10.exe' requires the ipykernel package.\n",
            "\u001b[1;31mRun the following command to install 'ipykernel' into the Python environment. \n",
            "\u001b[1;31mCommand: 'c:/Users/Asus/AppData/Local/Microsoft/WindowsApps/python3.10.exe -m pip install ipykernel -U --user --force-reinstall'"
          ]
        }
      ],
      "source": [
        "from ai.node import Node2\n",
        "\n",
        "state2 = Node(state=2, parent=state1)\n",
        "state2"
      ]
    },
    {
      "cell_type": "code",
      "execution_count": null,
      "metadata": {
        "colab": {
          "base_uri": "https://localhost:8080/"
        },
        "id": "Ih0Q1kXhuBcn",
        "outputId": "564f5851-1203-40cd-9588-5db0cb42077e"
      },
      "outputs": [
        {
          "name": "stdout",
          "output_type": "stream",
          "text": [
            "False\n"
          ]
        }
      ],
      "source": [
        "from ai.node import Node2\n",
        "\n",
        "print(state1 is object)"
      ]
    },
    {
      "cell_type": "code",
      "execution_count": null,
      "metadata": {
        "colab": {
          "base_uri": "https://localhost:8080/"
        },
        "id": "ZgP791WTuECX",
        "outputId": "0365b01c-4ba3-4495-bc18-66dabb260946"
      },
      "outputs": [
        {
          "name": "stdout",
          "output_type": "stream",
          "text": [
            "state2 a nagyobb\n"
          ]
        }
      ],
      "source": [
        "from ai.node import Node2\n",
        "\n",
        "if state1 > state2:\n",
        "    print(\"state1 a nagyobb\")\n",
        "elif state1 < state2:\n",
        "    print(\"state2 a nagyobb\")\n",
        "else:\n",
        "    print(\"Egyenlőek\")"
      ]
    },
    {
      "cell_type": "code",
      "execution_count": null,
      "metadata": {
        "colab": {
          "base_uri": "https://localhost:8080/"
        },
        "id": "Fd6iaJpDuGA3",
        "outputId": "6da006d1-141e-43f0-adf3-b77f70048daf"
      },
      "outputs": [
        {
          "data": {
            "text/plain": [
              "1"
            ]
          },
          "execution_count": 22,
          "metadata": {},
          "output_type": "execute_result"
        }
      ],
      "source": [
        "from ai.node import Node2\n",
        "\n",
        "state1 = Node(1)\n",
        "hash(state1)"
      ]
    },
    {
      "cell_type": "code",
      "execution_count": null,
      "metadata": {
        "colab": {
          "base_uri": "https://localhost:8080/"
        },
        "id": "-i2isVXO6U6z",
        "outputId": "e2ef063b-549d-47b7-a4e8-6f6aa2956c33"
      },
      "outputs": [
        {
          "data": {
            "text/plain": [
              "4"
            ]
          },
          "execution_count": 11,
          "metadata": {},
          "output_type": "execute_result"
        }
      ],
      "source": [
        "from ai.node import Node2\n",
        "\n",
        "b = Node(4)\n",
        "a = Node(2, b)\n",
        "a.parent.state"
      ]
    },
    {
      "cell_type": "code",
      "execution_count": null,
      "metadata": {
        "colab": {
          "base_uri": "https://localhost:8080/"
        },
        "id": "npNL5p6e7adc",
        "outputId": "11f90383-b17f-4e31-83d4-3e0b95553fd2"
      },
      "outputs": [
        {
          "data": {
            "text/plain": [
              "True"
            ]
          },
          "execution_count": 24,
          "metadata": {},
          "output_type": "execute_result"
        }
      ],
      "source": [
        "from ai.node import Node2\n",
        "\n",
        "a<b"
      ]
    }
  ],
  "metadata": {
    "colab": {
      "provenance": []
    },
    "kernelspec": {
      "display_name": "Python 3",
      "language": "python",
      "name": "python3"
    },
    "language_info": {
      "name": "python",
      "version": "3.10.10"
    },
    "vscode": {
      "interpreter": {
        "hash": "66f804da07f0f556d77bc3269dc5bb19edf020422864031af2885e5ff55f9079"
      }
    }
  },
  "nbformat": 4,
  "nbformat_minor": 0
}
