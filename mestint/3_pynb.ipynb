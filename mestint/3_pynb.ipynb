{
  "nbformat": 4,
  "nbformat_minor": 0,
  "metadata": {
    "colab": {
      "provenance": []
    },
    "kernelspec": {
      "name": "python3",
      "display_name": "Python 3"
    },
    "language_info": {
      "name": "python"
    }
  },
  "cells": [
    {
      "cell_type": "code",
      "execution_count": 1,
      "metadata": {
        "colab": {
          "base_uri": "https://localhost:8080/"
        },
        "id": "eerl8DX-v3fR",
        "outputId": "1cabcfdd-924c-43f2-e07a-cedf06f82eb1"
      },
      "outputs": [
        {
          "output_type": "stream",
          "name": "stdout",
          "text": [
            "Index is:  Eszter\n"
          ]
        }
      ],
      "source": [
        "from collections import namedtuple\n",
        "\n",
        "Student = namedtuple('Student', ['name', 'age', 'DOB'])\n",
        "S = Student('Eszter', '19', '12345678')\n",
        "\n",
        "print(\"Index is: \", S[0])"
      ]
    },
    {
      "cell_type": "code",
      "source": [
        "from ai.hanoi import Hanoi\n",
        "\n",
        "h = Hanoi(3)\n",
        "h.size, h.initial, h.goal"
      ],
      "metadata": {
        "colab": {
          "base_uri": "https://localhost:8080/"
        },
        "id": "ie_BeYjF5gSx",
        "outputId": "5f624b9d-3ecd-4c04-ca2c-0db78eca2e6a"
      },
      "execution_count": 45,
      "outputs": [
        {
          "output_type": "execute_result",
          "data": {
            "text/plain": [
              "(3, '111', '333')"
            ]
          },
          "metadata": {},
          "execution_count": 45
        }
      ]
    },
    {
      "cell_type": "code",
      "source": [
        "class Node:\n",
        "  def __init__(self, state, parent=None, action=None, path_cost=0):\n",
        "    self.state = state\n",
        "    self.parent = parent\n",
        "    self.action = action\n",
        "    self.path_cost = path_cost\n",
        "    self.depth = 0\n",
        "    if parent:\n",
        "      self.depth = parent.depth + 1\n",
        "  \n",
        "  def __repr__(self):\n",
        "    return \"<Node {}>\".format(self.state)\n",
        "\n",
        "  def __lt__(self, node):\n",
        "    return self.state < node.state\n",
        "\n",
        "  def __eq__(self, other):\n",
        "    return isinstance(other, Node) and self.state == other.state\n",
        "\n",
        "  def __hash__(self):\n",
        "    return hash(self.state)\n",
        "\n",
        "  def child_node(self, problem, action):\n",
        "    next_state = problem.result(self.state, action)\n",
        "    next_node = Node(state = next_state,\n",
        "                      parent = self,\n",
        "                      action = action,\n",
        "                      path_cost = problem.path_cost(self.path_cost, self.state, action, next_state))\n",
        "    return next_node\n",
        "\n",
        "  def expand(self, problem):\n",
        "    return [self.child_node(problem, action) for action in problem.actions(self.state)]\n",
        "\n",
        "  def solution(self):\n",
        "    return [node.action for node in self.path()[1:]]\n",
        "\n",
        "  def path(self):\n",
        "    node, path_back = self, []\n",
        "    while node:\n",
        "      path_back.append(node)\n",
        "      node= node.parent\n",
        "    return list(reversed(path_back)) "
      ],
      "metadata": {
        "id": "ufkeyFi7_OAI"
      },
      "execution_count": 24,
      "outputs": []
    },
    {
      "cell_type": "code",
      "source": [
        "import numpy as np\n",
        "\n",
        "def trial_error(problem):\n",
        "  print(\"hello\")\n",
        "  state = Node(problem.initial)\n",
        "\n",
        "  while True:\n",
        "    if problem.goal_test(state.state):\n",
        "      print(\"Got it!\")\n",
        "      return state\n",
        "\n",
        "    succesors = state.expand(problem)\n",
        "\n",
        "    if len(succesors)==0:\n",
        "      return \"unsolvable\"\n",
        "\n",
        "    state=succesors[np.random.randint(0,len(succesors))]\n",
        "    print(state)"
      ],
      "metadata": {
        "id": "hUzj1VXj-aNI"
      },
      "execution_count": 48,
      "outputs": []
    },
    {
      "cell_type": "code",
      "source": [
        "def trial_error(problem):\n",
        "  state = Node(problem.initial)\n",
        "\n",
        "  while True:\n",
        "    if problem.goal_test(state.state):\n",
        "      print(\"Got it!\")\n",
        "      return state\n",
        "\n",
        "    succesors = state.expand(problem)\n",
        "\n",
        "    if len(succesors)==0:\n",
        "      return \"unsolvable\"\n",
        "\n",
        "    state=succesors[np.random.randint(0,len(succesors))]\n",
        "    print(state)\n",
        "\n",
        "trial_error(h)"
      ],
      "metadata": {
        "colab": {
          "base_uri": "https://localhost:8080/",
          "height": 345
        },
        "id": "I3VCXOXW_npB",
        "outputId": "edce2668-0da2-43df-fa5c-dc95784ec04c"
      },
      "execution_count": 50,
      "outputs": [
        {
          "output_type": "error",
          "ename": "TypeError",
          "evalue": "ignored",
          "traceback": [
            "\u001b[0;31m---------------------------------------------------------------------------\u001b[0m",
            "\u001b[0;31mTypeError\u001b[0m                                 Traceback (most recent call last)",
            "\u001b[0;32m<ipython-input-50-865503df8478>\u001b[0m in \u001b[0;36m<module>\u001b[0;34m\u001b[0m\n\u001b[1;32m     15\u001b[0m     \u001b[0mprint\u001b[0m\u001b[0;34m(\u001b[0m\u001b[0mstate\u001b[0m\u001b[0;34m)\u001b[0m\u001b[0;34m\u001b[0m\u001b[0;34m\u001b[0m\u001b[0m\n\u001b[1;32m     16\u001b[0m \u001b[0;34m\u001b[0m\u001b[0m\n\u001b[0;32m---> 17\u001b[0;31m \u001b[0mtrial_error\u001b[0m\u001b[0;34m(\u001b[0m\u001b[0mh\u001b[0m\u001b[0;34m)\u001b[0m\u001b[0;34m\u001b[0m\u001b[0;34m\u001b[0m\u001b[0m\n\u001b[0m",
            "\u001b[0;32m<ipython-input-50-865503df8478>\u001b[0m in \u001b[0;36mtrial_error\u001b[0;34m(problem)\u001b[0m\n\u001b[1;32m      7\u001b[0m       \u001b[0;32mreturn\u001b[0m \u001b[0mstate\u001b[0m\u001b[0;34m\u001b[0m\u001b[0;34m\u001b[0m\u001b[0m\n\u001b[1;32m      8\u001b[0m \u001b[0;34m\u001b[0m\u001b[0m\n\u001b[0;32m----> 9\u001b[0;31m     \u001b[0msuccesors\u001b[0m \u001b[0;34m=\u001b[0m \u001b[0mstate\u001b[0m\u001b[0;34m.\u001b[0m\u001b[0mexpand\u001b[0m\u001b[0;34m(\u001b[0m\u001b[0mproblem\u001b[0m\u001b[0;34m)\u001b[0m\u001b[0;34m\u001b[0m\u001b[0;34m\u001b[0m\u001b[0m\n\u001b[0m\u001b[1;32m     10\u001b[0m \u001b[0;34m\u001b[0m\u001b[0m\n\u001b[1;32m     11\u001b[0m     \u001b[0;32mif\u001b[0m \u001b[0mlen\u001b[0m\u001b[0;34m(\u001b[0m\u001b[0msuccesors\u001b[0m\u001b[0;34m)\u001b[0m\u001b[0;34m==\u001b[0m\u001b[0;36m0\u001b[0m\u001b[0;34m:\u001b[0m\u001b[0;34m\u001b[0m\u001b[0;34m\u001b[0m\u001b[0m\n",
            "\u001b[0;32m<ipython-input-24-488b6c7eb927>\u001b[0m in \u001b[0;36mexpand\u001b[0;34m(self, problem)\u001b[0m\n\u001b[1;32m     30\u001b[0m \u001b[0;34m\u001b[0m\u001b[0m\n\u001b[1;32m     31\u001b[0m   \u001b[0;32mdef\u001b[0m \u001b[0mexpand\u001b[0m\u001b[0;34m(\u001b[0m\u001b[0mself\u001b[0m\u001b[0;34m,\u001b[0m \u001b[0mproblem\u001b[0m\u001b[0;34m)\u001b[0m\u001b[0;34m:\u001b[0m\u001b[0;34m\u001b[0m\u001b[0;34m\u001b[0m\u001b[0m\n\u001b[0;32m---> 32\u001b[0;31m     \u001b[0;32mreturn\u001b[0m \u001b[0;34m[\u001b[0m\u001b[0mself\u001b[0m\u001b[0;34m.\u001b[0m\u001b[0mchild_node\u001b[0m\u001b[0;34m(\u001b[0m\u001b[0mproblem\u001b[0m\u001b[0;34m,\u001b[0m \u001b[0maction\u001b[0m\u001b[0;34m)\u001b[0m \u001b[0;32mfor\u001b[0m \u001b[0maction\u001b[0m \u001b[0;32min\u001b[0m \u001b[0mproblem\u001b[0m\u001b[0;34m.\u001b[0m\u001b[0mactions\u001b[0m\u001b[0;34m(\u001b[0m\u001b[0mself\u001b[0m\u001b[0;34m.\u001b[0m\u001b[0mstate\u001b[0m\u001b[0;34m)\u001b[0m\u001b[0;34m]\u001b[0m\u001b[0;34m\u001b[0m\u001b[0;34m\u001b[0m\u001b[0m\n\u001b[0m\u001b[1;32m     33\u001b[0m \u001b[0;34m\u001b[0m\u001b[0m\n\u001b[1;32m     34\u001b[0m   \u001b[0;32mdef\u001b[0m \u001b[0msolution\u001b[0m\u001b[0;34m(\u001b[0m\u001b[0mself\u001b[0m\u001b[0;34m)\u001b[0m\u001b[0;34m:\u001b[0m\u001b[0;34m\u001b[0m\u001b[0;34m\u001b[0m\u001b[0m\n",
            "\u001b[0;31mTypeError\u001b[0m: 'NoneType' object is not iterable"
          ]
        }
      ]
    }
  ]
}