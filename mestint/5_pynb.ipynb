{
  "nbformat": 4,
  "nbformat_minor": 0,
  "metadata": {
    "colab": {
      "provenance": []
    },
    "kernelspec": {
      "name": "python3",
      "display_name": "Python 3"
    },
    "language_info": {
      "name": "python"
    }
  },
  "cells": [
    {
      "cell_type": "code",
      "source": [
        "from ai.search import trial_error\n",
        "\n",
        "nq4=NQueens(4)\n",
        "print(nq4.initial, nq4.goal)\n",
        "trial_error(nq4)"
      ],
      "metadata": {
        "colab": {
          "base_uri": "https://localhost:8080/",
          "height": 88
        },
        "id": "ka9vdgEw-KzI",
        "outputId": "5be23a14-8c19-4eb1-bacd-14513b792e80"
      },
      "execution_count": 96,
      "outputs": [
        {
          "output_type": "stream",
          "name": "stdout",
          "text": [
            "(-1, -1, -1, -1) None\n",
            "(3, -1, -1, -1)\n",
            "(3, 1, -1, -1)\n"
          ]
        },
        {
          "output_type": "execute_result",
          "data": {
            "text/plain": [
              "'Unsolvable'"
            ],
            "application/vnd.google.colaboratory.intrinsic+json": {
              "type": "string"
            }
          },
          "metadata": {},
          "execution_count": 96
        }
      ]
    },
    {
      "cell_type": "code",
      "source": [
        "from ai.search import breadth_first_tree_search\n",
        "\n",
        "breadth_first_tree_search(nq4).solution()"
      ],
      "metadata": {
        "colab": {
          "base_uri": "https://localhost:8080/"
        },
        "id": "iNLdApvVDJsl",
        "outputId": "0657838f-ca2e-4ec4-bdce-b5958a102f5d"
      },
      "execution_count": 98,
      "outputs": [
        {
          "output_type": "execute_result",
          "data": {
            "text/plain": [
              "[1, 3, 0, 2]"
            ]
          },
          "metadata": {},
          "execution_count": 98
        }
      ]
    },
    {
      "cell_type": "code",
      "source": [
        "from ai.search import depth_first_graph_search\n",
        "\n",
        "depth_first_graph_search(nq4).solution()"
      ],
      "metadata": {
        "colab": {
          "base_uri": "https://localhost:8080/"
        },
        "id": "bQQ-46E5DgAT",
        "outputId": "6e076030-e8b8-4798-f2ed-d573f243cd40"
      },
      "execution_count": 106,
      "outputs": [
        {
          "output_type": "execute_result",
          "data": {
            "text/plain": [
              "[2, 0, 3, 1]"
            ]
          },
          "metadata": {},
          "execution_count": 106
        }
      ]
    },
    {
      "cell_type": "code",
      "source": [
        "def sort_by_heur(items):\n",
        "  return sorted(items, key=lambda x: sum(x.state))"
      ],
      "metadata": {
        "id": "HjimjDKtImSh"
      },
      "execution_count": 99,
      "outputs": []
    },
    {
      "cell_type": "code",
      "source": [
        "def best_first_graph_search(problem, f):\n",
        "  node = Node(problem.initial)\n",
        "  frontier=[]\n",
        "  frontier.append(node)\n",
        "  explored=set()\n",
        "  while frontier:\n",
        "    node = frontier.pop()\n",
        "    if problem.goal_test(node.state):\n",
        "      return node\n",
        "    explored.add(node.state)\n",
        "\n",
        "    for child in node.expand(problem):\n",
        "      if child.state not in explored and child not in frontier:\n",
        "        frontier.append(child)\n",
        "      \n",
        "      frontier= f(frontier)\n",
        "      print(node.state)\n",
        "\n",
        "def astar_search(problem, f=None):\n",
        "  return best_first_graph_search(problem,f)"
      ],
      "metadata": {
        "id": "WDp8CA8GJEBP"
      },
      "execution_count": 109,
      "outputs": []
    },
    {
      "cell_type": "code",
      "source": [
        "print(astar_search(nq4, sort_by_heur))"
      ],
      "metadata": {
        "colab": {
          "base_uri": "https://localhost:8080/"
        },
        "id": "58CfBC-0IakA",
        "outputId": "c44618b9-0922-400d-94fd-22614290011d"
      },
      "execution_count": 110,
      "outputs": [
        {
          "output_type": "stream",
          "name": "stdout",
          "text": [
            "(-1, -1, -1, -1)\n",
            "(-1, -1, -1, -1)\n",
            "(-1, -1, -1, -1)\n",
            "(-1, -1, -1, -1)\n",
            "(3, -1, -1, -1)\n",
            "(3, -1, -1, -1)\n",
            "(3, 0, -1, -1)\n",
            "(2, -1, -1, -1)\n",
            "(2, 0, -1, -1)\n",
            "(2, 0, 3, -1)\n",
            "<Node (2, 0, 3, 1)>\n"
          ]
        }
      ]
    }
  ]
}