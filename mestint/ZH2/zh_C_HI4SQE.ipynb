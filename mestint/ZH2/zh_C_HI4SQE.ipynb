{
  "cells": [
    {
      "cell_type": "markdown",
      "metadata": {
        "id": "oeGqG9rEE_tn"
      },
      "source": [
        "# 1. ZH C csoport - Összesen 10 pont - 90 perc áll rendelkezésre a megoldáshoz"
      ]
    },
    {
      "cell_type": "markdown",
      "metadata": {
        "id": "p7hOQ3RcE_ts"
      },
      "source": [
        "## Azonosító adatok"
      ]
    },
    {
      "cell_type": "markdown",
      "metadata": {
        "id": "XoMHezBLE_tt"
      },
      "source": [
        "- NÉV: Urbán Eszter Klára\n",
        "- NEPTUN KÓD: HI4SQE\n",
        "- EMAIL CÍM: urbaneszter2003@gmail.com"
      ]
    },
    {
      "cell_type": "markdown",
      "metadata": {
        "id": "RqqaJnKxE_tt"
      },
      "source": [
        "## Feladatok"
      ]
    },
    {
      "cell_type": "markdown",
      "metadata": {
        "id": "wO5XnpotE_tu"
      },
      "source": [
        "### 1. Feladat (1. pont)\n",
        "\n",
        "Az alábbi ábra egy lehetséges játék eredményének állását reprezentálja egy fa struktúrában az adott játékos szempontjából. \n",
        "Sorolja fel azokat a levél elemeket amelyek Alfa-Béta vágás algoritmusát használv nem kerülnek bejárásra."
      ]
    },
    {
      "cell_type": "markdown",
      "metadata": {
        "id": "FMw_kshrE_tu"
      },
      "source": [
        "<img src=\" data:image/png;base64,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\" />"
      ]
    },
    {
      "cell_type": "markdown",
      "source": [
        "-2, 26, 28, -39, -26, -22, -15"
      ],
      "metadata": {
        "id": "lZJnRfCZGCZi"
      }
    },
    {
      "cell_type": "markdown",
      "metadata": {
        "id": "ku2ifgWOE_tz"
      },
      "source": [
        "### 2. Feladat  (5. pont)\n",
        "\n",
        "Készíts egy Neurális hálózatott a megadott tervrajz alapján, ami betanul a fashion_mnist adathalmazon. Kövesse a feladat instrukcióit."
      ]
    },
    {
      "cell_type": "markdown",
      "metadata": {
        "id": "IM9AAbwVE_tz"
      },
      "source": [
        "#### 2. Feladat - Adatok letöltése"
      ]
    },
    {
      "cell_type": "code",
      "execution_count": 159,
      "metadata": {
        "id": "jWl3ENrYE_t0"
      },
      "outputs": [],
      "source": [
        "import pandas as pd\n",
        "import tensorflow_datasets as tfds\n",
        "from tqdm import tqdm"
      ]
    },
    {
      "cell_type": "code",
      "execution_count": 160,
      "metadata": {
        "id": "Tw1rkeIaE_t2"
      },
      "outputs": [],
      "source": [
        "dataset_train = tfds.load('fashion_mnist', split='train', shuffle_files=True)\n",
        "dataset_test = tfds.load('fashion_mnist', split='test', shuffle_files=True)"
      ]
    },
    {
      "cell_type": "markdown",
      "metadata": {
        "id": "KeF3_l6nE_t2"
      },
      "source": [
        "#### 2. Feladat - Adatok konvertálása DataFrame-be"
      ]
    },
    {
      "cell_type": "code",
      "execution_count": 109,
      "metadata": {
        "colab": {
          "base_uri": "https://localhost:8080/"
        },
        "id": "NQP_XvlkE_t2",
        "outputId": "e21f5dab-b815-465a-c1f9-4ff03cb38dbb"
      },
      "outputs": [
        {
          "output_type": "stream",
          "name": "stderr",
          "text": [
            "100%|██████████| 60000/60000 [00:30<00:00, 1983.10it/s]\n",
            "100%|██████████| 10000/10000 [00:04<00:00, 2404.99it/s]\n"
          ]
        }
      ],
      "source": [
        "def convert_to_df(dataset):\n",
        "    data = [{ 'image': item['image'].numpy(), 'label': item['label'].numpy() } for item in tqdm(dataset)]\n",
        "    return pd.DataFrame(data)\n",
        "\n",
        "df_train = convert_to_df(dataset_train)\n",
        "df_test = convert_to_df(dataset_test)"
      ]
    },
    {
      "cell_type": "code",
      "execution_count": 110,
      "metadata": {
        "colab": {
          "base_uri": "https://localhost:8080/",
          "height": 206
        },
        "id": "Rv8k4r9YE_t3",
        "outputId": "92d8c811-3703-46ff-c45e-8299523009fb"
      },
      "outputs": [
        {
          "output_type": "execute_result",
          "data": {
            "text/plain": [
              "                                               image  label\n",
              "0  [0, 0, 0, 0, 0, 0, 0, 0, 0, 18, 77, 227, 227, ...      2\n",
              "1  [0, 0, 0, 0, 0, 0, 0, 0, 0, 0, 59, 77, 58, 56,...      1\n",
              "2  [0, 0, 0, 0, 0, 0, 0, 0, 0, 0, 0, 0, 0, 0, 0, ...      8\n",
              "3  [0, 0, 0, 0, 0, 0, 0, 0, 0, 0, 2, 127, 106, 13...      4\n",
              "4  [0, 0, 0, 0, 0, 0, 0, 0, 0, 0, 134, 171, 132, ...      1"
            ],
            "text/html": [
              "\n",
              "  <div id=\"df-3f22e2af-3664-4a73-8b85-446de512dfa4\">\n",
              "    <div class=\"colab-df-container\">\n",
              "      <div>\n",
              "<style scoped>\n",
              "    .dataframe tbody tr th:only-of-type {\n",
              "        vertical-align: middle;\n",
              "    }\n",
              "\n",
              "    .dataframe tbody tr th {\n",
              "        vertical-align: top;\n",
              "    }\n",
              "\n",
              "    .dataframe thead th {\n",
              "        text-align: right;\n",
              "    }\n",
              "</style>\n",
              "<table border=\"1\" class=\"dataframe\">\n",
              "  <thead>\n",
              "    <tr style=\"text-align: right;\">\n",
              "      <th></th>\n",
              "      <th>image</th>\n",
              "      <th>label</th>\n",
              "    </tr>\n",
              "  </thead>\n",
              "  <tbody>\n",
              "    <tr>\n",
              "      <th>0</th>\n",
              "      <td>[0, 0, 0, 0, 0, 0, 0, 0, 0, 18, 77, 227, 227, ...</td>\n",
              "      <td>2</td>\n",
              "    </tr>\n",
              "    <tr>\n",
              "      <th>1</th>\n",
              "      <td>[0, 0, 0, 0, 0, 0, 0, 0, 0, 0, 59, 77, 58, 56,...</td>\n",
              "      <td>1</td>\n",
              "    </tr>\n",
              "    <tr>\n",
              "      <th>2</th>\n",
              "      <td>[0, 0, 0, 0, 0, 0, 0, 0, 0, 0, 0, 0, 0, 0, 0, ...</td>\n",
              "      <td>8</td>\n",
              "    </tr>\n",
              "    <tr>\n",
              "      <th>3</th>\n",
              "      <td>[0, 0, 0, 0, 0, 0, 0, 0, 0, 0, 2, 127, 106, 13...</td>\n",
              "      <td>4</td>\n",
              "    </tr>\n",
              "    <tr>\n",
              "      <th>4</th>\n",
              "      <td>[0, 0, 0, 0, 0, 0, 0, 0, 0, 0, 134, 171, 132, ...</td>\n",
              "      <td>1</td>\n",
              "    </tr>\n",
              "  </tbody>\n",
              "</table>\n",
              "</div>\n",
              "      <button class=\"colab-df-convert\" onclick=\"convertToInteractive('df-3f22e2af-3664-4a73-8b85-446de512dfa4')\"\n",
              "              title=\"Convert this dataframe to an interactive table.\"\n",
              "              style=\"display:none;\">\n",
              "        \n",
              "  <svg xmlns=\"http://www.w3.org/2000/svg\" height=\"24px\"viewBox=\"0 0 24 24\"\n",
              "       width=\"24px\">\n",
              "    <path d=\"M0 0h24v24H0V0z\" fill=\"none\"/>\n",
              "    <path d=\"M18.56 5.44l.94 2.06.94-2.06 2.06-.94-2.06-.94-.94-2.06-.94 2.06-2.06.94zm-11 1L8.5 8.5l.94-2.06 2.06-.94-2.06-.94L8.5 2.5l-.94 2.06-2.06.94zm10 10l.94 2.06.94-2.06 2.06-.94-2.06-.94-.94-2.06-.94 2.06-2.06.94z\"/><path d=\"M17.41 7.96l-1.37-1.37c-.4-.4-.92-.59-1.43-.59-.52 0-1.04.2-1.43.59L10.3 9.45l-7.72 7.72c-.78.78-.78 2.05 0 2.83L4 21.41c.39.39.9.59 1.41.59.51 0 1.02-.2 1.41-.59l7.78-7.78 2.81-2.81c.8-.78.8-2.07 0-2.86zM5.41 20L4 18.59l7.72-7.72 1.47 1.35L5.41 20z\"/>\n",
              "  </svg>\n",
              "      </button>\n",
              "      \n",
              "  <style>\n",
              "    .colab-df-container {\n",
              "      display:flex;\n",
              "      flex-wrap:wrap;\n",
              "      gap: 12px;\n",
              "    }\n",
              "\n",
              "    .colab-df-convert {\n",
              "      background-color: #E8F0FE;\n",
              "      border: none;\n",
              "      border-radius: 50%;\n",
              "      cursor: pointer;\n",
              "      display: none;\n",
              "      fill: #1967D2;\n",
              "      height: 32px;\n",
              "      padding: 0 0 0 0;\n",
              "      width: 32px;\n",
              "    }\n",
              "\n",
              "    .colab-df-convert:hover {\n",
              "      background-color: #E2EBFA;\n",
              "      box-shadow: 0px 1px 2px rgba(60, 64, 67, 0.3), 0px 1px 3px 1px rgba(60, 64, 67, 0.15);\n",
              "      fill: #174EA6;\n",
              "    }\n",
              "\n",
              "    [theme=dark] .colab-df-convert {\n",
              "      background-color: #3B4455;\n",
              "      fill: #D2E3FC;\n",
              "    }\n",
              "\n",
              "    [theme=dark] .colab-df-convert:hover {\n",
              "      background-color: #434B5C;\n",
              "      box-shadow: 0px 1px 3px 1px rgba(0, 0, 0, 0.15);\n",
              "      filter: drop-shadow(0px 1px 2px rgba(0, 0, 0, 0.3));\n",
              "      fill: #FFFFFF;\n",
              "    }\n",
              "  </style>\n",
              "\n",
              "      <script>\n",
              "        const buttonEl =\n",
              "          document.querySelector('#df-3f22e2af-3664-4a73-8b85-446de512dfa4 button.colab-df-convert');\n",
              "        buttonEl.style.display =\n",
              "          google.colab.kernel.accessAllowed ? 'block' : 'none';\n",
              "\n",
              "        async function convertToInteractive(key) {\n",
              "          const element = document.querySelector('#df-3f22e2af-3664-4a73-8b85-446de512dfa4');\n",
              "          const dataTable =\n",
              "            await google.colab.kernel.invokeFunction('convertToInteractive',\n",
              "                                                     [key], {});\n",
              "          if (!dataTable) return;\n",
              "\n",
              "          const docLinkHtml = 'Like what you see? Visit the ' +\n",
              "            '<a target=\"_blank\" href=https://colab.research.google.com/notebooks/data_table.ipynb>data table notebook</a>'\n",
              "            + ' to learn more about interactive tables.';\n",
              "          element.innerHTML = '';\n",
              "          dataTable['output_type'] = 'display_data';\n",
              "          await google.colab.output.renderOutput(dataTable, element);\n",
              "          const docLink = document.createElement('div');\n",
              "          docLink.innerHTML = docLinkHtml;\n",
              "          element.appendChild(docLink);\n",
              "        }\n",
              "      </script>\n",
              "    </div>\n",
              "  </div>\n",
              "  "
            ]
          },
          "metadata": {},
          "execution_count": 110
        }
      ],
      "source": [
        "df_test[\"image\"] = df_test[\"image\"].apply(lambda x: x.flatten())\n",
        "df_train[\"image\"] = df_train[\"image\"].apply(lambda x: x.flatten())\n",
        "df_train.head()"
      ]
    },
    {
      "cell_type": "markdown",
      "metadata": {
        "id": "iiMkjiGHE_t3"
      },
      "source": [
        "#### 2. Feladata - Adatok vizualizálása (1. pont)\n",
        "\n",
        "Írjon egy „víz” nevű függvényt, aminek 3 paramétere van egy test_img és test_label és size. A függvény jelenítsen meg egy véletlenül kiválasztott elemet."
      ]
    },
    {
      "cell_type": "code",
      "execution_count": 111,
      "metadata": {
        "id": "MPApmhPVE_t3"
      },
      "outputs": [],
      "source": [
        "import numpy as np\n",
        "import matplotlib.pyplot as plt\n",
        "\n",
        "def viz(test_img, test_label, size=(28, 28)):\n",
        "    plt.imshow(test_img.reshape(size[0], size[1]), cmap=\"Greys\")\n",
        "    plt.axis('off')\n",
        "    plt.title(str(test_label))\n",
        "    plt.show()"
      ]
    },
    {
      "cell_type": "code",
      "execution_count": 112,
      "metadata": {
        "colab": {
          "base_uri": "https://localhost:8080/",
          "height": 428
        },
        "id": "mxM1yxJ0E_t4",
        "outputId": "82b479b8-591c-4cbe-eaf7-58294dbfe5bb"
      },
      "outputs": [
        {
          "output_type": "display_data",
          "data": {
            "text/plain": [
              "<Figure size 640x480 with 1 Axes>"
            ],
            "image/png": "[encoded data removed]"
          },
          "metadata": {}
        }
      ],
      "source": [
        "choice = np.random.choice(np.arange(len(df_train)))\n",
        "viz(df_train[\"image\"].values[choice], df_train[\"label\"].values[choice])"
      ]
    },
    {
      "cell_type": "markdown",
      "metadata": {
        "id": "K2RVJGANE_t4"
      },
      "source": [
        "#### 2. Feladat - Tanuló és teszt adatok előkészítése (1. pont)\n",
        "Készítsd elő egy numpy array-be az input és címke adatokat (X,y) - bontásban. Ahol X prefix az input és y prefix a címke legyen a változó nevében."
      ]
    },
    {
      "cell_type": "code",
      "source": [
        "train_test_split_no =  int(df_train.shape[1]*392)\n",
        "train_test_split_no"
      ],
      "metadata": {
        "colab": {
          "base_uri": "https://localhost:8080/"
        },
        "id": "3Mx2uopUHAdl",
        "outputId": "44d919bb-ac47-4b56-cc23-beb4a9c59a14"
      },
      "execution_count": 113,
      "outputs": [
        {
          "output_type": "execute_result",
          "data": {
            "text/plain": [
              "784"
            ]
          },
          "metadata": {},
          "execution_count": 113
        }
      ]
    },
    {
      "cell_type": "code",
      "execution_count": 114,
      "metadata": {
        "id": "j2VD65crE_t4"
      },
      "outputs": [],
      "source": [
        "X_train = df_train[:train_test_split_no]\n",
        "y_train = df_train[\"label\"].values[:train_test_split_no].astype(int)\n",
        "\n",
        "X_test = df_test[train_test_split_no:]\n",
        "y_test = df_test[\"label\"].values[train_test_split_no:].astype(int)"
      ]
    },
    {
      "cell_type": "code",
      "execution_count": 115,
      "metadata": {
        "colab": {
          "base_uri": "https://localhost:8080/"
        },
        "id": "RRKf32e3E_t4",
        "outputId": "f008cf61-ce6b-4391-b5b0-8f174639b281"
      },
      "outputs": [
        {
          "output_type": "execute_result",
          "data": {
            "text/plain": [
              "((784, 2), (784,), (9216, 2), (9216,))"
            ]
          },
          "metadata": {},
          "execution_count": 115
        }
      ],
      "source": [
        "X_train.shape, y_train.shape, X_test.shape, y_test.shape"
      ]
    },
    {
      "cell_type": "markdown",
      "metadata": {
        "id": "1yleYS-gE_t4"
      },
      "source": [
        "\n",
        "#### 2. Feladat - One-hot enkódolja a címkéket (1. pont)"
      ]
    },
    {
      "cell_type": "code",
      "execution_count": 116,
      "metadata": {
        "id": "AG_E1QsaE_t5"
      },
      "outputs": [],
      "source": [
        "def one_hot_encode(x, num_labels):\n",
        "  return np.eye(num_labels)[x]"
      ]
    },
    {
      "cell_type": "code",
      "execution_count": 117,
      "metadata": {
        "colab": {
          "base_uri": "https://localhost:8080/"
        },
        "id": "D9ln3_6VE_t5",
        "outputId": "2106137a-3ed7-4617-9602-d00eb88159ba"
      },
      "outputs": [
        {
          "output_type": "execute_result",
          "data": {
            "text/plain": [
              "((784, 2), (784, 10), (9216, 2), (9216, 10))"
            ]
          },
          "metadata": {},
          "execution_count": 117
        }
      ],
      "source": [
        "y_train = one_hot_encode(y_train, 10)\n",
        "y_test = one_hot_encode(y_test, 10)\n",
        "\n",
        "X_train.shape, y_train.shape, X_test.shape, y_test.shape"
      ]
    },
    {
      "cell_type": "markdown",
      "metadata": {
        "id": "9qLiljsZE_t5"
      },
      "source": [
        "#### 2. Feladat - Építse fel a modellt. (1.pont)"
      ]
    },
    {
      "cell_type": "markdown",
      "metadata": {
        "id": "CXFGH_8xE_t5"
      },
      "source": [
        "<img src=\"    data:image/png;base64,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\" />"
      ]
    },
    {
      "cell_type": "code",
      "source": [
        "import tensorflow as tf\n",
        "\n",
        "model = tf.keras.Sequential([\n",
        "    tf.keras.layers.Input((X_train.shape[0])),\n",
        "    tf.keras.layers.Dense(128, activation=\"relu\"),\n",
        "    tf.keras.layers.Dense(64, activation=\"relu\"),\n",
        "    tf.keras.layers.Dense(32, activation=\"relu\"),\n",
        "    tf.keras.layers.Dense(10, activation=\"softmax\")\n",
        "])"
      ],
      "metadata": {
        "id": "bQKmXk66Ka87"
      },
      "execution_count": 118,
      "outputs": []
    },
    {
      "cell_type": "code",
      "execution_count": 119,
      "metadata": {
        "id": "O-PZoGp9E_t7"
      },
      "outputs": [],
      "source": [
        "model.compile(\n",
        "    optimizer=\"adam\", \n",
        "    loss=\"categorical_crossentropy\", \n",
        "    metrics=[\"accuracy\"]\n",
        ")"
      ]
    },
    {
      "cell_type": "code",
      "source": [
        "tf.keras.utils.plot_model(\n",
        "    model,\n",
        "    show_shapes=True,\n",
        "    show_dtype=True,\n",
        "    show_layer_names=True,\n",
        "    expand_nested=True,\n",
        "    dpi=96,\n",
        "    layer_range=None,\n",
        "    show_layer_activations=True\n",
        ")"
      ],
      "metadata": {
        "colab": {
          "base_uri": "https://localhost:8080/",
          "height": 686
        },
        "id": "fgmHp7XKK6op",
        "outputId": "a58eca15-7e79-4124-fc0a-bc6a6b1637b7"
      },
      "execution_count": 120,
      "outputs": [
        {
          "output_type": "execute_result",
          "data": {
            "image/png": "[encoded data removed]",
            "text/plain": [
              "<IPython.core.display.Image object>"
            ]
          },
          "metadata": {},
          "execution_count": 120
        }
      ]
    },
    {
      "cell_type": "markdown",
      "metadata": {
        "id": "EBdiKDTgE_t7"
      },
      "source": [
        "#### 2. Feladat - Tanítsa be és értékelje ki a modell a következő paraméterekkel. (1. pont)\n",
        "- batch_size = 48 \n",
        "- epoch = 7"
      ]
    },
    {
      "cell_type": "code",
      "execution_count": 121,
      "metadata": {
        "colab": {
          "base_uri": "https://localhost:8080/",
          "height": 311
        },
        "id": "6amHIC7GE_t7",
        "outputId": "6fc647de-6de5-4d52-cf91-91c1eb0e18e3"
      },
      "outputs": [
        {
          "output_type": "error",
          "ename": "ValueError",
          "evalue": "ignored",
          "traceback": [
            "\u001b[0;31m---------------------------------------------------------------------------\u001b[0m",
            "\u001b[0;31mValueError\u001b[0m                                Traceback (most recent call last)",
            "\u001b[0;32m<ipython-input-121-ba37dabce4c5>\u001b[0m in \u001b[0;36m<cell line: 1>\u001b[0;34m()\u001b[0m\n\u001b[0;32m----> 1\u001b[0;31m \u001b[0mmodel\u001b[0m\u001b[0;34m.\u001b[0m\u001b[0mfit\u001b[0m\u001b[0;34m(\u001b[0m\u001b[0mX_train\u001b[0m\u001b[0;34m,\u001b[0m \u001b[0my_train\u001b[0m\u001b[0;34m,\u001b[0m \u001b[0mepochs\u001b[0m\u001b[0;34m=\u001b[0m\u001b[0;36m7\u001b[0m\u001b[0;34m,\u001b[0m \u001b[0mbatch_size\u001b[0m\u001b[0;34m=\u001b[0m\u001b[0;36m48\u001b[0m\u001b[0;34m)\u001b[0m\u001b[0;34m\u001b[0m\u001b[0;34m\u001b[0m\u001b[0m\n\u001b[0m",
            "\u001b[0;32m/usr/local/lib/python3.10/dist-packages/keras/utils/traceback_utils.py\u001b[0m in \u001b[0;36merror_handler\u001b[0;34m(*args, **kwargs)\u001b[0m\n\u001b[1;32m     68\u001b[0m             \u001b[0;31m# To get the full stack trace, call:\u001b[0m\u001b[0;34m\u001b[0m\u001b[0;34m\u001b[0m\u001b[0m\n\u001b[1;32m     69\u001b[0m             \u001b[0;31m# `tf.debugging.disable_traceback_filtering()`\u001b[0m\u001b[0;34m\u001b[0m\u001b[0;34m\u001b[0m\u001b[0m\n\u001b[0;32m---> 70\u001b[0;31m             \u001b[0;32mraise\u001b[0m \u001b[0me\u001b[0m\u001b[0;34m.\u001b[0m\u001b[0mwith_traceback\u001b[0m\u001b[0;34m(\u001b[0m\u001b[0mfiltered_tb\u001b[0m\u001b[0;34m)\u001b[0m \u001b[0;32mfrom\u001b[0m \u001b[0;32mNone\u001b[0m\u001b[0;34m\u001b[0m\u001b[0;34m\u001b[0m\u001b[0m\n\u001b[0m\u001b[1;32m     71\u001b[0m         \u001b[0;32mfinally\u001b[0m\u001b[0;34m:\u001b[0m\u001b[0;34m\u001b[0m\u001b[0;34m\u001b[0m\u001b[0m\n\u001b[1;32m     72\u001b[0m             \u001b[0;32mdel\u001b[0m \u001b[0mfiltered_tb\u001b[0m\u001b[0;34m\u001b[0m\u001b[0;34m\u001b[0m\u001b[0m\n",
            "\u001b[0;32m/usr/local/lib/python3.10/dist-packages/tensorflow/python/framework/constant_op.py\u001b[0m in \u001b[0;36mconvert_to_eager_tensor\u001b[0;34m(value, ctx, dtype)\u001b[0m\n\u001b[1;32m    101\u001b[0m       \u001b[0mdtype\u001b[0m \u001b[0;34m=\u001b[0m \u001b[0mdtypes\u001b[0m\u001b[0;34m.\u001b[0m\u001b[0mas_dtype\u001b[0m\u001b[0;34m(\u001b[0m\u001b[0mdtype\u001b[0m\u001b[0;34m)\u001b[0m\u001b[0;34m.\u001b[0m\u001b[0mas_datatype_enum\u001b[0m\u001b[0;34m\u001b[0m\u001b[0;34m\u001b[0m\u001b[0m\n\u001b[1;32m    102\u001b[0m   \u001b[0mctx\u001b[0m\u001b[0;34m.\u001b[0m\u001b[0mensure_initialized\u001b[0m\u001b[0;34m(\u001b[0m\u001b[0;34m)\u001b[0m\u001b[0;34m\u001b[0m\u001b[0;34m\u001b[0m\u001b[0m\n\u001b[0;32m--> 103\u001b[0;31m   \u001b[0;32mreturn\u001b[0m \u001b[0mops\u001b[0m\u001b[0;34m.\u001b[0m\u001b[0mEagerTensor\u001b[0m\u001b[0;34m(\u001b[0m\u001b[0mvalue\u001b[0m\u001b[0;34m,\u001b[0m \u001b[0mctx\u001b[0m\u001b[0;34m.\u001b[0m\u001b[0mdevice_name\u001b[0m\u001b[0;34m,\u001b[0m \u001b[0mdtype\u001b[0m\u001b[0;34m)\u001b[0m\u001b[0;34m\u001b[0m\u001b[0;34m\u001b[0m\u001b[0m\n\u001b[0m\u001b[1;32m    104\u001b[0m \u001b[0;34m\u001b[0m\u001b[0m\n\u001b[1;32m    105\u001b[0m \u001b[0;34m\u001b[0m\u001b[0m\n",
            "\u001b[0;31mValueError\u001b[0m: Failed to convert a NumPy array to a Tensor (Unsupported object type numpy.ndarray)."
          ]
        }
      ],
      "source": [
        "model.fit(X_train, y_train, epochs=7, batch_size=48)"
      ]
    },
    {
      "cell_type": "code",
      "execution_count": 122,
      "metadata": {
        "colab": {
          "base_uri": "https://localhost:8080/",
          "height": 311
        },
        "id": "j67MIBpkE_t8",
        "outputId": "905b3763-b5ed-4862-ce9d-341df51f0c89"
      },
      "outputs": [
        {
          "output_type": "error",
          "ename": "ValueError",
          "evalue": "ignored",
          "traceback": [
            "\u001b[0;31m---------------------------------------------------------------------------\u001b[0m",
            "\u001b[0;31mValueError\u001b[0m                                Traceback (most recent call last)",
            "\u001b[0;32m<ipython-input-122-acc519fcce62>\u001b[0m in \u001b[0;36m<cell line: 1>\u001b[0;34m()\u001b[0m\n\u001b[0;32m----> 1\u001b[0;31m \u001b[0mmodel\u001b[0m\u001b[0;34m.\u001b[0m\u001b[0mevaluate\u001b[0m\u001b[0;34m(\u001b[0m\u001b[0mX_test\u001b[0m\u001b[0;34m,\u001b[0m \u001b[0my_test\u001b[0m\u001b[0;34m)\u001b[0m\u001b[0;34m\u001b[0m\u001b[0;34m\u001b[0m\u001b[0m\n\u001b[0m",
            "\u001b[0;32m/usr/local/lib/python3.10/dist-packages/keras/utils/traceback_utils.py\u001b[0m in \u001b[0;36merror_handler\u001b[0;34m(*args, **kwargs)\u001b[0m\n\u001b[1;32m     68\u001b[0m             \u001b[0;31m# To get the full stack trace, call:\u001b[0m\u001b[0;34m\u001b[0m\u001b[0;34m\u001b[0m\u001b[0m\n\u001b[1;32m     69\u001b[0m             \u001b[0;31m# `tf.debugging.disable_traceback_filtering()`\u001b[0m\u001b[0;34m\u001b[0m\u001b[0;34m\u001b[0m\u001b[0m\n\u001b[0;32m---> 70\u001b[0;31m             \u001b[0;32mraise\u001b[0m \u001b[0me\u001b[0m\u001b[0;34m.\u001b[0m\u001b[0mwith_traceback\u001b[0m\u001b[0;34m(\u001b[0m\u001b[0mfiltered_tb\u001b[0m\u001b[0;34m)\u001b[0m \u001b[0;32mfrom\u001b[0m \u001b[0;32mNone\u001b[0m\u001b[0;34m\u001b[0m\u001b[0;34m\u001b[0m\u001b[0m\n\u001b[0m\u001b[1;32m     71\u001b[0m         \u001b[0;32mfinally\u001b[0m\u001b[0;34m:\u001b[0m\u001b[0;34m\u001b[0m\u001b[0;34m\u001b[0m\u001b[0m\n\u001b[1;32m     72\u001b[0m             \u001b[0;32mdel\u001b[0m \u001b[0mfiltered_tb\u001b[0m\u001b[0;34m\u001b[0m\u001b[0;34m\u001b[0m\u001b[0m\n",
            "\u001b[0;32m/usr/local/lib/python3.10/dist-packages/tensorflow/python/framework/constant_op.py\u001b[0m in \u001b[0;36mconvert_to_eager_tensor\u001b[0;34m(value, ctx, dtype)\u001b[0m\n\u001b[1;32m    101\u001b[0m       \u001b[0mdtype\u001b[0m \u001b[0;34m=\u001b[0m \u001b[0mdtypes\u001b[0m\u001b[0;34m.\u001b[0m\u001b[0mas_dtype\u001b[0m\u001b[0;34m(\u001b[0m\u001b[0mdtype\u001b[0m\u001b[0;34m)\u001b[0m\u001b[0;34m.\u001b[0m\u001b[0mas_datatype_enum\u001b[0m\u001b[0;34m\u001b[0m\u001b[0;34m\u001b[0m\u001b[0m\n\u001b[1;32m    102\u001b[0m   \u001b[0mctx\u001b[0m\u001b[0;34m.\u001b[0m\u001b[0mensure_initialized\u001b[0m\u001b[0;34m(\u001b[0m\u001b[0;34m)\u001b[0m\u001b[0;34m\u001b[0m\u001b[0;34m\u001b[0m\u001b[0m\n\u001b[0;32m--> 103\u001b[0;31m   \u001b[0;32mreturn\u001b[0m \u001b[0mops\u001b[0m\u001b[0;34m.\u001b[0m\u001b[0mEagerTensor\u001b[0m\u001b[0;34m(\u001b[0m\u001b[0mvalue\u001b[0m\u001b[0;34m,\u001b[0m \u001b[0mctx\u001b[0m\u001b[0;34m.\u001b[0m\u001b[0mdevice_name\u001b[0m\u001b[0;34m,\u001b[0m \u001b[0mdtype\u001b[0m\u001b[0;34m)\u001b[0m\u001b[0;34m\u001b[0m\u001b[0;34m\u001b[0m\u001b[0m\n\u001b[0m\u001b[1;32m    104\u001b[0m \u001b[0;34m\u001b[0m\u001b[0m\n\u001b[1;32m    105\u001b[0m \u001b[0;34m\u001b[0m\u001b[0m\n",
            "\u001b[0;31mValueError\u001b[0m: Failed to convert a NumPy array to a Tensor (Unsupported object type numpy.ndarray)."
          ]
        }
      ],
      "source": [
        "model.evaluate(X_test, y_test)"
      ]
    },
    {
      "cell_type": "markdown",
      "metadata": {
        "id": "RRXJlZOpE_t8"
      },
      "source": [
        "### 3. Feladat (4. pont)\n",
        "Használd a Q-learning algoritmust, hogy kiképez egy ágenst ami megtalálja a laborintusban a legrövidebb utat."
      ]
    },
    {
      "cell_type": "markdown",
      "metadata": {
        "id": "eAbjUWOdE_t8"
      },
      "source": [
        "#### 3. Feladat. Írd meg a Q-learning osztály action metódusát úgy a Q-learning szabályainak megfelelően. A labirintus megoldásához egy 3 dimenizós Q-táblát használt melynek dimenzióji a következő felépítésüek: (1. pont)\n",
        "- 1. Sorok száma\n",
        "- 2. Oszlopok száma\n",
        "- 3. Cselekvések száma"
      ]
    },
    {
      "cell_type": "code",
      "execution_count": 126,
      "metadata": {
        "id": "LJTp64qkE_t9"
      },
      "outputs": [],
      "source": [
        "import random\n",
        "import numpy as np\n",
        "\n",
        "class QLearningAgent:\n",
        "    \"\"\"\n",
        "    A Q-learning ügynökünket képviselő osztály\n",
        "    \"\"\"\n",
        "    def __init__(self, n_states_row,  n_states_cols, n_actions, learning_rate):\n",
        "        self.n_states_row = n_states_row\n",
        "        self.n_states_cols = n_states_cols\n",
        "        self.n_actions = n_actions\n",
        "        self.learning_rate = learning_rate\n",
        "        \n",
        "        self.q_table = np.zeros((self.n_states_row, self.n_states_cols, n_actions))\n",
        "    \n",
        "    def act(self, state_row, state_col, epsilon):\n",
        "        # Generáljon véletlen számot a [0, 1] intervallumon\n",
        "        random_int = random.uniform(0,1)\n",
        "        action = 0\n",
        "        \n",
        "        if random_int > epsilon: \n",
        "            action = np.argmax(self.q_table[state_row][state_col])\n",
        "        else:\n",
        "            action = random.randint(0,self.n_actions-1)\n",
        "        \n",
        "        return action\n",
        "    \n",
        "    def learn(self, state_row, state_col, action, reward, new_state_row, new_state_col, gamma):\n",
        "        old_value = self.q_table[state_row][state_col][action]\n",
        "        new_estimate = reward + gamma * max(self.q_table[new_state_row][new_state_col]) \n",
        "        \n",
        "        self.q_table[state_row][state_col][action] = old_value + self.learning_rate * (new_estimate- old_value)"
      ]
    },
    {
      "cell_type": "markdown",
      "metadata": {
        "id": "qI0N8gI2E_t9"
      },
      "source": [
        "#### 3. Feladat. Írd meg a play metódust amely elvégzi a labirntus kereső osztály tanulást a Q-Learning ágenst használva (1.5 pont)"
      ]
    },
    {
      "cell_type": "code",
      "execution_count": 149,
      "metadata": {
        "id": "6nFNn13oE_t9"
      },
      "outputs": [],
      "source": [
        "from tqdm import tqdm\n",
        "import matplotlib.pyplot as plt\n",
        "\n",
        "class Maze():\n",
        "    def __init__(self, epsilon, gamma, environment, aisles):\n",
        "        self.epsilon = epsilon\n",
        "        self.gamma = gamma\n",
        "        self.agent = None\n",
        "        self.aisles = aisles\n",
        "        self.environment_rows = environment[0]\n",
        "        self.environment_columns = environment[1]\n",
        "        self.actions = ['up', 'right', 'down', 'left']\n",
        "        self.rewards = np.full((self.environment_rows, self.environment_columns), -100.)\n",
        "        self.rewards[0, 5] = 100.\n",
        "\n",
        "        # Rewardok beállítása a folyosókhoz\n",
        "        for row in range(1, self.environment_rows-1):\n",
        "            for col in self.aisles[row]:\n",
        "                self.rewards[row, col] = -1.\n",
        "    \n",
        "    def set_agent(self, agent):\n",
        "        self.agent = agent\n",
        "\n",
        "    def get_rewards(self):\n",
        "        return self.rewards\n",
        "\n",
        "    def viz(self, tabel):\n",
        "        plt.imshow(tabel)\n",
        "        plt.colorbar()\n",
        "        plt.show()\n",
        "\n",
        "    def viz_route(self, start_row, start_col):\n",
        "        shortest_path = self.get_shortest_path(start_row, start_col)\n",
        "        table = self.get_rewards().copy()\n",
        "        for item in shortest_path:\n",
        "            table[item[0]][item[1]] = 50\n",
        "        \n",
        "        self.viz(table)\n",
        "        \n",
        "    def is_terminal_state(self, row, col):\n",
        "        \"\"\" Vég állapot vizsgálata\"\"\"\n",
        "        if self.rewards[row, col] == -1.:\n",
        "            return False\n",
        "        else:\n",
        "            return True\n",
        "            \n",
        "    def get_starting_location(self):\n",
        "        \"\"\"Nem terminális kezdőpont generálása\"\"\"\n",
        "        row = np.random.randint(self.environment_rows)\n",
        "        column = np.random.randint(self.environment_columns)\n",
        "\n",
        "        # Ha terminális állapotot generálunk tovább probálkozunk\n",
        "        while self.is_terminal_state(row, column):\n",
        "            row = np.random.randint(self.environment_rows)\n",
        "            column = np.random.randint(self.environment_columns)\n",
        "        \n",
        "        return row, column\n",
        "    \n",
        "    # define a function that will get the next location based on the chosen action\n",
        "    def get_next_location(self, row, col, action):\n",
        "        \"\"\"Definiál egy függvényt, amely a következő helyet vissza adja a \n",
        "        kiválasztott művelet alapján\"\"\"\n",
        "        new_row = row\n",
        "        new_column = col\n",
        "        if self.actions[action] == 'up' and row > 0:\n",
        "            new_row -= 1\n",
        "        elif self.actions[action] == 'right' and col < self.environment_columns - 1:\n",
        "            new_column += 1\n",
        "        elif self.actions[action] == 'down' and row < self.environment_rows - 1:\n",
        "            new_row += 1\n",
        "        elif self.actions[action] == 'left' and col > 0:\n",
        "            new_column -= 1\n",
        "        return new_row, new_column\n",
        "  \n",
        "    def get_shortest_path(self, start_row, start_column):\n",
        "        \"\"\"Vissza adja a legröbidebb utat\"\"\"       \n",
        "        if self.is_terminal_state(start_row, start_column):\n",
        "            return []\n",
        "        else: \n",
        "            # Ha nem terminális a kezdő pont\n",
        "            current_row, current_column = start_row, start_column\n",
        "            shortest_path = []\n",
        "            shortest_path.append([current_row, current_column])\n",
        "            # Megyünk amíg terminálisig nem jutunk.\n",
        "            while not self.is_terminal_state(current_row, current_column):\n",
        "                action = np.argmax(self.agent.q_table[current_row][current_column])                \n",
        "                current_row, current_column = self.get_next_location(current_row, current_column, action)\n",
        "                shortest_path.append([current_row, current_column])\n",
        "                \n",
        "            return shortest_path\n",
        "\n",
        "    def play(self, learning_step):\n",
        "        \"\"\"A tanulást végző metódus\"\"\"\n",
        "        for episode in tqdm(range(learning_step)):\n",
        "            new_row, new_column = self.get_starting_location()\n",
        "            while not self.is_terminal_state(new_row, new_column):\n",
        "              action = self.agent.select_action(new_row, new_column, self.epsilon)\n",
        "              next_row, next_column = self.get_next_location(new_row, new_column, action)\n",
        "              reward = self.rewards[next_row, next_column]\n",
        "              #ToDo\n",
        "              return NotImplementedError()"
      ]
    },
    {
      "cell_type": "markdown",
      "metadata": {
        "id": "sgt7Bj9cE_t-"
      },
      "source": [
        "#### 3. Feladat - Maze osztály példányosítása"
      ]
    },
    {
      "cell_type": "code",
      "execution_count": 150,
      "metadata": {
        "id": "b8AFT40LE_t-"
      },
      "outputs": [],
      "source": [
        "# Folyosók\n",
        "aisles = {}\n",
        "aisles[1] = [i for i in range(1, 10)]\n",
        "aisles[2] = [1, 7, 9]\n",
        "aisles[3] = [i for i in range(1, 10)]\n",
        "aisles[3].append(9)\n",
        "aisles[4] = [1, 3, 7, 9]\n",
        "aisles[5] = [i for i in range(11)]\n",
        "aisles[6] = [5]\n",
        "aisles[7] = [i for i in range(1, 10)]\n",
        "aisles[8] = [3, 7]\n",
        "aisles[9] = [i for i in range(8)]"
      ]
    },
    {
      "cell_type": "code",
      "execution_count": 151,
      "metadata": {
        "id": "2BvGJPRFE_t-"
      },
      "outputs": [],
      "source": [
        "maze = Maze(epsilon = 0.9, gamma = 0.9, environment=(11,11), aisles = aisles)"
      ]
    },
    {
      "cell_type": "code",
      "execution_count": 152,
      "metadata": {
        "colab": {
          "base_uri": "https://localhost:8080/",
          "height": 435
        },
        "id": "I5ISxnjmE_t-",
        "outputId": "9292546b-7a0d-40d2-e8a1-8a70fd16f6e7"
      },
      "outputs": [
        {
          "output_type": "display_data",
          "data": {
            "text/plain": [
              "<Figure size 640x480 with 2 Axes>"
            ],
            "image/png": "[encoded data removed]"
          },
          "metadata": {}
        }
      ],
      "source": [
        "maze.viz(maze.get_rewards())"
      ]
    },
    {
      "cell_type": "markdown",
      "metadata": {
        "id": "uSsPYWjCE_t-"
      },
      "source": [
        "#### 3. Feladat - Q-Learning Ágens példányosítása"
      ]
    },
    {
      "cell_type": "code",
      "execution_count": 153,
      "metadata": {
        "colab": {
          "base_uri": "https://localhost:8080/"
        },
        "id": "NGehLbLNE_t_",
        "outputId": "c15e0b9c-77ae-4e42-b3a4-e30ce650e30e"
      },
      "outputs": [
        {
          "output_type": "execute_result",
          "data": {
            "text/plain": [
              "array([0., 0., 0., 0.])"
            ]
          },
          "metadata": {},
          "execution_count": 153
        }
      ],
      "source": [
        "agent = QLearningAgent(\n",
        "    n_states_row=11, \n",
        "    n_states_cols=11, \n",
        "    n_actions=len(maze.actions), \n",
        "    learning_rate=0.9)\n",
        "\n",
        "maze.set_agent(agent)\n",
        "\n",
        "agent.q_table[0][0]"
      ]
    },
    {
      "cell_type": "markdown",
      "metadata": {
        "id": "zM5jaFh8E_uA"
      },
      "source": [
        "#### 3. Feladat - Tanítsd be az Ágenst 10000 lépessel (1. pont)"
      ]
    },
    {
      "cell_type": "code",
      "source": [
        "maze.__init__()"
      ],
      "metadata": {
        "colab": {
          "base_uri": "https://localhost:8080/",
          "height": 165
        },
        "id": "8DcmYV7ORimf",
        "outputId": "2fcbc18b-62f3-4dc6-c2f9-b29effc92913"
      },
      "execution_count": 154,
      "outputs": [
        {
          "output_type": "error",
          "ename": "TypeError",
          "evalue": "ignored",
          "traceback": [
            "\u001b[0;31m---------------------------------------------------------------------------\u001b[0m",
            "\u001b[0;31mTypeError\u001b[0m                                 Traceback (most recent call last)",
            "\u001b[0;32m<ipython-input-154-826a60787fd1>\u001b[0m in \u001b[0;36m<cell line: 1>\u001b[0;34m()\u001b[0m\n\u001b[0;32m----> 1\u001b[0;31m \u001b[0mmaze\u001b[0m\u001b[0;34m.\u001b[0m\u001b[0m__init__\u001b[0m\u001b[0;34m(\u001b[0m\u001b[0;34m)\u001b[0m\u001b[0;34m\u001b[0m\u001b[0;34m\u001b[0m\u001b[0m\n\u001b[0m",
            "\u001b[0;31mTypeError\u001b[0m: Maze.__init__() missing 4 required positional arguments: 'epsilon', 'gamma', 'environment', and 'aisles'"
          ]
        }
      ]
    },
    {
      "cell_type": "code",
      "source": [
        "maze.agent = QLearningAgent(n_states=maze.environment, n_actions=3, learning_rate=1.0)\n",
        "maze.agent"
      ],
      "metadata": {
        "colab": {
          "base_uri": "https://localhost:8080/",
          "height": 182
        },
        "id": "pU_sKIqUR1CL",
        "outputId": "d536efd2-ce83-4285-a1f8-42287e8a09be"
      },
      "execution_count": 157,
      "outputs": [
        {
          "output_type": "error",
          "ename": "AttributeError",
          "evalue": "ignored",
          "traceback": [
            "\u001b[0;31m---------------------------------------------------------------------------\u001b[0m",
            "\u001b[0;31mAttributeError\u001b[0m                            Traceback (most recent call last)",
            "\u001b[0;32m<ipython-input-157-c28437395b96>\u001b[0m in \u001b[0;36m<cell line: 1>\u001b[0;34m()\u001b[0m\n\u001b[0;32m----> 1\u001b[0;31m \u001b[0mmaze\u001b[0m\u001b[0;34m.\u001b[0m\u001b[0magent\u001b[0m \u001b[0;34m=\u001b[0m \u001b[0mQLearningAgent\u001b[0m\u001b[0;34m(\u001b[0m\u001b[0mn_states\u001b[0m\u001b[0;34m=\u001b[0m\u001b[0mmaze\u001b[0m\u001b[0;34m.\u001b[0m\u001b[0menvironment\u001b[0m\u001b[0;34m,\u001b[0m \u001b[0mn_actions\u001b[0m\u001b[0;34m=\u001b[0m\u001b[0;36m3\u001b[0m\u001b[0;34m,\u001b[0m \u001b[0mlearning_rate\u001b[0m\u001b[0;34m=\u001b[0m\u001b[0;36m1.0\u001b[0m\u001b[0;34m)\u001b[0m\u001b[0;34m\u001b[0m\u001b[0;34m\u001b[0m\u001b[0m\n\u001b[0m\u001b[1;32m      2\u001b[0m \u001b[0mmaze\u001b[0m\u001b[0;34m.\u001b[0m\u001b[0magent\u001b[0m\u001b[0;34m\u001b[0m\u001b[0;34m\u001b[0m\u001b[0m\n",
            "\u001b[0;31mAttributeError\u001b[0m: 'Maze' object has no attribute 'environment'"
          ]
        }
      ]
    },
    {
      "cell_type": "code",
      "execution_count": 158,
      "metadata": {
        "colab": {
          "base_uri": "https://localhost:8080/",
          "height": 235
        },
        "id": "Cc9DTZ8YE_uA",
        "outputId": "532f82f6-1259-4e3e-fe2e-7b77efa08e3b"
      },
      "outputs": [
        {
          "output_type": "error",
          "ename": "TypeError",
          "evalue": "ignored",
          "traceback": [
            "\u001b[0;31m---------------------------------------------------------------------------\u001b[0m",
            "\u001b[0;31mTypeError\u001b[0m                                 Traceback (most recent call last)",
            "\u001b[0;32m<ipython-input-158-9a3c28a3de97>\u001b[0m in \u001b[0;36m<cell line: 1>\u001b[0;34m()\u001b[0m\n\u001b[0;32m----> 1\u001b[0;31m rewards, epsilon_history = Maze.play(\n\u001b[0m\u001b[1;32m      2\u001b[0m     \u001b[0mn_episodes\u001b[0m\u001b[0;34m=\u001b[0m\u001b[0;36m10_000\u001b[0m\u001b[0;34m,\u001b[0m\u001b[0;34m\u001b[0m\u001b[0;34m\u001b[0m\u001b[0m\n\u001b[1;32m      3\u001b[0m     \u001b[0mmax_epsilon\u001b[0m\u001b[0;34m=\u001b[0m\u001b[0;36m1.0\u001b[0m\u001b[0;34m,\u001b[0m\u001b[0;34m\u001b[0m\u001b[0;34m\u001b[0m\u001b[0m\n\u001b[1;32m      4\u001b[0m     \u001b[0mmin_epsilon\u001b[0m\u001b[0;34m=\u001b[0m\u001b[0;36m0.05\u001b[0m\u001b[0;34m,\u001b[0m\u001b[0;34m\u001b[0m\u001b[0;34m\u001b[0m\u001b[0m\n\u001b[1;32m      5\u001b[0m     \u001b[0mdecay_rate\u001b[0m\u001b[0;34m=\u001b[0m\u001b[0;36m0.0001\u001b[0m\u001b[0;34m,\u001b[0m\u001b[0;34m\u001b[0m\u001b[0;34m\u001b[0m\u001b[0m\n",
            "\u001b[0;31mTypeError\u001b[0m: Maze.play() got an unexpected keyword argument 'n_episodes'"
          ]
        }
      ],
      "source": [
        "rewards, epsilon_history = Maze.play(\n",
        "    n_episodes=10_000,\n",
        "    max_epsilon=1.0,\n",
        "    min_epsilon=0.05,\n",
        "    decay_rate=0.0001,\n",
        "    gamma=0.95,\n",
        "    learn=True,\n",
        "    viz=False,\n",
        "    human=False,\n",
        "    log=False\n",
        ")"
      ]
    },
    {
      "cell_type": "markdown",
      "metadata": {
        "id": "vBoNmeG0E_uA"
      },
      "source": [
        "#### 3. Feladat - Vizualizáld a megadott kezdőponttal a tanulás eredményét (0.5. pont)"
      ]
    },
    {
      "cell_type": "code",
      "execution_count": 137,
      "metadata": {
        "colab": {
          "base_uri": "https://localhost:8080/",
          "height": 435
        },
        "id": "FHSpzNxIE_uA",
        "outputId": "39e4d339-ed7e-4c3a-fca2-a3bc22ee2d1e"
      },
      "outputs": [
        {
          "output_type": "display_data",
          "data": {
            "text/plain": [
              "<Figure size 640x480 with 2 Axes>"
            ],
            "image/png": "[encoded data removed]"
          },
          "metadata": {}
        }
      ],
      "source": [
        "maze.viz_route(6, 5)"
      ]
    }
  ],
  "metadata": {
    "kernelspec": {
      "display_name": "KDP",
      "language": "python",
      "name": "python3"
    },
    "language_info": {
      "codemirror_mode": {
        "name": "ipython",
        "version": 3
      },
      "file_extension": ".py",
      "mimetype": "text/x-python",
      "name": "python",
      "nbconvert_exporter": "python",
      "pygments_lexer": "ipython3",
      "version": "3.10.4"
    },
    "orig_nbformat": 4,
    "colab": {
      "provenance": []
    }
  },
  "nbformat": 4,
  "nbformat_minor": 0
}